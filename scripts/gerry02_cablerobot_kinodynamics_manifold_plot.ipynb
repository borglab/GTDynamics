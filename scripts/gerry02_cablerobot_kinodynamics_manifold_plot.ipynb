{
 "cells": [
  {
   "cell_type": "code",
   "execution_count": null,
   "metadata": {},
   "outputs": [],
   "source": [
    "import matplotlib.pyplot as plt\n",
    "import numpy as np"
   ]
  },
  {
   "cell_type": "code",
   "execution_count": null,
   "metadata": {},
   "outputs": [],
   "source": [
    "def load(fname):\n",
    "    data = np.loadtxt(fname, delimiter=',', skiprows=1)\n",
    "    ls = data[:, :4]\n",
    "    ldots = data[:, 4:8]\n",
    "    lddots = data[:, 8:12]\n",
    "    taus = data[:, 12:16]\n",
    "    xyz = data[:, 16:19]\n",
    "    rot_xyzw = data[:, 19:23]\n",
    "    return ls, ldots, lddots, taus, xyz, rot_xyzw\n",
    "\n",
    "\n",
    "_, _, _, _, xyz_init, _ = load('/Users/gerry/Downloads/init_traj.csv')\n",
    "_, _, _, _, xyz_soft, _ = load('/Users/gerry/Downloads/soft_traj.csv')\n",
    "_, _, _, _, xyz_manifold_feasible, _ = load('/Users/gerry/Downloads/manifold_feasible_traj.csv')\n"
   ]
  },
  {
   "cell_type": "code",
   "execution_count": null,
   "metadata": {},
   "outputs": [],
   "source": [
    "plt.plot(xyz_soft[:, 0], xyz_soft[:, 1], 'r-')\n",
    "plt.plot(xyz_manifold_feasible[:, 0], xyz_manifold_feasible[:, 1], 'k.')"
   ]
  },
  {
   "cell_type": "code",
   "execution_count": null,
   "metadata": {},
   "outputs": [],
   "source": [
    "_, _, _, taus, _, _ = load('/Users/gerry/Downloads/soft_traj.csv')\n",
    "plt.plot(taus)"
   ]
  },
  {
   "cell_type": "code",
   "execution_count": null,
   "metadata": {},
   "outputs": [],
   "source": [
    "_, _, _, taus, _, _ = load('/Users/gerry/Downloads/manifold_feasible_traj.csv')\n",
    "plt.plot(taus)"
   ]
  },
  {
   "cell_type": "code",
   "execution_count": null,
   "metadata": {},
   "outputs": [],
   "source": []
  }
 ],
 "metadata": {
  "kernelspec": {
   "display_name": "Python 3.9.6 ('base')",
   "language": "python",
   "name": "python3"
  },
  "language_info": {
   "codemirror_mode": {
    "name": "ipython",
    "version": 3
   },
   "file_extension": ".py",
   "mimetype": "text/x-python",
   "name": "python",
   "nbconvert_exporter": "python",
   "pygments_lexer": "ipython3",
   "version": "3.9.6"
  },
  "orig_nbformat": 4,
  "vscode": {
   "interpreter": {
    "hash": "402f513bd64bb05ccdfd11315d0c88453571d1d1d73db48414a1b2a41f771ebc"
   }
  }
 },
 "nbformat": 4,
 "nbformat_minor": 2
}
