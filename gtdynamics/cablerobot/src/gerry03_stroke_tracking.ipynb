{
 "cells": [
  {
   "cell_type": "code",
   "execution_count": null,
   "id": "08dd84c0",
   "metadata": {},
   "outputs": [],
   "source": [
    "%load_ext autoreload\n",
    "%autoreload 2\n",
    "import time\n",
    "import numpy as np\n",
    "import matplotlib.pyplot as plt\n",
    "from IPython.display import Image, display\n",
    "%aimport -np\n",
    "%aimport -plt\n",
    "%aimport -display\n",
    "\n",
    "from draw_cdpr import plot_trajectory\n",
    "from draw_controller import draw_controller_anim\n",
    "import gerry02_traj_tracking\n",
    "import gerry03_stroke_tracking"
   ]
  },
  {
   "cell_type": "code",
   "execution_count": null,
   "id": "d191f422",
   "metadata": {},
   "outputs": [],
   "source": [
    "def timed(func, *args, **kwargs):\n",
    "    tstart = time.time()\n",
    "    rets = func(*args, **kwargs)\n",
    "    print(\"Time elapsed: \", time.time() - tstart)\n",
    "    return rets"
   ]
  },
  {
   "cell_type": "code",
   "execution_count": null,
   "id": "cb4afa56",
   "metadata": {},
   "outputs": [],
   "source": [
    "fname='data/ATL_filled.h'"
   ]
  },
  {
   "cell_type": "code",
   "execution_count": null,
   "id": "72dcedc4",
   "metadata": {
    "scrolled": true
   },
   "outputs": [],
   "source": [
    "cdpr, controller, result, des_poses, dt = timed(gerry03_stroke_tracking.main, fname=fname, Q=np.ones(6)*1e1, R=np.ones(1)*1e-3, speed_multiplier=1)\n"
   ]
  },
  {
   "cell_type": "code",
   "execution_count": null,
   "id": "0151948c",
   "metadata": {},
   "outputs": [],
   "source": [
    "cdpr_2, controller_2, result_2, N, dt, pdes = timed(gerry02_traj_tracking.main, fname=fname, Q=np.ones(6)*1e1, R=np.ones(1)*1e-3, dN=1, debug=False, speed_multiplier=1)\n"
   ]
  },
  {
   "cell_type": "code",
   "execution_count": null,
   "id": "095ea4e5",
   "metadata": {
    "scrolled": false
   },
   "outputs": [],
   "source": [
    "gerry02_traj_tracking.plot(cdpr, controller, result, len(des_poses), dt, des_poses)"
   ]
  },
  {
   "cell_type": "code",
   "execution_count": null,
   "id": "d4947413",
   "metadata": {},
   "outputs": [],
   "source": [
    "gerry02_traj_tracking.plot(cdpr_2, controller_2, result_2, len(pdes), dt, pdes)"
   ]
  },
  {
   "cell_type": "code",
   "execution_count": null,
   "id": "6c0951da",
   "metadata": {},
   "outputs": [],
   "source": [
    "gerry03_stroke_tracking.save_controller('data/test_params2.h', all_controllers)"
   ]
  },
  {
   "cell_type": "code",
   "execution_count": null,
   "id": "0feaf679",
   "metadata": {},
   "outputs": [],
   "source": [
    "cProfile.run('_ = gerry03_stroke_tracking.main(fname=fname)', sort=SortKey.TIME)"
   ]
  }
 ],
 "metadata": {
  "kernelspec": {
   "display_name": "Python 3 (ipykernel)",
   "language": "python",
   "name": "python3"
  },
  "language_info": {
   "codemirror_mode": {
    "name": "ipython",
    "version": 3
   },
   "file_extension": ".py",
   "mimetype": "text/x-python",
   "name": "python",
   "nbconvert_exporter": "python",
   "pygments_lexer": "ipython3",
   "version": "3.9.6"
  }
 },
 "nbformat": 4,
 "nbformat_minor": 5
}
