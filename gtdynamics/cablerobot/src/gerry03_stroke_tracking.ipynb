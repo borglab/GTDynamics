{
 "cells": [
  {
   "cell_type": "code",
   "execution_count": 8,
   "id": "08dd84c0",
   "metadata": {},
   "outputs": [
    {
     "name": "stdout",
     "output_type": "stream",
     "text": [
      "The autoreload extension is already loaded. To reload it, use:\n",
      "  %reload_ext autoreload\n"
     ]
    }
   ],
   "source": [
    "%load_ext autoreload\n",
    "%autoreload 2\n",
    "import numpy as np\n",
    "import matplotlib.pyplot as plt\n",
    "from IPython.display import Image, display\n",
    "%aimport -np\n",
    "%aimport -plt\n",
    "%aimport -display\n",
    "\n",
    "from draw_cdpr import plot_trajectory\n",
    "from draw_controller import draw_controller_anim\n",
    "import gerry03_stroke_tracking"
   ]
  },
  {
   "cell_type": "code",
   "execution_count": 12,
   "id": "72dcedc4",
   "metadata": {},
   "outputs": [
    {
     "name": "stdout",
     "output_type": "stream",
     "text": [
      "Starting stroke 0 of 145\n",
      "Starting stroke 1 of 145\n",
      "Starting stroke 2 of 145\n",
      "Starting stroke 3 of 145\n",
      "Starting stroke 4 of 145\n",
      "Starting stroke 5 of 145\n",
      "Starting stroke 6 of 145\n"
     ]
    }
   ],
   "source": [
    "# cdpr, all_controllers, all_results, strokes, dt = gerry03_stroke_tracking.main(fname='data/ATL_filled.h', Q=np.ones(6)*1e1, R=np.ones(1)*1e-3, dN=100, debug=False, speed_multiplier=1)\n",
    "cdpr, all_controllers, all_results, strokes, dt = gerry03_stroke_tracking.main()"
   ]
  },
  {
   "cell_type": "code",
   "execution_count": null,
   "id": "095ea4e5",
   "metadata": {},
   "outputs": [],
   "source": [
    "gerry03_stroke_tracking.plot(cdpr, all_results, strokes, dt)\n",
    "plt.show()"
   ]
  },
  {
   "cell_type": "code",
   "execution_count": null,
   "id": "6c0951da",
   "metadata": {},
   "outputs": [],
   "source": []
  }
 ],
 "metadata": {
  "kernelspec": {
   "display_name": "Python 3 (ipykernel)",
   "language": "python",
   "name": "python3"
  },
  "language_info": {
   "codemirror_mode": {
    "name": "ipython",
    "version": 3
   },
   "file_extension": ".py",
   "mimetype": "text/x-python",
   "name": "python",
   "nbconvert_exporter": "python",
   "pygments_lexer": "ipython3",
   "version": "3.9.6"
  }
 },
 "nbformat": 4,
 "nbformat_minor": 5
}
