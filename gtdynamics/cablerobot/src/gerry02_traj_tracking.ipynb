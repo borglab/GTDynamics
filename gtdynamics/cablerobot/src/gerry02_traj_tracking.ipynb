{
 "cells": [
  {
   "cell_type": "code",
   "execution_count": null,
   "id": "impressive-plumbing",
   "metadata": {},
   "outputs": [],
   "source": [
    "%load_ext autoreload\n",
    "%autoreload 2\n",
    "import numpy as np\n",
    "%aimport -np\n",
    "\n",
    "from draw_cdpr import plot_all\n",
    "from gerry02_traj_tracking import main"
   ]
  },
  {
   "cell_type": "code",
   "execution_count": null,
   "id": "fifteen-crawford",
   "metadata": {
    "scrolled": true
   },
   "outputs": [],
   "source": [
    "cdpr, controller, result, N, dt, pdes = main(Q=np.ones(6)*1e3, R=np.ones(1)*1e-3, debug=False)\n",
    "# cdpr, controller, result, N, dt, pdes = main(Q=np.ones(6)*1e3, R=np.ones(1)*1e-3, N0=9700, N=2000, dN=5, debug=False)"
   ]
  },
  {
   "cell_type": "code",
   "execution_count": null,
   "id": "generic-calibration",
   "metadata": {},
   "outputs": [],
   "source": [
    "anim = plot_all(cdpr, result, dt*N, dt, N, pdes, step=10);"
   ]
  },
  {
   "cell_type": "code",
   "execution_count": null,
   "id": "broad-profit",
   "metadata": {},
   "outputs": [],
   "source": [
    "import matplotlib\n",
    "matplotlib.rcParams['animation.embed_limit'] = 25.0\n",
    "from IPython.display import HTML\n",
    "HTML(anim.to_html5_video())"
   ]
  },
  {
   "cell_type": "code",
   "execution_count": null,
   "id": "joint-batch",
   "metadata": {},
   "outputs": [],
   "source": []
  }
 ],
 "metadata": {
  "kernelspec": {
   "display_name": "Python 3",
   "language": "python",
   "name": "python3"
  },
  "language_info": {
   "codemirror_mode": {
    "name": "ipython",
    "version": 3
   },
   "file_extension": ".py",
   "mimetype": "text/x-python",
   "name": "python",
   "nbconvert_exporter": "python",
   "pygments_lexer": "ipython3",
   "version": "3.8.3"
  }
 },
 "nbformat": 4,
 "nbformat_minor": 5
}
