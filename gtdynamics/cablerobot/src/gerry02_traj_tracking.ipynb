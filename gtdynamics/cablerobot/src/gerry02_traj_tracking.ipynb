{
 "cells": [
  {
   "cell_type": "code",
   "execution_count": null,
   "id": "impressive-plumbing",
   "metadata": {},
   "outputs": [],
   "source": [
    "%load_ext autoreload\n",
    "%autoreload 2\n",
    "import numpy as np\n",
    "import matplotlib.pyplot as plt\n",
    "from IPython.display import Image, display\n",
    "%aimport -np\n",
    "%aimport -plt\n",
    "%aimport -display\n",
    "\n",
    "from draw_cdpr import plot_trajectory\n",
    "from draw_controller import draw_controller_anim\n",
    "from gerry02_traj_tracking import main, plot, save_controller"
   ]
  },
  {
   "cell_type": "code",
   "execution_count": null,
   "id": "fifteen-crawford",
   "metadata": {
    "scrolled": true
   },
   "outputs": [],
   "source": [
    "# cdpr, controller, result, N, dt, pdes = main(Q=np.ones(6)*1e3, R=np.ones(1)*1e-3, debug=False)\n",
    "cdpr, controller, result, N, dt, pdes = main(Q=np.ones(6)*1e3, R=np.ones(1)*1e-3, N0=9700, dN=10, debug=False)"
   ]
  },
  {
   "cell_type": "code",
   "execution_count": null,
   "id": "generic-calibration",
   "metadata": {
    "scrolled": true
   },
   "outputs": [],
   "source": [
    "# Plot Trajectory\n",
    "anim = plot_trajectory(cdpr, result, dt*N, dt, N, pdes, step=10);\n",
    "plt.suptitle('Motor inertia: {:.1e} kg.m^2'.format(cdpr.params.winch_params.inertia_));"
   ]
  },
  {
   "cell_type": "code",
   "execution_count": null,
   "id": "daily-visiting",
   "metadata": {},
   "outputs": [],
   "source": [
    "# Animate Trajectory\n",
    "import matplotlib\n",
    "matplotlib.rcParams['animation.embed_limit'] = 25.0\n",
    "from IPython.display import HTML\n",
    "HTML(anim.to_html5_video())"
   ]
  },
  {
   "cell_type": "code",
   "execution_count": null,
   "id": "joint-batch",
   "metadata": {},
   "outputs": [],
   "source": [
    "# Plot Controller Gains\n",
    "anim2 = draw_controller_anim(cdpr, controller, result, N, step=50);"
   ]
  },
  {
   "cell_type": "code",
   "execution_count": null,
   "id": "expired-inclusion",
   "metadata": {},
   "outputs": [],
   "source": [
    "# Animate Controller Gains\n",
    "from IPython.display import HTML\n",
    "HTML(anim2.to_html5_video())"
   ]
  },
  {
   "cell_type": "code",
   "execution_count": null,
   "id": "other-calvin",
   "metadata": {},
   "outputs": [],
   "source": [
    "save_controller('data/iros_logo_2_controller.h', controller)"
   ]
  },
  {
   "cell_type": "code",
   "execution_count": null,
   "id": "obvious-girlfriend",
   "metadata": {},
   "outputs": [],
   "source": []
  }
 ],
 "metadata": {
  "kernelspec": {
   "display_name": "Python 3",
   "language": "python",
   "name": "python3"
  },
  "language_info": {
   "codemirror_mode": {
    "name": "ipython",
    "version": 3
   },
   "file_extension": ".py",
   "mimetype": "text/x-python",
   "name": "python",
   "nbconvert_exporter": "python",
   "pygments_lexer": "ipython3",
   "version": "3.8.3"
  }
 },
 "nbformat": 4,
 "nbformat_minor": 5
}
