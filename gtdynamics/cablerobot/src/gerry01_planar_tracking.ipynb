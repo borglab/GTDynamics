{
 "cells": [
  {
   "cell_type": "code",
   "execution_count": null,
   "id": "adolescent-campus",
   "metadata": {},
   "outputs": [],
   "source": [
    "import gtdynamics as gtd\n",
    "import gtsam\n",
    "import numpy as np\n",
    "from gtsam import Pose3, Rot3\n",
    "\n",
    "from cdpr_planar import Cdpr\n",
    "from cdpr_controller_ilqr import CdprControllerIlqr as CdprController\n",
    "# from cdpr_controller_tension_dist import CdprControllerTensionDist as CdprController\n",
    "from cdpr_planar_sim import CdprSimulator"
   ]
  },
  {
   "cell_type": "code",
   "execution_count": null,
   "id": "absolute-royalty",
   "metadata": {},
   "outputs": [],
   "source": [
    "# problem parameters\n",
    "Tf = 1\n",
    "dt = 0.01\n",
    "N = int(Tf / dt)\n",
    "cdpr = Cdpr()\n",
    "# set up controller\n",
    "x_des = [\n",
    "    gtsam.Pose3(gtsam.Rot3(),\n",
    "                (1.5 + np.cos(2 * np.pi * i / N), 0, 1.5 + np.sin(2 * np.pi * i / N)))\n",
    "    for i in range(N)\n",
    "]\n",
    "# x_des[0] = x_des[1]"
   ]
  },
  {
   "cell_type": "code",
   "execution_count": null,
   "id": "traditional-running",
   "metadata": {},
   "outputs": [],
   "source": [
    "# initial state\n",
    "x0 = gtsam.Values()\n",
    "gtd.InsertPose(x0, cdpr.ee_id(), 0, x_des[0])\n",
    "gtd.InsertTwist(x0, cdpr.ee_id(), 0, x_des[0].localCoordinates(x_des[1])*N)"
   ]
  },
  {
   "cell_type": "code",
   "execution_count": null,
   "id": "northern-pottery",
   "metadata": {},
   "outputs": [],
   "source": [
    "# controller\n",
    "controller = CdprController(cdpr,\n",
    "                            x0,\n",
    "                            x_des,\n",
    "                            dt=dt,\n",
    "                            Q=np.array([0, 1, 0, 1e3, 0, 1e3]),\n",
    "                            R=np.array([1e-3]))"
   ]
  },
  {
   "cell_type": "code",
   "execution_count": null,
   "id": "enclosed-capacity",
   "metadata": {},
   "outputs": [],
   "source": [
    "# run simulation\n",
    "sim = CdprSimulator(cdpr, x0, controller, dt=dt);\n",
    "result = sim.run(N=N, verbose=False);"
   ]
  },
  {
   "cell_type": "code",
   "execution_count": null,
   "id": "copyrighted-model",
   "metadata": {},
   "outputs": [],
   "source": [
    "# plot utils\n",
    "poses = [gtd.Pose(result, cdpr.ee_id(), k) for k in range(N+1)]\n",
    "posesxy = np.array([[pose.x() for pose in poses], [pose.z() for pose in poses]])\n",
    "desposesxy = np.array([[pose.x() for pose in x_des], [pose.z() for pose in x_des]]);\n",
    "torques = np.array([[gtd.TorqueDouble(result, ji, k) for ji in range(4)] for k in range(N)]);\n",
    "boxinds = np.array([0,1,2,3,0]).reshape(5,1)\n",
    "def ee_coords(k):\n",
    "    points = []\n",
    "    for corner in [0,1,2,3,0]:\n",
    "        pose = poses[k]\n",
    "        point = pose.transformFrom(cdpr.params.b_locs[corner])\n",
    "        points.append(point)\n",
    "    points = np.array(points)\n",
    "    return points[:, [0,2]].T\n",
    "    # return (posesxy[:, k]+cdpr.params.b_locs[boxinds, [0,2]]).T\n",
    "frame_coords = cdpr.params.a_locs[boxinds, [0,2]].T\n",
    "def cable_coords(k, ji):\n",
    "    point = poses[k].transformFrom(cdpr.params.b_locs[ji])\n",
    "    return np.array([[cdpr.params.a_locs[ji][0], point[0]],\n",
    "                     [cdpr.params.a_locs[ji][2], point[2]]])\n",
    "    return np.array([[cdpr.params.a_locs[ji][0], posesxy[0][k]+cdpr.params.b_locs[ji][0]],\n",
    "                     [cdpr.params.a_locs[ji][2], posesxy[1][k]+cdpr.params.b_locs[ji][2]]])"
   ]
  },
  {
   "cell_type": "code",
   "execution_count": null,
   "id": "announced-pittsburgh",
   "metadata": {},
   "outputs": [],
   "source": [
    "# plot\n",
    "import matplotlib.pyplot as plt\n",
    "fig = plt.figure(1, figsize=(12,4))\n",
    "# xy plot\n",
    "plt.subplot(1,2,1)\n",
    "plt.plot(*frame_coords, 'k-')\n",
    "plt.plot(*desposesxy, 'r*') # desired trajectory\n",
    "ltraj, = plt.plot(*posesxy, 'k-') # actual trajectory\n",
    "lscables = []\n",
    "for ji in range(4):\n",
    "    lscables.append(plt.plot(*cable_coords(0, ji))[0])\n",
    "lee, = plt.plot(*ee_coords(0))\n",
    "plt.axis('equal')\n",
    "plt.xlabel('x(m)');plt.ylabel('y(m)');plt.title('Trajectory')\n",
    "# controls\n",
    "plt.subplot(1,2,2)\n",
    "lsctrl = plt.plot(np.arange(0,Tf,dt), torques)\n",
    "plt.xlabel('time (s)');plt.ylabel('Cable tension (N)');plt.title('Control Inputs');"
   ]
  },
  {
   "cell_type": "code",
   "execution_count": null,
   "id": "faced-compact",
   "metadata": {
    "scrolled": false
   },
   "outputs": [],
   "source": [
    "# animate\n",
    "plt.rcParams[\"savefig.dpi\"] = 80\n",
    "import matplotlib.animation as animation\n",
    "from IPython.display import HTML\n",
    "\n",
    "def update_line(num):\n",
    "    ltraj.set_data(posesxy[0][:num], posesxy[1][:num])\n",
    "    for ji in range(4):\n",
    "        lsctrl[ji].set_data(np.arange(0,Tf,dt)[:num], torques[:num, ji])\n",
    "        lscables[ji].set_data(cable_coords(num, ji))\n",
    "    lee.set_data(*ee_coords(num))\n",
    "    lines = [ltraj, *lsctrl, *lscables, lee]\n",
    "    return lines\n",
    "\n",
    "anim = animation.FuncAnimation(fig, update_line, len(posesxy[0]),\n",
    "                               interval=100, blit=True)\n",
    "HTML(anim.to_html5_video())"
   ]
  }
 ],
 "metadata": {
  "kernelspec": {
   "display_name": "Python 3",
   "language": "python",
   "name": "python3"
  },
  "language_info": {
   "codemirror_mode": {
    "name": "ipython",
    "version": 3
   },
   "file_extension": ".py",
   "mimetype": "text/x-python",
   "name": "python",
   "nbconvert_exporter": "python",
   "pygments_lexer": "ipython3",
   "version": "3.8.3"
  }
 },
 "nbformat": 4,
 "nbformat_minor": 5
}
