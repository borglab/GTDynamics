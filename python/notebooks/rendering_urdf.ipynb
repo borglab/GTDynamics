{
 "cells": [
  {
   "cell_type": "markdown",
   "metadata": {},
   "source": [
    "## Loading and rendering a URDF\n",
    "\n",
    "To run this notebook, first install trimesh, urdfpy, and pythreejs with\n",
    "```\n",
    "pip install trimesh urdfpy\n",
    "conda install -c conda-forge pythreejs \n",
    "```\n",
    "\n",
    "See [urdfpy documentation](https://urdfpy.readthedocs.io/en/latest/examples/index.html)."
   ]
  },
  {
   "cell_type": "code",
   "execution_count": 1,
   "metadata": {},
   "outputs": [],
   "source": [
    "import math\n",
    "import numpy as np\n",
    "\n",
    "import urdfpy\n",
    "import pythreejs\n",
    "import gtsam\n",
    "from IPython.display import display"
   ]
  },
  {
   "cell_type": "code",
   "execution_count": 142,
   "metadata": {},
   "outputs": [
    {
     "name": "stderr",
     "output_type": "stream",
     "text": [
      "/home/acoadmarmon/miniconda3/lib/python3.8/site-packages/urdfpy/urdf.py:2169: RuntimeWarning: invalid value encountered in true_divide\n",
      "  value = value / np.linalg.norm(value)\n"
     ]
    }
   ],
   "source": [
    "robot = urdfpy.URDF.load(\"../../urdfs/humanoid/nao.urdf\")"
   ]
  },
  {
   "cell_type": "code",
   "execution_count": 143,
   "metadata": {},
   "outputs": [
    {
     "name": "stdout",
     "output_type": "stream",
     "text": [
      "['Neck', 'Head', 'gaze', 'LPelvis', 'LHip', 'LThigh', 'LTibia', 'LAnklePitch', 'l_ankle', 'l_sole', 'RPelvis', 'RHip', 'RThigh', 'RTibia', 'RAnklePitch', 'r_ankle', 'r_sole', 'base_link', 'torso', 'LShoulder', 'LBicep', 'LElbow', 'LForeArm', 'l_wrist', 'l_gripper', 'RShoulder', 'RBicep', 'RElbow', 'RForeArm', 'r_wrist', 'r_gripper', 'LFootBumperRight_frame', 'RFsrRL_frame', 'CameraBottom_optical_frame', 'RFsrRR_frame', 'LFsrFR_frame', 'LHandTouchLeft_frame', 'RFootBumperRight_frame', 'RFsrFR_frame', 'LFsrRR_frame', 'ImuTorsoAccelerometer_frame', 'HeadTouchFront_frame', 'RFootBumperLeft_frame', 'RSonar_frame', 'RHandTouchRight_frame', 'RHandTouchBack_frame', 'RFsrFL_frame', 'LSonar_frame', 'LFsrFL_frame', 'LFsrRL_frame', 'RHandTouchLeft_frame', 'CameraBottom_frame', 'CameraTop_frame', 'CameraTop_optical_frame', 'LHandTouchBack_frame', 'LInfraRed_frame', 'ImuTorsoGyrometer_frame', 'HeadTouchRear_frame', 'HeadTouchMiddle_frame', 'RInfraRed_frame', 'ChestButton_frame', 'LFootBumperLeft_frame', 'LHandTouchRight_frame', 'RFinger13_link', 'RFinger12_link', 'LFinger21_link', 'LFinger13_link', 'LFinger11_link', 'RFinger22_link', 'LFinger22_link', 'RFinger21_link', 'LFinger12_link', 'RFinger23_link', 'RFinger11_link', 'LFinger23_link', 'LThumb1_link', 'RThumb1_link', 'RThumb2_link', 'LThumb2_link']\n",
      "[None, None, None, None, None, None, None, None, None, None, None, None, None, None, None, None, None, None, None, None, None, None, None, None, None, None, None, None, None, None, None, None, None, None, None, None, None, None, None, None, None, None, None, None, None, None, None, None, None, None, None, None, None, None, None, None, None, None, None, None, None, None, None, None, None, None, None, None, None, None, None, None, None, None, None, None, None, None, None]\n"
     ]
    }
   ],
   "source": [
    "print([link.name for link in robot.links])\n",
    "print([link._collision_mesh for link in robot.links])"
   ]
  },
  {
   "cell_type": "code",
   "execution_count": 144,
   "metadata": {},
   "outputs": [
    {
     "name": "stdout",
     "output_type": "stream",
     "text": [
      "[('Accelerometer_sensor_fixedjoint', ('torso', 'ImuTorsoAccelerometer_frame')), ('CameraBottom_optical_frame_fixedjoint', ('CameraBottom_frame', 'CameraBottom_optical_frame')), ('CameraBottom_sensor_fixedjoint', ('Head', 'CameraBottom_frame')), ('CameraTop_optical_frame_fixedjoint', ('CameraTop_frame', 'CameraTop_optical_frame')), ('CameraTop_sensor_fixedjoint', ('Head', 'CameraTop_frame')), ('ChestBoard/Button_sensor_fixedjoint', ('torso', 'ChestButton_frame')), ('Gyrometer_sensor_fixedjoint', ('torso', 'ImuTorsoGyrometer_frame')), ('Head/Touch/Front_sensor_fixedjoint', ('Head', 'HeadTouchFront_frame')), ('Head/Touch/Middle_sensor_fixedjoint', ('Head', 'HeadTouchMiddle_frame')), ('Head/Touch/Rear_sensor_fixedjoint', ('Head', 'HeadTouchRear_frame')), ('HeadPitch', ('Neck', 'Head')), ('HeadYaw', ('torso', 'Neck')), ('InfraredL_sensor_fixedjoint', ('Head', 'LInfraRed_frame')), ('InfraredR_sensor_fixedjoint', ('Head', 'RInfraRed_frame')), ('LAnklePitch', ('LTibia', 'LAnklePitch')), ('LAnkleRoll', ('LAnklePitch', 'l_ankle')), ('LElbowRoll', ('LElbow', 'LForeArm')), ('LElbowYaw', ('LBicep', 'LElbow')), ('LFinger11', ('l_wrist', 'LFinger11_link')), ('LFinger12', ('LFinger11_link', 'LFinger12_link')), ('LFinger13', ('LFinger12_link', 'LFinger13_link')), ('LFinger21', ('l_wrist', 'LFinger21_link')), ('LFinger22', ('LFinger21_link', 'LFinger22_link')), ('LFinger23', ('LFinger22_link', 'LFinger23_link')), ('LFoot/Bumper/Left_sensor_fixedjoint', ('l_ankle', 'LFootBumperLeft_frame')), ('LFoot/Bumper/Right_sensor_fixedjoint', ('l_ankle', 'LFootBumperRight_frame')), ('LFoot/FSR/FrontLeft_sensor_fixedjoint', ('l_ankle', 'LFsrFL_frame')), ('LFoot/FSR/FrontRight_sensor_fixedjoint', ('l_ankle', 'LFsrFR_frame')), ('LFoot/FSR/RearLeft_sensor_fixedjoint', ('l_ankle', 'LFsrRL_frame')), ('LFoot/FSR/RearRight_sensor_fixedjoint', ('l_ankle', 'LFsrRR_frame')), ('LHand', ('l_wrist', 'l_gripper')), ('LHand/Touch/Back_sensor_fixedjoint', ('l_wrist', 'LHandTouchBack_frame')), ('LHand/Touch/Left_sensor_fixedjoint', ('l_wrist', 'LHandTouchLeft_frame')), ('LHand/Touch/Right_sensor_fixedjoint', ('l_wrist', 'LHandTouchRight_frame')), ('LHipPitch', ('LHip', 'LThigh')), ('LHipRoll', ('LPelvis', 'LHip')), ('LHipYawPitch', ('torso', 'LPelvis')), ('LKneePitch', ('LThigh', 'LTibia')), ('LLeg_effector_fixedjoint', ('l_ankle', 'l_sole')), ('LShoulderPitch', ('torso', 'LShoulder')), ('LShoulderRoll', ('LShoulder', 'LBicep')), ('LThumb1', ('l_wrist', 'LThumb1_link')), ('LThumb2', ('LThumb1_link', 'LThumb2_link')), ('LWristYaw', ('LForeArm', 'l_wrist')), ('RAnklePitch', ('RTibia', 'RAnklePitch')), ('RAnkleRoll', ('RAnklePitch', 'r_ankle')), ('RElbowRoll', ('RElbow', 'RForeArm')), ('RElbowYaw', ('RBicep', 'RElbow')), ('RFinger11', ('r_wrist', 'RFinger11_link')), ('RFinger12', ('RFinger11_link', 'RFinger12_link')), ('RFinger13', ('RFinger12_link', 'RFinger13_link')), ('RFinger21', ('r_wrist', 'RFinger21_link')), ('RFinger22', ('RFinger21_link', 'RFinger22_link')), ('RFinger23', ('RFinger22_link', 'RFinger23_link')), ('RFoot/Bumper/Left_sensor_fixedjoint', ('r_ankle', 'RFootBumperLeft_frame')), ('RFoot/Bumper/Right_sensor_fixedjoint', ('r_ankle', 'RFootBumperRight_frame')), ('RFoot/FSR/FrontLeft_sensor_fixedjoint', ('r_ankle', 'RFsrFL_frame')), ('RFoot/FSR/FrontRight_sensor_fixedjoint', ('r_ankle', 'RFsrFR_frame')), ('RFoot/FSR/RearLeft_sensor_fixedjoint', ('r_ankle', 'RFsrRL_frame')), ('RFoot/FSR/RearRight_sensor_fixedjoint', ('r_ankle', 'RFsrRR_frame')), ('RHand', ('r_wrist', 'r_gripper')), ('RHand/Touch/Back_sensor_fixedjoint', ('r_wrist', 'RHandTouchBack_frame')), ('RHand/Touch/Left_sensor_fixedjoint', ('r_wrist', 'RHandTouchLeft_frame')), ('RHand/Touch/Right_sensor_fixedjoint', ('r_wrist', 'RHandTouchRight_frame')), ('RHipPitch', ('RHip', 'RThigh')), ('RHipRoll', ('RPelvis', 'RHip')), ('RHipYawPitch', ('torso', 'RPelvis')), ('RKneePitch', ('RThigh', 'RTibia')), ('RLeg_effector_fixedjoint', ('r_ankle', 'r_sole')), ('RShoulderPitch', ('torso', 'RShoulder')), ('RShoulderRoll', ('RShoulder', 'RBicep')), ('RThumb1', ('r_wrist', 'RThumb1_link')), ('RThumb2', ('RThumb1_link', 'RThumb2_link')), ('RWristYaw', ('RForeArm', 'r_wrist')), ('Sonar/Left_sensor_fixedjoint', ('torso', 'LSonar_frame')), ('Sonar/Right_sensor_fixedjoint', ('torso', 'RSonar_frame')), ('base_link_fixedjoint', ('base_link', 'torso')), ('gaze_joint', ('Head', 'gaze'))]\n"
     ]
    }
   ],
   "source": [
    "print(sorted({j.name:(j.parent, j.child) for j in robot.joints}.items()))"
   ]
  },
  {
   "cell_type": "code",
   "execution_count": 145,
   "metadata": {},
   "outputs": [
    {
     "name": "stdout",
     "output_type": "stream",
     "text": [
      "HeadYaw\n",
      "LHipYawPitch\n",
      "LShoulderPitch\n",
      "RShoulderPitch\n",
      "LShoulderRoll\n",
      "RHipRoll\n",
      "RShoulderRoll\n",
      "LHipRoll\n",
      "HeadPitch\n",
      "RHipPitch\n",
      "LHipPitch\n",
      "LElbowYaw\n",
      "RElbowYaw\n",
      "RElbowRoll\n",
      "LKneePitch\n",
      "LElbowRoll\n",
      "RKneePitch\n",
      "RAnklePitch\n",
      "RWristYaw\n",
      "LWristYaw\n",
      "LAnklePitch\n",
      "RAnkleRoll\n",
      "LAnkleRoll\n",
      "LHand\n",
      "RHand\n"
     ]
    }
   ],
   "source": [
    "for joint in robot.actuated_joints:\n",
    "    print(joint.name)"
   ]
  },
  {
   "cell_type": "code",
   "execution_count": 146,
   "metadata": {},
   "outputs": [
    {
     "name": "stdout",
     "output_type": "stream",
     "text": [
      "base_link\n",
      "None\n"
     ]
    }
   ],
   "source": [
    "print(robot.base_link.name)\n",
    "print(robot.base_link._collision_mesh)"
   ]
  },
  {
   "cell_type": "markdown",
   "metadata": {},
   "source": [
    "fk = robot.link_fk()\n",
    "pose = fk[robot.links[4]]\n",
    "print(pose)"
   ]
  },
  {
   "cell_type": "code",
   "execution_count": 148,
   "metadata": {},
   "outputs": [
    {
     "data": {
      "text/plain": [
       "OrderedDict([(<trimesh.Trimesh(vertices.shape=(686, 3), faces.shape=(722, 3))>,\n",
       "              array([[1., 0., 0., 0.],\n",
       "                     [0., 1., 0., 0.],\n",
       "                     [0., 0., 1., 0.],\n",
       "                     [0., 0., 0., 1.]])),\n",
       "             (<trimesh.Trimesh(vertices.shape=(8, 3), faces.shape=(8, 3))>,\n",
       "              array([[1.    , 0.    , 0.    , 0.    ],\n",
       "                     [0.    , 1.    , 0.    , 0.    ],\n",
       "                     [0.    , 0.    , 1.    , 0.1265],\n",
       "                     [0.    , 0.    , 0.    , 1.    ]])),\n",
       "             (<trimesh.Trimesh(vertices.shape=(4255, 3), faces.shape=(7845, 3))>,\n",
       "              array([[1.    , 0.    , 0.    , 0.    ],\n",
       "                     [0.    , 1.    , 0.    , 0.    ],\n",
       "                     [0.    , 0.    , 1.    , 0.1265],\n",
       "                     [0.    , 0.    , 0.    , 1.    ]])),\n",
       "             (<trimesh.Trimesh(vertices.shape=(487, 3), faces.shape=(297, 3))>,\n",
       "              array([[ 1.   ,  0.   ,  0.   ,  0.   ],\n",
       "                     [ 0.   ,  1.   ,  0.   ,  0.05 ],\n",
       "                     [ 0.   ,  0.   ,  1.   , -0.085],\n",
       "                     [ 0.   ,  0.   ,  0.   ,  1.   ]])),\n",
       "             (<trimesh.Trimesh(vertices.shape=(17, 3), faces.shape=(9, 3))>,\n",
       "              array([[ 1.   ,  0.   ,  0.   ,  0.   ],\n",
       "                     [ 0.   ,  1.   ,  0.   ,  0.05 ],\n",
       "                     [ 0.   ,  0.   ,  1.   , -0.085],\n",
       "                     [ 0.   ,  0.   ,  0.   ,  1.   ]])),\n",
       "             (<trimesh.Trimesh(vertices.shape=(271, 3), faces.shape=(225, 3))>,\n",
       "              array([[ 1.   ,  0.   ,  0.   ,  0.   ],\n",
       "                     [ 0.   ,  1.   ,  0.   ,  0.05 ],\n",
       "                     [ 0.   ,  0.   ,  1.   , -0.085],\n",
       "                     [ 0.   ,  0.   ,  0.   ,  1.   ]])),\n",
       "             (<trimesh.Trimesh(vertices.shape=(344, 3), faces.shape=(341, 3))>,\n",
       "              array([[ 1.   ,  0.   ,  0.   ,  0.   ],\n",
       "                     [ 0.   ,  1.   ,  0.   ,  0.05 ],\n",
       "                     [ 0.   ,  0.   ,  1.   , -0.185],\n",
       "                     [ 0.   ,  0.   ,  0.   ,  1.   ]])),\n",
       "             (<trimesh.Trimesh(vertices.shape=(21, 3), faces.shape=(13, 3))>,\n",
       "              array([[ 1.    ,  0.    ,  0.    ,  0.    ],\n",
       "                     [ 0.    ,  1.    ,  0.    ,  0.05  ],\n",
       "                     [ 0.    ,  0.    ,  1.    , -0.2879],\n",
       "                     [ 0.    ,  0.    ,  0.    ,  1.    ]])),\n",
       "             (<trimesh.Trimesh(vertices.shape=(362, 3), faces.shape=(313, 3))>,\n",
       "              array([[ 1.    ,  0.    ,  0.    ,  0.    ],\n",
       "                     [ 0.    ,  1.    ,  0.    ,  0.05  ],\n",
       "                     [ 0.    ,  0.    ,  1.    , -0.2879],\n",
       "                     [ 0.    ,  0.    ,  0.    ,  1.    ]])),\n",
       "             (<trimesh.Trimesh(vertices.shape=(485, 3), faces.shape=(297, 3))>,\n",
       "              array([[ 1.   ,  0.   ,  0.   ,  0.   ],\n",
       "                     [ 0.   ,  1.   ,  0.   , -0.05 ],\n",
       "                     [ 0.   ,  0.   ,  1.   , -0.085],\n",
       "                     [ 0.   ,  0.   ,  0.   ,  1.   ]])),\n",
       "             (<trimesh.Trimesh(vertices.shape=(17, 3), faces.shape=(9, 3))>,\n",
       "              array([[ 1.   ,  0.   ,  0.   ,  0.   ],\n",
       "                     [ 0.   ,  1.   ,  0.   , -0.05 ],\n",
       "                     [ 0.   ,  0.   ,  1.   , -0.085],\n",
       "                     [ 0.   ,  0.   ,  0.   ,  1.   ]])),\n",
       "             (<trimesh.Trimesh(vertices.shape=(276, 3), faces.shape=(225, 3))>,\n",
       "              array([[ 1.   ,  0.   ,  0.   ,  0.   ],\n",
       "                     [ 0.   ,  1.   ,  0.   , -0.05 ],\n",
       "                     [ 0.   ,  0.   ,  1.   , -0.085],\n",
       "                     [ 0.   ,  0.   ,  0.   ,  1.   ]])),\n",
       "             (<trimesh.Trimesh(vertices.shape=(342, 3), faces.shape=(341, 3))>,\n",
       "              array([[ 1.   ,  0.   ,  0.   ,  0.   ],\n",
       "                     [ 0.   ,  1.   ,  0.   , -0.05 ],\n",
       "                     [ 0.   ,  0.   ,  1.   , -0.185],\n",
       "                     [ 0.   ,  0.   ,  0.   ,  1.   ]])),\n",
       "             (<trimesh.Trimesh(vertices.shape=(21, 3), faces.shape=(13, 3))>,\n",
       "              array([[ 1.    ,  0.    ,  0.    ,  0.    ],\n",
       "                     [ 0.    ,  1.    ,  0.    , -0.05  ],\n",
       "                     [ 0.    ,  0.    ,  1.    , -0.2879],\n",
       "                     [ 0.    ,  0.    ,  0.    ,  1.    ]])),\n",
       "             (<trimesh.Trimesh(vertices.shape=(361, 3), faces.shape=(313, 3))>,\n",
       "              array([[ 1.    ,  0.    ,  0.    ,  0.    ],\n",
       "                     [ 0.    ,  1.    ,  0.    , -0.05  ],\n",
       "                     [ 0.    ,  0.    ,  1.    , -0.2879],\n",
       "                     [ 0.    ,  0.    ,  0.    ,  1.    ]])),\n",
       "             (<trimesh.Trimesh(vertices.shape=(27, 3), faces.shape=(20, 3))>,\n",
       "              array([[1.   , 0.   , 0.   , 0.   ],\n",
       "                     [0.   , 1.   , 0.   , 0.098],\n",
       "                     [0.   , 0.   , 1.   , 0.1  ],\n",
       "                     [0.   , 0.   , 0.   , 1.   ]])),\n",
       "             (<trimesh.Trimesh(vertices.shape=(362, 3), faces.shape=(415, 3))>,\n",
       "              array([[1.   , 0.   , 0.   , 0.   ],\n",
       "                     [0.   , 1.   , 0.   , 0.098],\n",
       "                     [0.   , 0.   , 1.   , 0.1  ],\n",
       "                     [0.   , 0.   , 0.   , 1.   ]])),\n",
       "             (<trimesh.Trimesh(vertices.shape=(87, 3), faces.shape=(83, 3))>,\n",
       "              array([[1.   , 0.   , 0.   , 0.105],\n",
       "                     [0.   , 1.   , 0.   , 0.113],\n",
       "                     [0.   , 0.   , 1.   , 0.1  ],\n",
       "                     [0.   , 0.   , 0.   , 1.   ]])),\n",
       "             (<trimesh.Trimesh(vertices.shape=(2242, 3), faces.shape=(4125, 3))>,\n",
       "              array([[1.     , 0.     , 0.     , 0.16095],\n",
       "                     [0.     , 1.     , 0.     , 0.113  ],\n",
       "                     [0.     , 0.     , 1.     , 0.1    ],\n",
       "                     [0.     , 0.     , 0.     , 1.     ]])),\n",
       "             (<trimesh.Trimesh(vertices.shape=(25, 3), faces.shape=(20, 3))>,\n",
       "              array([[ 1.   ,  0.   ,  0.   ,  0.   ],\n",
       "                     [ 0.   ,  1.   ,  0.   , -0.098],\n",
       "                     [ 0.   ,  0.   ,  1.   ,  0.1  ],\n",
       "                     [ 0.   ,  0.   ,  0.   ,  1.   ]])),\n",
       "             (<trimesh.Trimesh(vertices.shape=(363, 3), faces.shape=(415, 3))>,\n",
       "              array([[ 1.   ,  0.   ,  0.   ,  0.   ],\n",
       "                     [ 0.   ,  1.   ,  0.   , -0.098],\n",
       "                     [ 0.   ,  0.   ,  1.   ,  0.1  ],\n",
       "                     [ 0.   ,  0.   ,  0.   ,  1.   ]])),\n",
       "             (<trimesh.Trimesh(vertices.shape=(84, 3), faces.shape=(82, 3))>,\n",
       "              array([[ 1.   ,  0.   ,  0.   ,  0.105],\n",
       "                     [ 0.   ,  1.   ,  0.   , -0.113],\n",
       "                     [ 0.   ,  0.   ,  1.   ,  0.1  ],\n",
       "                     [ 0.   ,  0.   ,  0.   ,  1.   ]])),\n",
       "             (<trimesh.Trimesh(vertices.shape=(284, 3), faces.shape=(412, 3))>,\n",
       "              array([[ 1.     ,  0.     ,  0.     ,  0.16095],\n",
       "                     [ 0.     ,  1.     ,  0.     , -0.113  ],\n",
       "                     [ 0.     ,  0.     ,  1.     ,  0.1    ],\n",
       "                     [ 0.     ,  0.     ,  0.     ,  1.     ]])),\n",
       "             (<trimesh.Trimesh(vertices.shape=(8, 3), faces.shape=(12, 3))>,\n",
       "              array([[ 1.     ,  0.     ,  0.     , -0.03025],\n",
       "                     [ 0.     ,  1.     ,  0.     , -0.0309 ],\n",
       "                     [ 0.     ,  0.     ,  1.     , -0.33301],\n",
       "                     [ 0.     ,  0.     ,  0.     ,  1.     ]])),\n",
       "             (<trimesh.Trimesh(vertices.shape=(8, 3), faces.shape=(12, 3))>,\n",
       "              array([[ 1.     ,  0.     ,  0.     , -0.02965],\n",
       "                     [ 0.     ,  1.     ,  0.     , -0.0799 ],\n",
       "                     [ 0.     ,  0.     ,  1.     , -0.33301],\n",
       "                     [ 0.     ,  0.     ,  0.     ,  1.     ]])),\n",
       "             (<trimesh.Trimesh(vertices.shape=(8, 3), faces.shape=(12, 3))>,\n",
       "              array([[ 1.     ,  0.     ,  0.     ,  0.07025],\n",
       "                     [ 0.     ,  1.     ,  0.     ,  0.0269 ],\n",
       "                     [ 0.     ,  0.     ,  1.     , -0.33301],\n",
       "                     [ 0.     ,  0.     ,  0.     ,  1.     ]])),\n",
       "             (<trimesh.Trimesh(vertices.shape=(8, 3), faces.shape=(12, 3))>,\n",
       "              array([[ 1.     ,  0.     ,  0.     ,  0.07025],\n",
       "                     [ 0.     ,  1.     ,  0.     , -0.0799 ],\n",
       "                     [ 0.     ,  0.     ,  1.     , -0.33301],\n",
       "                     [ 0.     ,  0.     ,  0.     ,  1.     ]])),\n",
       "             (<trimesh.Trimesh(vertices.shape=(8, 3), faces.shape=(12, 3))>,\n",
       "              array([[ 1.     ,  0.     ,  0.     , -0.02965],\n",
       "                     [ 0.     ,  1.     ,  0.     ,  0.0309 ],\n",
       "                     [ 0.     ,  0.     ,  1.     , -0.33301],\n",
       "                     [ 0.     ,  0.     ,  0.     ,  1.     ]])),\n",
       "             (<trimesh.Trimesh(vertices.shape=(8, 3), faces.shape=(12, 3))>,\n",
       "              array([[ 1.     ,  0.     ,  0.     ,  0.07025],\n",
       "                     [ 0.     ,  1.     ,  0.     , -0.0269 ],\n",
       "                     [ 0.     ,  0.     ,  1.     , -0.33301],\n",
       "                     [ 0.     ,  0.     ,  0.     ,  1.     ]])),\n",
       "             (<trimesh.Trimesh(vertices.shape=(8, 3), faces.shape=(12, 3))>,\n",
       "              array([[ 1.     ,  0.     ,  0.     ,  0.07025],\n",
       "                     [ 0.     ,  1.     ,  0.     ,  0.0799 ],\n",
       "                     [ 0.     ,  0.     ,  1.     , -0.33301],\n",
       "                     [ 0.     ,  0.     ,  0.     ,  1.     ]])),\n",
       "             (<trimesh.Trimesh(vertices.shape=(8, 3), faces.shape=(12, 3))>,\n",
       "              array([[ 1.     ,  0.     ,  0.     , -0.03025],\n",
       "                     [ 0.     ,  1.     ,  0.     ,  0.0799 ],\n",
       "                     [ 0.     ,  0.     ,  1.     , -0.33301],\n",
       "                     [ 0.     ,  0.     ,  0.     ,  1.     ]])),\n",
       "             (<trimesh.Trimesh(vertices.shape=(79, 3), faces.shape=(110, 3))>,\n",
       "              array([[ 5.40387269e-01,  8.41416425e-01,  1.19052346e-06,\n",
       "                       2.30020000e-01],\n",
       "                     [ 1.46110501e-01, -9.38359172e-02, -9.84807871e-01,\n",
       "                      -1.01430000e-01],\n",
       "                     [-8.28633406e-01,  5.32177809e-01, -1.73647510e-01,\n",
       "                       9.69600000e-02],\n",
       "                     [ 0.00000000e+00,  0.00000000e+00,  0.00000000e+00,\n",
       "                       1.00000000e+00]])),\n",
       "             (<trimesh.Trimesh(vertices.shape=(79, 3), faces.shape=(111, 3))>,\n",
       "              array([[-4.15963175e-01,  9.09381459e-01,  1.19052346e-06,\n",
       "                       2.37779961e-01],\n",
       "                     [ 1.57911338e-01,  7.22320358e-02, -9.84807871e-01,\n",
       "                      -9.93318532e-02],\n",
       "                     [-8.95566104e-01, -4.09643620e-01, -1.73647510e-01,\n",
       "                       8.50608243e-02],\n",
       "                     [ 0.00000000e+00,  0.00000000e+00,  0.00000000e+00,\n",
       "                       1.00000000e+00]])),\n",
       "             (<trimesh.Trimesh(vertices.shape=(66, 3), faces.shape=(98, 3))>,\n",
       "              array([[-9.89949696e-01,  1.41419942e-01,  1.19052346e-06,\n",
       "                       2.31806730e-01],\n",
       "                     [ 2.45560602e-02,  1.71902466e-01, -9.84807871e-01,\n",
       "                      -9.70642464e-02],\n",
       "                     [-1.39271677e-01, -9.74910223e-01, -1.73647510e-01,\n",
       "                       7.22004950e-02],\n",
       "                     [ 0.00000000e+00,  0.00000000e+00,  0.00000000e+00,\n",
       "                       1.00000000e+00]])),\n",
       "             (<trimesh.Trimesh(vertices.shape=(79, 3), faces.shape=(111, 3))>,\n",
       "              array([[ 5.40387269e-01,  8.41416425e-01,  1.19052346e-06,\n",
       "                       2.30020000e-01],\n",
       "                     [ 1.46110501e-01, -9.38359172e-02, -9.84807871e-01,\n",
       "                       1.24570000e-01],\n",
       "                     [-8.28633406e-01,  5.32177809e-01, -1.73647510e-01,\n",
       "                       9.69600000e-02],\n",
       "                     [ 0.00000000e+00,  0.00000000e+00,  0.00000000e+00,\n",
       "                       1.00000000e+00]])),\n",
       "             (<trimesh.Trimesh(vertices.shape=(80, 3), faces.shape=(111, 3))>,\n",
       "              array([[-4.15963175e-01,  9.09381459e-01,  1.19052346e-06,\n",
       "                       2.37779961e-01],\n",
       "                     [ 1.57911338e-01,  7.22320358e-02, -9.84807871e-01,\n",
       "                       1.26668147e-01],\n",
       "                     [-8.95566104e-01, -4.09643620e-01, -1.73647510e-01,\n",
       "                       8.50608243e-02],\n",
       "                     [ 0.00000000e+00,  0.00000000e+00,  0.00000000e+00,\n",
       "                       1.00000000e+00]])),\n",
       "             (<trimesh.Trimesh(vertices.shape=(66, 3), faces.shape=(98, 3))>,\n",
       "              array([[-9.89949696e-01,  1.41419942e-01,  1.19052346e-06,\n",
       "                       2.31806730e-01],\n",
       "                     [ 2.45560602e-02,  1.71902466e-01, -9.84807871e-01,\n",
       "                       1.28935754e-01],\n",
       "                     [-1.39271677e-01, -9.74910223e-01, -1.73647510e-01,\n",
       "                       7.22004950e-02],\n",
       "                     [ 0.00000000e+00,  0.00000000e+00,  0.00000000e+00,\n",
       "                       1.00000000e+00]])),\n",
       "             (<trimesh.Trimesh(vertices.shape=(79, 3), faces.shape=(111, 3))>,\n",
       "              array([[ 5.40387269e-01,  8.41416425e-01,  1.04225057e-06,\n",
       "                       2.30020000e-01],\n",
       "                     [-1.46110501e-01,  9.38385305e-02, -9.84807622e-01,\n",
       "                      -1.24570000e-01],\n",
       "                     [-8.28633406e-01,  5.32177349e-01,  1.73648922e-01,\n",
       "                       9.69600000e-02],\n",
       "                     [ 0.00000000e+00,  0.00000000e+00,  0.00000000e+00,\n",
       "                       1.00000000e+00]])),\n",
       "             (<trimesh.Trimesh(vertices.shape=(80, 3), faces.shape=(111, 3))>,\n",
       "              array([[-4.15963175e-01,  9.09381459e-01,  1.04225057e-06,\n",
       "                       2.37779961e-01],\n",
       "                     [-1.57913537e-01, -7.22306236e-02, -9.84807622e-01,\n",
       "                      -1.26668147e-01],\n",
       "                     [-8.95565716e-01, -4.09643869e-01,  1.73648922e-01,\n",
       "                       8.50608243e-02],\n",
       "                     [ 0.00000000e+00,  0.00000000e+00,  0.00000000e+00,\n",
       "                       1.00000000e+00]])),\n",
       "             (<trimesh.Trimesh(vertices.shape=(66, 3), faces.shape=(98, 3))>,\n",
       "              array([[-9.89949696e-01,  1.41419942e-01,  1.04225057e-06,\n",
       "                       2.31806730e-01],\n",
       "                     [-2.45584367e-02, -1.71903553e-01, -9.84807622e-01,\n",
       "                      -1.28935785e-01],\n",
       "                     [-1.39271258e-01, -9.74910031e-01,  1.73648922e-01,\n",
       "                       7.22005006e-02],\n",
       "                     [ 0.00000000e+00,  0.00000000e+00,  0.00000000e+00,\n",
       "                       1.00000000e+00]])),\n",
       "             (<trimesh.Trimesh(vertices.shape=(80, 3), faces.shape=(111, 3))>,\n",
       "              array([[ 5.40387269e-01,  8.41416425e-01,  1.04225057e-06,\n",
       "                       2.30020000e-01],\n",
       "                     [-1.46110501e-01,  9.38385305e-02, -9.84807622e-01,\n",
       "                       1.01430000e-01],\n",
       "                     [-8.28633406e-01,  5.32177349e-01,  1.73648922e-01,\n",
       "                       9.69600000e-02],\n",
       "                     [ 0.00000000e+00,  0.00000000e+00,  0.00000000e+00,\n",
       "                       1.00000000e+00]])),\n",
       "             (<trimesh.Trimesh(vertices.shape=(80, 3), faces.shape=(111, 3))>,\n",
       "              array([[-4.15963175e-01,  9.09381459e-01,  1.04225057e-06,\n",
       "                       2.37779961e-01],\n",
       "                     [-1.57913537e-01, -7.22306236e-02, -9.84807622e-01,\n",
       "                       9.93318532e-02],\n",
       "                     [-8.95565716e-01, -4.09643869e-01,  1.73648922e-01,\n",
       "                       8.50608243e-02],\n",
       "                     [ 0.00000000e+00,  0.00000000e+00,  0.00000000e+00,\n",
       "                       1.00000000e+00]])),\n",
       "             (<trimesh.Trimesh(vertices.shape=(66, 3), faces.shape=(98, 3))>,\n",
       "              array([[-9.89949696e-01,  1.41419942e-01,  1.04225057e-06,\n",
       "                       2.31806730e-01],\n",
       "                     [-2.45584367e-02, -1.71903553e-01, -9.84807622e-01,\n",
       "                       9.70642148e-02],\n",
       "                     [-1.39271258e-01, -9.74910031e-01,  1.73648922e-01,\n",
       "                       7.22005006e-02],\n",
       "                     [ 0.00000000e+00,  0.00000000e+00,  0.00000000e+00,\n",
       "                       1.00000000e+00]])),\n",
       "             (<trimesh.Trimesh(vertices.shape=(79, 3), faces.shape=(110, 3))>,\n",
       "              array([[ 9.98881639e-01, -4.72807665e-02, -1.40989353e-07,\n",
       "                       2.09900000e-01],\n",
       "                     [-3.26460491e-08, -3.67165984e-06,  1.00000000e+00,\n",
       "                      -1.13000000e-01],\n",
       "                     [-4.72807665e-02, -9.98881639e-01, -3.66909713e-06,\n",
       "                       7.36200000e-02],\n",
       "                     [ 0.00000000e+00,  0.00000000e+00,  0.00000000e+00,\n",
       "                       1.00000000e+00]])),\n",
       "             (<trimesh.Trimesh(vertices.shape=(66, 3), faces.shape=(98, 3))>,\n",
       "              array([[ 5.79565756e-01,  8.14925478e-01, -1.40989353e-07,\n",
       "                       2.24243940e-01],\n",
       "                     [ 3.07175334e-06, -2.01158724e-06,  1.00000000e+00,\n",
       "                      -1.13000000e-01],\n",
       "                     [ 8.14925478e-01, -5.79565756e-01, -3.66909713e-06,\n",
       "                       7.29410482e-02],\n",
       "                     [ 0.00000000e+00,  0.00000000e+00,  0.00000000e+00,\n",
       "                       1.00000000e+00]])),\n",
       "             (<trimesh.Trimesh(vertices.shape=(79, 3), faces.shape=(110, 3))>,\n",
       "              array([[ 9.98881639e-01, -4.72807665e-02, -1.40989353e-07,\n",
       "                       2.09900000e-01],\n",
       "                     [-3.26460491e-08, -3.67165984e-06,  1.00000000e+00,\n",
       "                       1.13000000e-01],\n",
       "                     [-4.72807665e-02, -9.98881639e-01, -3.66909713e-06,\n",
       "                       7.36200000e-02],\n",
       "                     [ 0.00000000e+00,  0.00000000e+00,  0.00000000e+00,\n",
       "                       1.00000000e+00]])),\n",
       "             (<trimesh.Trimesh(vertices.shape=(66, 3), faces.shape=(98, 3))>,\n",
       "              array([[ 5.79565756e-01,  8.14925478e-01, -1.40989353e-07,\n",
       "                       2.24243940e-01],\n",
       "                     [ 3.07175334e-06, -2.01158724e-06,  1.00000000e+00,\n",
       "                       1.13000000e-01],\n",
       "                     [ 8.14925478e-01, -5.79565756e-01, -3.66909713e-06,\n",
       "                       7.29410482e-02],\n",
       "                     [ 0.00000000e+00,  0.00000000e+00,  0.00000000e+00,\n",
       "                       1.00000000e+00]]))])"
      ]
     },
     "execution_count": 148,
     "metadata": {},
     "output_type": "execute_result"
    }
   ],
   "source": [
    "visuals = robot.collision_trimesh_fk()\n",
    "visuals\n",
    "#robot.show()"
   ]
  },
  {
   "cell_type": "code",
   "execution_count": 149,
   "metadata": {},
   "outputs": [],
   "source": [
    "def buffer_geometry_from_trimesh(mesh):\n",
    "  \"\"\"Converts trimesh object to pythreejs.BufferGeometry.\"\"\"\n",
    "  # Based on tensorflow_graphics/notebooks/threejs_visualization.py\n",
    "  # However, does not work!\n",
    "  # This is annoyingly complex see https://threejsfundamentals.org/threejs/lessons/threejs-custom-buffergeometry.html\n",
    "\n",
    "  geometry = pythreejs.BufferGeometry()\n",
    "\n",
    "  #  geometry.addAttribute('position', context.THREE.BufferAttribute.new_object(vertices, 3))\n",
    "  vertices = mesh.vertices.astype(np.float32)\n",
    "  position = pythreejs.BufferAttribute(vertices, normalized=False)\n",
    "  geometry.attributes['position'] = position\n",
    "\n",
    "  # geometry.setIndex(context.THREE.BufferAttribute.new_object(faces, 1))\n",
    "  faces = mesh.faces.astype(np.uint32).ravel()\n",
    "  index = pythreejs.BufferAttribute(faces, normalized=False)\n",
    "  geometry.index = index\n",
    "  \n",
    "  # geometry.computeVertexNormals()\n",
    "  normals = mesh.vertex_normals.astype(np.float32)\n",
    "  normal = pythreejs.BufferAttribute(normals, normalized=False)\n",
    "  geometry.attributes['normal'] = normal\n",
    "\n",
    "  return geometry"
   ]
  },
  {
   "cell_type": "code",
   "execution_count": 150,
   "metadata": {},
   "outputs": [],
   "source": [
    "def geometry_from_trimesh(mesh):\n",
    "  \"\"\"Converts trimesh object to pythreejs.BufferGeometry.\"\"\"\n",
    "\n",
    "  geometry = pythreejs.Geometry()\n",
    "\n",
    "  geometry.vertices = mesh.vertices.tolist()\n",
    "  geometry.faces = [pythreejs.Face3.klass(list(f) + [None]*3) for f in mesh.faces.tolist()]\n",
    "  geometry.normals = mesh.vertex_normals.tolist() # no effect?\n",
    "\n",
    "  return geometry"
   ]
  },
  {
   "cell_type": "code",
   "execution_count": 151,
   "metadata": {
    "tags": []
   },
   "outputs": [
    {
     "data": {
      "application/vnd.jupyter.widget-view+json": {
       "model_id": "56d9240a96334610bbf8f5d6ddd58e13",
       "version_major": 2,
       "version_minor": 0
      },
      "text/plain": [
       "Preview(child=Mesh(geometry=Geometry(colors=['#ffffff'], faces=((1, 4, 5, None, None, None), (2, 3, 7, None, N…"
      ]
     },
     "metadata": {},
     "output_type": "display_data"
    }
   ],
   "source": [
    "# render last occlusion geometry for debugging\n",
    "geometry = geometry_from_trimesh(list(visuals)[1])\n",
    "material = pythreejs.MeshBasicMaterial(color=\"red\")\n",
    "mesh = pythreejs.Mesh( geometry, material )\n",
    "mesh"
   ]
  },
  {
   "cell_type": "code",
   "execution_count": 152,
   "metadata": {},
   "outputs": [],
   "source": [
    "view_width = 600\n",
    "view_height = 400\n",
    "camera = pythreejs.CombinedCamera(position=[-1, 0, 0], width=view_width, height=view_height)"
   ]
  },
  {
   "cell_type": "code",
   "execution_count": 153,
   "metadata": {},
   "outputs": [],
   "source": [
    "# Create scene\n",
    "# gray = pythreejs.MeshStandardMaterial(color=\"gray\", metalNess=0.2, roughness=0.8)\n",
    "# blue = pythreejs.MeshStandardMaterial(color=\"blue\", metalNess=0.2, roughness=0.8)\n",
    "# gray = pythreejs.MeshPhysicalMaterial(color=\"red\")\n",
    "# blue = pythreejs.MeshPhysicalMaterial(color=\"green\")\n",
    "gray = pythreejs.MeshBasicMaterial(color=\"gray\")\n",
    "blue = pythreejs.MeshBasicMaterial(color=\"blue\")\n",
    "scene = pythreejs.Scene()\n",
    "def xyzw(pose):\n",
    "    q = pose.rotation().quaternion() # wxyz\n",
    "    return q[1],q[2],q[3],q[0]\n",
    "material = blue\n",
    "for tm in visuals:\n",
    "    matrix = visuals[tm] # this is the 4*4 transform, go figure\n",
    "    pose = gtsam.Pose3(matrix) # convert to GTSAM so we can get quaternion\n",
    "    geometry = geometry_from_trimesh(tm) # what we really want!\n",
    "    mesh = pythreejs.Mesh(geometry, material,\n",
    "                          position=pose.translation().tolist(), \n",
    "                          quaternion=xyzw(pose))\n",
    "    scene.add(mesh)\n",
    "    material = blue if material == gray else gray"
   ]
  },
  {
   "cell_type": "code",
   "execution_count": 154,
   "metadata": {},
   "outputs": [
    {
     "data": {
      "application/vnd.jupyter.widget-view+json": {
       "model_id": "9d5e7cd6786b49cbb25501353a01e264",
       "version_major": 2,
       "version_minor": 0
      },
      "text/plain": [
       "Renderer(camera=CombinedCamera(height=400.0, position=(-1.0, 0.0, 0.0), projectionMatrix=(1.4296712803397058, …"
      ]
     },
     "metadata": {},
     "output_type": "display_data"
    }
   ],
   "source": [
    "key_light = pythreejs.PointLight(position=[1, 1, 1], intensity=1.5)\n",
    "ambient_light = pythreejs.AmbientLight(intensity=0.4)\n",
    "scene.add(key_light)\n",
    "scene.add(ambient_light)\n",
    "scene.add(camera)\n",
    "for axis, color in [([1, 0, 0],\"red\"),([0, 1, 0],\"green\"),([0, 0, 1],\"blue\")]:\n",
    "    gz = pythreejs.LineSegmentsGeometry(positions=[[[0, 0, 0], axis]])\n",
    "    mz = pythreejs.LineMaterial(linewidth=10, color=color)\n",
    "    scene.add(pythreejs.LineSegments2(gz, mz))\n",
    "renderer = pythreejs.Renderer(scene=scene, camera=camera, controls=[pythreejs.OrbitControls(controlling=camera)],\n",
    "                    width=view_width, height=view_height)\n",
    "display(renderer)"
   ]
  },
  {
   "cell_type": "code",
   "execution_count": 13,
   "metadata": {},
   "outputs": [
    {
     "data": {
      "application/vnd.jupyter.widget-view+json": {
       "model_id": "6305ed1ce2454eb8a07a912d1abede46",
       "version_major": 2,
       "version_minor": 0
      },
      "text/plain": [
       "interactive(children=(Checkbox(value=True, description='ortho'), Output()), _dom_classes=('widget-interact',))"
      ]
     },
     "metadata": {},
     "output_type": "display_data"
    }
   ],
   "source": [
    "from ipywidgets import interact\n",
    "@interact(ortho=True)\n",
    "def setOrthographic(ortho:bool):\n",
    "    camera.mode = 'orthographic' if ortho else 'perspective'"
   ]
  },
  {
   "cell_type": "code",
   "execution_count": null,
   "metadata": {},
   "outputs": [],
   "source": []
  }
 ],
 "metadata": {
  "kernelspec": {
   "display_name": "Python 3",
   "language": "python",
   "name": "python3"
  },
  "language_info": {
   "codemirror_mode": {
    "name": "ipython",
    "version": 3
   },
   "file_extension": ".py",
   "mimetype": "text/x-python",
   "name": "python",
   "nbconvert_exporter": "python",
   "pygments_lexer": "ipython3",
   "version": "3.8.5"
  }
 },
 "nbformat": 4,
 "nbformat_minor": 2
}
