{
 "metadata": {
  "language_info": {
   "codemirror_mode": {
    "name": "ipython",
    "version": 3
   },
   "file_extension": ".py",
   "mimetype": "text/x-python",
   "name": "python",
   "nbconvert_exporter": "python",
   "pygments_lexer": "ipython3",
   "version": "3.7.6"
  },
  "orig_nbformat": 2,
  "kernelspec": {
   "name": "python376jvsc74a57bd0cf5ba4561f13e182f8bb4211efd31352d5bcc4fd9f227cefcb3cfb0b495ac329",
   "display_name": "Python 3.7.6 64-bit ('base': conda)"
  }
 },
 "nbformat": 4,
 "nbformat_minor": 2,
 "cells": [
  {
   "cell_type": "markdown",
   "source": [
    "## Loading and rendering a URDF\n",
    "\n",
    "To run this notebook, first install trimesh, urdfpy, and pythreejs with\n",
    "```\n",
    "pip install trimesh urdfpy\n",
    "conda install -c conda-forge pythreejs \n",
    "```\n",
    "\n",
    "See [urdfpy documentation](https://urdfpy.readthedocs.io/en/latest/examples/index.html)."
   ],
   "metadata": {}
  },
  {
   "cell_type": "code",
   "execution_count": null,
   "source": [
    "import math\n",
    "import numpy as np\n",
    "\n",
    "import urdfpy\n",
    "import pythreejs\n",
    "import gtsam\n",
    "from IPython.display import display"
   ],
   "outputs": [],
   "metadata": {}
  },
  {
   "cell_type": "code",
   "execution_count": null,
   "source": [
    "robot = urdfpy.URDF.load(\"../../models/urdfs/ur5/ur5.urdf\")"
   ],
   "outputs": [],
   "metadata": {}
  },
  {
   "cell_type": "code",
   "execution_count": null,
   "source": [
    "print([link.name for link in robot.links])"
   ],
   "outputs": [],
   "metadata": {}
  },
  {
   "cell_type": "code",
   "execution_count": null,
   "source": [
    "print(sorted({j.name:(j.parent, j.child) for j in robot.joints}.items()))"
   ],
   "outputs": [],
   "metadata": {}
  },
  {
   "cell_type": "code",
   "execution_count": null,
   "source": [
    "fk = robot.link_fk()\n",
    "pose = fk[robot.links[4]]\n",
    "print(pose)"
   ],
   "outputs": [],
   "metadata": {}
  },
  {
   "cell_type": "code",
   "execution_count": null,
   "source": [
    "# We use collision geometry which is much simpler than visuals!\n",
    "q = {'shoulder_lift_joint' : math.radians(-30), 'elbow_joint' : math.radians(60)}\n",
    "visuals = robot.collision_trimesh_fk(cfg=q)"
   ],
   "outputs": [],
   "metadata": {}
  },
  {
   "cell_type": "code",
   "execution_count": null,
   "source": [
    "def buffer_geometry_from_trimesh(mesh):\n",
    "  \"\"\"Converts trimesh object to pythreejs.BufferGeometry.\"\"\"\n",
    "  # Based on tensorflow_graphics/notebooks/threejs_visualization.py\n",
    "  # However, does not work!\n",
    "  # This is annoyingly complex see https://threejsfundamentals.org/threejs/lessons/threejs-custom-buffergeometry.html\n",
    "\n",
    "  geometry = pythreejs.BufferGeometry()\n",
    "\n",
    "  #  geometry.addAttribute('position', context.THREE.BufferAttribute.new_object(vertices, 3))\n",
    "  vertices = mesh.vertices.astype(np.float32)\n",
    "  position = pythreejs.BufferAttribute(vertices, normalized=False)\n",
    "  geometry.attributes['position'] = position\n",
    "\n",
    "  # geometry.setIndex(context.THREE.BufferAttribute.new_object(faces, 1))\n",
    "  faces = mesh.faces.astype(np.uint32).ravel()\n",
    "  index = pythreejs.BufferAttribute(faces, normalized=False)\n",
    "  geometry.index = index\n",
    "  \n",
    "  # geometry.computeVertexNormals()\n",
    "  normals = mesh.vertex_normals.astype(np.float32)\n",
    "  normal = pythreejs.BufferAttribute(normals, normalized=False)\n",
    "  geometry.attributes['normal'] = normal\n",
    "\n",
    "  return geometry"
   ],
   "outputs": [],
   "metadata": {}
  },
  {
   "cell_type": "code",
   "execution_count": null,
   "source": [
    "def geometry_from_trimesh(mesh):\n",
    "  \"\"\"Converts trimesh object to pythreejs.BufferGeometry.\"\"\"\n",
    "\n",
    "  geometry = pythreejs.Geometry()\n",
    "\n",
    "  geometry.vertices = mesh.vertices.tolist()\n",
    "  geometry.faces = [pythreejs.Face3.klass(list(f) + [None]*3) for f in mesh.faces.tolist()]\n",
    "  geometry.normals = mesh.vertex_normals.tolist() # no effect?\n",
    "\n",
    "  return geometry"
   ],
   "outputs": [],
   "metadata": {}
  },
  {
   "cell_type": "code",
   "execution_count": null,
   "source": [
    "# render last occlusion geometry for debugging\n",
    "geometry = geometry_from_trimesh(list(visuals)[0])\n",
    "material = pythreejs.MeshBasicMaterial(color=\"red\")\n",
    "mesh = pythreejs.Mesh( geometry, material )\n",
    "mesh"
   ],
   "outputs": [],
   "metadata": {
    "tags": []
   }
  },
  {
   "cell_type": "code",
   "execution_count": null,
   "source": [
    "view_width = 600\n",
    "view_height = 400\n",
    "camera = pythreejs.CombinedCamera(position=[-1, 0, 0], width=view_width, height=view_height)"
   ],
   "outputs": [],
   "metadata": {}
  },
  {
   "cell_type": "code",
   "execution_count": null,
   "source": [
    "# Create scene\n",
    "# gray = pythreejs.MeshStandardMaterial(color=\"gray\", metalNess=0.2, roughness=0.8)\n",
    "# blue = pythreejs.MeshStandardMaterial(color=\"blue\", metalNess=0.2, roughness=0.8)\n",
    "# gray = pythreejs.MeshPhysicalMaterial(color=\"red\")\n",
    "# blue = pythreejs.MeshPhysicalMaterial(color=\"green\")\n",
    "gray = pythreejs.MeshBasicMaterial(color=\"gray\")\n",
    "blue = pythreejs.MeshBasicMaterial(color=\"blue\")\n",
    "scene = pythreejs.Scene()\n",
    "def xyzw(pose):\n",
    "    q = pose.rotation().quaternion() # wxyz\n",
    "    return q[1],q[2],q[3],q[0]\n",
    "material = blue\n",
    "for tm in visuals:\n",
    "    matrix = visuals[tm] # this is the 4*4 transform, go figure\n",
    "    pose = gtsam.Pose3(matrix) # convert to GTSAM so we can get quaternion\n",
    "    geometry = geometry_from_trimesh(tm) # what we really want!\n",
    "    mesh = pythreejs.Mesh(geometry, material,\n",
    "                          position=pose.translation().tolist(), \n",
    "                          quaternion=xyzw(pose))\n",
    "    scene.add(mesh)\n",
    "    material = blue if material == gray else gray"
   ],
   "outputs": [],
   "metadata": {}
  },
  {
   "cell_type": "code",
   "execution_count": null,
   "source": [
    "key_light = pythreejs.PointLight(position=[1, 1, 1], intensity=1.5)\n",
    "ambient_light = pythreejs.AmbientLight(intensity=0.4)\n",
    "scene.add(key_light)\n",
    "scene.add(ambient_light)\n",
    "scene.add(camera)\n",
    "for axis, color in [([1, 0, 0],\"red\"),([0, 1, 0],\"green\"),([0, 0, 1],\"blue\")]:\n",
    "    gz = pythreejs.LineSegmentsGeometry(positions=[[[0, 0, 0], axis]])\n",
    "    mz = pythreejs.LineMaterial(linewidth=10, color=color)\n",
    "    scene.add(pythreejs.LineSegments2(gz, mz))\n",
    "renderer = pythreejs.Renderer(scene=scene, camera=camera, controls=[pythreejs.OrbitControls(controlling=camera)],\n",
    "                    width=view_width, height=view_height)\n",
    "display(renderer)"
   ],
   "outputs": [],
   "metadata": {}
  },
  {
   "cell_type": "code",
   "execution_count": null,
   "source": [
    "from ipywidgets import interact\n",
    "@interact(ortho=True)\n",
    "def setOrthographic(ortho:bool):\n",
    "    camera.mode = 'orthographic' if ortho else 'perspective'"
   ],
   "outputs": [],
   "metadata": {}
  },
  {
   "cell_type": "code",
   "execution_count": null,
   "source": [],
   "outputs": [],
   "metadata": {}
  }
 ]
}