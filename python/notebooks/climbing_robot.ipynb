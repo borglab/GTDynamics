{
 "cells": [
  {
   "cell_type": "code",
   "execution_count": 1,
   "id": "beb1b724",
   "metadata": {},
   "outputs": [],
   "source": [
    "import gtdynamics as gtd\n",
    "from gtdynamics import ContactGoal, PointOnLink, Slice, Interval\n",
    "from gtsam import Pose3, Point3\n",
    "import numpy as np\n",
    "import pandas\n",
    "import plotly.express as px\n",
    "import pybullet as p\n",
    "import gtsam\n",
    "import matplotlib.pyplot as plt\n",
    "from mpl_toolkits import mplot3d # run: python3 -m pip install --upgrade matplotlib\n",
    "# import roboplot  # Be sure to install package with `pip install -U roboplot`\n",
    "import unittest\n",
    "import networkx as nx\n",
    "import find_holds"
   ]
  },
  {
   "cell_type": "code",
   "execution_count": 2,
   "id": "eb62f9d0",
   "metadata": {},
   "outputs": [],
   "source": [
    "# Bring in the robot model\n",
    "# robot = gtd.CreateRobotFromFile(gtd.URDF_PATH + \"/humanoid/nao.urdf\");\n",
    "robot = gtd.CreateRobotFromFile(gtd.URDF_PATH + \"/quad_climb_robot.urdf\"); # robot object\n",
    "# roboplot.plot_robot(robot, \"body\")"
   ]
  },
  {
   "cell_type": "code",
   "execution_count": 3,
   "id": "888ded33",
   "metadata": {},
   "outputs": [
    {
     "name": "stdout",
     "output_type": "stream",
     "text": [
      "[(0, 'body'), (1, 'hip2'), (2, 'upper2'), (3, 'lower2'), (4, 'grab2'), (5, 'hip3'), (6, 'upper3'), (7, 'lower3'), (8, 'grab3'), (9, 'hip0'), (10, 'upper0'), (11, 'lower0'), (12, 'grab0'), (13, 'hip1'), (14, 'upper1'), (15, 'lower1'), (16, 'grab1')]\n"
     ]
    }
   ],
   "source": [
    "link_names = [(link.id(), link.name()) for link in robot.links()]\n",
    "link_names.sort()\n",
    "print(link_names)"
   ]
  },
  {
   "cell_type": "code",
   "execution_count": 11,
   "id": "9778d118",
   "metadata": {},
   "outputs": [
    {
     "name": "stdout",
     "output_type": "stream",
     "text": [
      "[(9, '0', 0\n",
      "\tid=9\n",
      "\tparent link: hip0\n",
      "\tchild link: upper0\n",
      "\tscrew axis (parent):  2.65359e-06            1 -1.27535e-22            0            0            0), (10, '1', 1\n",
      "\tid=10\n",
      "\tparent link: upper0\n",
      "\tchild link: lower0\n",
      "\tscrew axis (parent): -4.91555e-17           -1  -5.4733e-17 -4.33873e-17 -7.11529e-18         0.13), (0, '10', 10\n",
      "\tid=0\n",
      "\tparent link: body\n",
      "\tchild link: hip2\n",
      "\tscrew axis (parent):   -0    0   -1 0.15 0.15   -0), (4, '11', 11\n",
      "\tid=4\n",
      "\tparent link: body\n",
      "\tchild link: hip3\n",
      "\tscrew axis (parent):     0    -0    -1  0.15 -0.15     0), (11, '12', 12\n",
      "\tid=11\n",
      "\tparent link: lower0\n",
      "\tchild link: grab0\n",
      "\tscrew axis (parent):           -1  1.45921e-16   7.0666e-16 -2.33392e-32 -2.77556e-16  2.42861e-17), (15, '13', 13\n",
      "\tid=15\n",
      "\tparent link: lower1\n",
      "\tchild link: grab1\n",
      "\tscrew axis (parent):           -1  -4.1587e-17  1.72881e-16   1.3105e-32 -5.55112e-17    6.245e-17), (3, '14', 14\n",
      "\tid=3\n",
      "\tparent link: lower2\n",
      "\tchild link: grab2\n",
      "\tscrew axis (parent):           -1 -1.15834e-16  6.77853e-16  1.97661e-32 -3.33067e-16 -2.77556e-17), (7, '15', 15\n",
      "\tid=7\n",
      "\tparent link: lower3\n",
      "\tchild link: grab3\n",
      "\tscrew axis (parent):           -1   4.1587e-17  1.72881e-16  -1.3105e-32 -5.55112e-17   -6.245e-17), (13, '2', 2\n",
      "\tid=13\n",
      "\tparent link: hip1\n",
      "\tchild link: upper1\n",
      "\tscrew axis (parent): 2.75719e-17          -1           0           0           0           0), (14, '3', 3\n",
      "\tid=14\n",
      "\tparent link: upper1\n",
      "\tchild link: lower1\n",
      "\tscrew axis (parent): -2.02275e-17           -1 -5.81724e-18  1.26252e-17 -7.56241e-19         0.13), (1, '4', 4\n",
      "\tid=1\n",
      "\tparent link: hip2\n",
      "\tchild link: upper2\n",
      "\tscrew axis (parent):  2.65359e-06            1 -1.27535e-22            0            0            0), (2, '5', 5\n",
      "\tid=2\n",
      "\tparent link: upper2\n",
      "\tchild link: lower2\n",
      "\tscrew axis (parent):  3.55852e-17           -1   5.7567e-17 -5.25054e-18  7.48371e-18         0.13), (5, '6', 6\n",
      "\tid=5\n",
      "\tparent link: hip3\n",
      "\tchild link: upper3\n",
      "\tscrew axis (parent): -2.75719e-17           -1            0           -0            0            0), (6, '7', 7\n",
      "\tid=6\n",
      "\tparent link: upper3\n",
      "\tchild link: lower3\n",
      "\tscrew axis (parent): 2.02275e-17          -1 5.81724e-18 1.26252e-17 7.56241e-19        0.13), (8, '8', 8\n",
      "\tid=8\n",
      "\tparent link: body\n",
      "\tchild link: hip0\n",
      "\tscrew axis (parent):     0    -0    -1 -0.15  0.15     0), (12, '9', 9\n",
      "\tid=12\n",
      "\tparent link: body\n",
      "\tchild link: hip1\n",
      "\tscrew axis (parent):    -0     0    -1 -0.15 -0.15     0)]\n"
     ]
    }
   ],
   "source": [
    "joint_names = [(joint.id(), joint.name(), joint) for joint in robot.joints()]\n",
    "print(joint_names)"
   ]
  },
  {
   "cell_type": "code",
   "execution_count": 4,
   "id": "f443053e",
   "metadata": {},
   "outputs": [
    {
     "name": "stdout",
     "output_type": "stream",
     "text": [
      "grab0 [ 0.44521309  0.40246222 -0.02307521]\n",
      "grab1 [-0.44521242  0.402463   -0.02307521]\n",
      "grab2 [ 0.44521175 -0.40246379 -0.02307521]\n",
      "grab3 [-0.44521242 -0.402463   -0.02307521]\n"
     ]
    }
   ],
   "source": [
    "# # Figure out which feet are front, back:\n",
    "# for name in [\"r_wrist\",\"l_wrist\",\"l_ankle\",\"r_ankle\"]:\n",
    "#     print(name, robot.link(name).wTcom().translation())\n",
    "# print(dir(robot.link(\"r_gripper\")))\n",
    "# print(robot.link(\"r_gripper\").lTcom())\n",
    "\n",
    "for name in [\"grab0\",\"grab1\",\"grab2\",\"grab3\"]:\n",
    "    print(name, robot.link(name).bMcom().translation())\n",
    "# relative to link that is above it"
   ]
  },
  {
   "cell_type": "code",
   "execution_count": 5,
   "id": "2c572367",
   "metadata": {},
   "outputs": [
    {
     "name": "stdout",
     "output_type": "stream",
     "text": [
      "[{{grab1, [0 0 0]}, [ -0.445212   0.402463 -0.0230752]}, {{grab3, [0 0 0]}, [ -0.445212  -0.402463 -0.0230752]}, {{grab0, [0 0 0]}, [  0.445213   0.402462 -0.0230752]}, {{grab2, [0 0 0]}, [  0.445212  -0.402464 -0.0230752]}]\n"
     ]
    }
   ],
   "source": [
    "# Joints for each contact\n",
    "r_hand = \"grab0\" # leg 1 = red\n",
    "r_wrist = \"12\"\n",
    "r_elbow = \"1\"\n",
    "r_shoulder_h = \"8\"\n",
    "r_shoulder_v = \"0\"\n",
    "\n",
    "l_hand = \"grab1\" # leg 2 = purple\n",
    "l_wrist = \"13\"\n",
    "l_elbow = \"3\"\n",
    "l_shoulder_h = \"9\"\n",
    "l_shoulder_v = \"2\"\n",
    "\n",
    "r_foot = \"grab2\" # leg 3 = green\n",
    "r_ankle = \"14\"\n",
    "r_knee = \"5\"\n",
    "r_hip_h = \"10\"\n",
    "r_hip_v = \"4\"\n",
    "\n",
    "l_foot = \"grab3\" # leg 4 = blue\n",
    "l_ankle = \"15\"\n",
    "l_knee = \"7\"\n",
    "l_hip_h = \"11\"\n",
    "l_hip_v = \"6\"\n",
    "\n",
    "contact_in_com = [0, 0, 0]  # place on link, relative to link, that will be the contact point\n",
    "LH = PointOnLink(robot.link(l_hand), contact_in_com)\n",
    "LF = PointOnLink(robot.link(l_foot), contact_in_com)\n",
    "RH = PointOnLink(robot.link(r_hand), contact_in_com)\n",
    "RF = PointOnLink(robot.link(r_foot), contact_in_com)\n",
    "\n",
    "# # Test trivial inverse kinematics \n",
    "contact_goals = [\n",
    "    ContactGoal(LH, robot.link(l_hand).bMcom().translation()),\n",
    "    ContactGoal(LF, robot.link(l_foot).bMcom().translation()),\n",
    "    ContactGoal(RH, robot.link(r_hand).bMcom().translation()),\n",
    "    ContactGoal(RF, robot.link(r_foot).bMcom().translation()),\n",
    "    ]\n",
    "print(contact_goals)\n",
    "\n",
    "# mapping = {\n",
    "#     \"LH\":robot.link(\"grab1\"),\n",
    "#     \"LF\":robot.link(\"grab3\"),\n",
    "#     \"RF\":robot.link(\"grab2\"),\n",
    "#     \"RH\":robot.link(\"grab0\"),\n",
    "#     }\n",
    "# print([(key,link.id()) for key,link in mapping.items()])"
   ]
  },
  {
   "cell_type": "code",
   "execution_count": 6,
   "id": "1dca7359",
   "metadata": {},
   "outputs": [
    {
     "name": "stdout",
     "output_type": "stream",
     "text": [
      "[ 0.44521309  0.40246222 -0.02307521] [ 0.44521175 -0.40246379 -0.02307521] [-0.44521242  0.402463   -0.02307521] [-0.44521242 -0.402463   -0.02307521]\n",
      "R: [\n",
      "\t-0.535089, 0.618742, 0.575186;\n",
      "\t-0.44688, -0.785111, 0.428836;\n",
      "\t0.716923, -0.0275736, 0.696607\n",
      "]\n",
      "t:   0.445242   0.402454 -0.0231034\n",
      "\n"
     ]
    }
   ],
   "source": [
    "kinematics = gtd.Kinematics()\n",
    "result = kinematics.inverse(Slice(4), robot, contact_goals)\n",
    "# print(result)\n",
    "\n",
    "# Example of getting Pose and JointAngle after IK\n",
    "r_hand_trans = robot.link(r_hand).bMcom().translation()\n",
    "r_foot_trans = robot.link(r_foot).bMcom().translation()\n",
    "l_hand_trans = robot.link(l_hand).bMcom().translation()\n",
    "l_foot_trans = robot.link(l_foot).bMcom().translation()\n",
    "print(r_hand_trans, r_foot_trans, l_hand_trans, l_foot_trans)\n",
    "pose_after_ik = gtd.Pose(result, robot.link(r_hand).id(), 4) # 4 for slice(4)\n",
    "print(pose_after_ik)\n",
    "# jointAngle_after_ik = gtd.JointAngleDouble(result, robot.joint(r_wrist).id(), 4) # 4 for slice(4)\n",
    "# print(pose_after_ik)\n",
    "# print(jointAngle_after_ik)"
   ]
  },
  {
   "cell_type": "code",
   "execution_count": 13,
   "id": "80f23f90",
   "metadata": {},
   "outputs": [
    {
     "name": "stdout",
     "output_type": "stream",
     "text": [
      "grab1 True\n",
      "grab3 True\n",
      "grab0 True\n",
      "grab2 True\n"
     ]
    }
   ],
   "source": [
    "# Example of checking if goal is satisfied\n",
    "for goal in contact_goals:\n",
    "    print(goal.link().name(), goal.satisfied(result,k=4,tol=1e-3))"
   ]
  },
  {
   "cell_type": "code",
   "execution_count": 14,
   "id": "0789eeca",
   "metadata": {},
   "outputs": [
    {
     "data": {
      "image/png": "[encoded data removed]",
      "text/plain": [
       "<Figure size 432x288 with 1 Axes>"
      ]
     },
     "metadata": {
      "needs_background": "light"
     },
     "output_type": "display_data"
    }
   ],
   "source": [
    "# Plot current location of robot in 3D\n",
    "points = np.asarray([robot.link(l_hand).bMcom().translation(), \n",
    "                     robot.link(l_foot).bMcom().translation(), \n",
    "                     robot.link(r_hand).bMcom().translation(), \n",
    "                     robot.link(r_foot).bMcom().translation()])\n",
    "\n",
    "\n",
    "%matplotlib inline\n",
    "fig = plt.figure()\n",
    "ax = plt.axes(projection='3d')\n",
    "\n",
    "\n",
    "ax.scatter3D(points[:, 0], points[:, 1], points[:, 2]);"
   ]
  },
  {
   "cell_type": "code",
   "execution_count": 15,
   "id": "efdd8929",
   "metadata": {},
   "outputs": [
    {
     "name": "stderr",
     "output_type": "stream",
     "text": [
      "..\n",
      "----------------------------------------------------------------------\n",
      "Ran 2 tests in 0.392s\n",
      "\n",
      "OK\n"
     ]
    }
   ],
   "source": [
    "class TestRobot(unittest.TestCase):\n",
    "    \n",
    "    def testInverseKinematicsHands(self):\n",
    "        # robot = gtd.CreateRobotFromFile(gtd.URDF_PATH + \"/humanoid/nao.urdf\")\n",
    "        robot = gtd.CreateRobotFromFile(gtd.URDF_PATH + \"/quad_climb_robot.urdf\"); # robot object\n",
    "        contact_goals = [\n",
    "            ContactGoal(LH, robot.link(l_hand).bMcom().translation()),\n",
    "            ContactGoal(LF, robot.link(l_foot).bMcom().translation()),\n",
    "            ContactGoal(RH, robot.link(r_hand).bMcom().translation()),\n",
    "            ContactGoal(RF, robot.link(r_foot).bMcom().translation()),\n",
    "        ]\n",
    "        kinematics = gtd.Kinematics()\n",
    "        result = kinematics.inverse(Slice(4), robot, contact_goals)\n",
    "        for goal in contact_goals:\n",
    "            self.assertTrue(goal.satisfied(result,k=4,tol=1e-3))\n",
    "            \n",
    "    def testInverseKinematicsAll(self):\n",
    "        # robot = gtd.CreateRobotFromFile(gtd.URDF_PATH + \"/humanoid/nao.urdf\")\n",
    "        robot = gtd.CreateRobotFromFile(gtd.URDF_PATH + \"/quad_climb_robot.urdf\"); # robot object\n",
    "        contact_goals = [\n",
    "            ContactGoal(LH, robot.link(l_hand).bMcom().translation()),\n",
    "            ContactGoal(LF, robot.link(l_foot).bMcom().translation()),\n",
    "            ContactGoal(RH, robot.link(r_hand).bMcom().translation()),\n",
    "            ContactGoal(RF, robot.link(r_foot).bMcom().translation()),\n",
    "        ]\n",
    "        kinematics = gtd.Kinematics()\n",
    "        result = kinematics.inverse(Slice(4), robot, contact_goals)\n",
    "        for goal in contact_goals:\n",
    "            self.assertTrue(goal.satisfied(result,k=4,tol=1e-3))\n",
    "            \n",
    "if __name__ == '__main__':\n",
    "    unittest.main(argv=['first-arg-is-ignored'], exit=False)"
   ]
  },
  {
   "cell_type": "code",
   "execution_count": 16,
   "id": "1d3c1bb2",
   "metadata": {},
   "outputs": [],
   "source": [
    "# This code is broken and I don't know what it was originally for\n",
    "\n",
    "# _link_name_to_index = {p.getBodyInfo(robot)[0].decode('UTF-8'):-1,}\n",
    "        \n",
    "# for _id in range(p.getNumJoints(climb_robot)):\n",
    "#     _name = p.getJointInfo(pybullet_robot, _id)[12].decode('UTF-8')\n",
    "#     _link_name_to_index[_name] = _id\n",
    "# print(_link_name_to_index)"
   ]
  },
  {
   "cell_type": "code",
   "execution_count": 17,
   "id": "a076d0bf",
   "metadata": {},
   "outputs": [],
   "source": [
    "# Start doing the graph search"
   ]
  },
  {
   "cell_type": "code",
   "execution_count": 18,
   "id": "6f1f1ce2",
   "metadata": {},
   "outputs": [],
   "source": [
    "# Create the graph of the rockwall that the robot will climb\n",
    "from mpl_toolkits.mplot3d.axes3d import Axes3D\n",
    "from mpl_toolkits.mplot3d import proj3d\n",
    "\n",
    "def points_from_image():\n",
    "\n",
    "    points = [[513, 32, 0.0], [575, 92, 0.0], [535, 119, 0.0], [511, 72, 0.0], [500, 105, 0.0],\n",
    "              [485, 74, 0.0], [486, 49, 0.0], [446, 88, 0.0], [421, 59, 0.0], [425, 113, 0.0], [416, 105, 0.0],\n",
    "              [457, 144, 0.5], [511, 173, 1.1], [447, 173, 1.1], [379, 81, -0.4], [319, 81, -0.4], [339, 92, -0.8],\n",
    "              [319, 111, -0.9], [295, 103, -0.1], [281, 94, 0.1], [282, 123, 1.0],\n",
    "              [376, 123, -0.1], [321, 129, 0.0], [300, 150, 1.0], [318, 164, 1.9], [348, 159, 1.4], [375, 179, 1.8],\n",
    "              [386, 145, 1.0], [353, 227, 2.0], [311, 270, 2.0], [256, 224, 2.0], [230, 263, 2.0],\n",
    "              [425, 203, 1.6], [489, 229, 1.1], [427, 271, 1.5], [369, 286, 1.8], [431, 325, 1.4],\n",
    "              [525,207, 0.8], [541, 237, 0.9], [596, 193, 0.4], [600, 264, 0.75],\n",
    "              [564, 293, 1.0], [510, 242, 1.0], [498, 276, 1.0],\n",
    "              [594, 326, 0.8], [426, 355, 1.3], [388, 347, 1.6], [376, 371, 1.0],\n",
    "              [489, 371, 0.5], [469, 360, 0.8],\n",
    "              [326, 326, 1.9], [316, 367, 1.4], [303, 335, 1.7], [283, 364, 1.3], [251, 323, 1.5], [257, 293, 2.0],\n",
    "              [205, 279, 1.8], [231, 341, 1.5], [198, 316, 1.6], [207, 387, 1.2],\n",
    "              [265, 155, 1.9], [252, 136, 1.6], [254, 109, 1.3], [242, 92, 0.4], [228, 135, 0.75],\n",
    "              [208, 123, 0.4], [186, 108, 0.8], [180, 145, 0.2], [149, 128, 0.6], [141, 160, 0.8], [228, 168, 1.0],\n",
    "              [229, 191, 1.9], [189, 229, 1.9], [195, 178, 0.5], [166, 261, 1.9], [170, 353, 0.0], [139, 312, 0.5],\n",
    "              [120, 356, 0.4], [73, 341, 1.0], [76, 382, 1.0], [33, 405, 0.4], [65, 299, 1.0], [39, 284, 1.0],\n",
    "              [156, 165, 0.5], [147, 224, 1.5], [127, 201, 1.0], [122, 127, 1.0], [120, 161, 1.1], [101, 184, 1.3],\n",
    "              [109, 236, 1.2], [111, 277, 1.0], [80, 275, 1.1], [74, 228, 1.5], [87, 133, 1.4], [61, 154, 1.75],\n",
    "              [37, 142, 1.5], [43, 211, 1.6], [25, 187, 1.0], [10, 188, 0.0], [22, 285, 0.75], [13, 309, 0.5],\n",
    "              [14, 244, 0.5], [20, 360, 0.5], [29, 324, 0.8]]\n",
    "\n",
    "    points = np.array(points)\n",
    "\n",
    "    # scale for 4ft long arms\n",
    "    points[:, 0] = points[:, 0] / (616/30)  # 616 -> 30\n",
    "    points[:, 1] = points[:, 1] / (423/10)  # 423 - > 10\n",
    "    points[:, 2] = points[:, 2]  # 3 (-1 - 2ft )\n",
    "\n",
    "    # flip x axis so that it goes 0 to 30, down to up\n",
    "    points[:, 0] = np.max(points[:, 0]) - points[:, 0]\n",
    "\n",
    "    return points\n",
    "\n",
    "\n",
    "def get_random_points(num_points):\n",
    "\n",
    "    # robots arms are 2ft long - 1ft per link\n",
    "\n",
    "    points = []\n",
    "    for pt in range(num_points):\n",
    "\n",
    "        # climbing wall = 10ft X 30ft, at most 1.5 ft change in z axis\n",
    "        rand_x = random.randrange(0, 100)\n",
    "        rand_y = random.randrange(0, 300)\n",
    "        rand_z = random.randrange(0, 10)\n",
    "\n",
    "        # randrange needed intergers, but divide to get better data\n",
    "\n",
    "        rand_x = rand_x / 10\n",
    "        rand_y = rand_y / 10\n",
    "        rand_z = rand_z / 10\n",
    "\n",
    "        points.append([rand_x, rand_y, rand_z])\n",
    "\n",
    "    points = np.array(points)\n",
    "    return points\n",
    "\n",
    "\n",
    "def plot_points(points):\n",
    "\n",
    "    fig = plt.figure()\n",
    "    ax = fig.add_subplot(projection='3d')\n",
    "\n",
    "    x_scale = 0.68\n",
    "    y_scale = 1.0\n",
    "    z_scale = 0.0048 * 100\n",
    "\n",
    "    # x_scale = 1.0\n",
    "    # y_scale = 1.0\n",
    "    # z_scale = 1.0\n",
    "\n",
    "    scale = np.diag([x_scale, y_scale, z_scale, 1.0])\n",
    "    scale = scale * (1.0 / scale.max())\n",
    "    scale[3, 3] = 1.0\n",
    "\n",
    "    def short_proj():\n",
    "        return np.dot(Axes3D.get_proj(ax), scale)\n",
    "\n",
    "    ax.get_proj = short_proj\n",
    "\n",
    "    ax.scatter(points[:, 1], points[:, 0], points[:, 2], marker='o')\n",
    "\n",
    "    ax.set_xlabel('X')\n",
    "    ax.set_ylabel('Y')\n",
    "    ax.set_zlabel('Z')\n",
    "\n",
    "    # ax.view_init(elev, azimuth angle)\n",
    "    ax.view_init(90, -90)  # X-Y Axis\n",
    "    # ax.view_init(0, 180)  # Y-Z Axis\n",
    "\n",
    "    plt.show()"
   ]
  },
  {
   "cell_type": "code",
   "execution_count": 19,
   "id": "efd6de59",
   "metadata": {},
   "outputs": [
    {
     "data": {
      "image/png": "[encoded data removed]",
      "text/plain": [
       "<Figure size 432x288 with 1 Axes>"
      ]
     },
     "metadata": {
      "needs_background": "light"
     },
     "output_type": "display_data"
    }
   ],
   "source": [
    "points = points_from_image()\n",
    "plot_points(points)"
   ]
  },
  {
   "cell_type": "code",
   "execution_count": null,
   "id": "be62b7cf",
   "metadata": {},
   "outputs": [],
   "source": []
  },
  {
   "cell_type": "code",
   "execution_count": 20,
   "id": "6ff152a2",
   "metadata": {},
   "outputs": [],
   "source": [
    "import find_holds"
   ]
  },
  {
   "cell_type": "code",
   "execution_count": 21,
   "id": "57cf10c3",
   "metadata": {},
   "outputs": [
    {
     "name": "stderr",
     "output_type": "stream",
     "text": [
      "FF..\n",
      "======================================================================\n",
      "FAIL: test_find_shortest_path (__main__.TestFindHolds)\n",
      "----------------------------------------------------------------------\n",
      "Traceback (most recent call last):\n",
      "  File \"<ipython-input-21-c7d7812408d7>\", line 18, in test_find_shortest_path\n",
      "    self.assertEqual(shortest_path, expected)\n",
      "AssertionError: <networkx.classes.graph.Graph object at 0x7ff001265c18> != [(1.0, 1.0, 0.0), (2.0, 1.0, 0.0), (2.0, 2.0, 0.0)]\n",
      "\n",
      "======================================================================\n",
      "FAIL: test_possible_configurations (__main__.TestFindHolds)\n",
      "----------------------------------------------------------------------\n",
      "Traceback (most recent call last):\n",
      "  File \"<ipython-input-21-c7d7812408d7>\", line 10, in test_possible_configurations\n",
      "    self.assertEqual(shortest_path, expected)\n",
      "AssertionError: Lists differ: [] != [((1.0, 1.0, 0.0), (2.0, 1.0, 0.0))]\n",
      "\n",
      "Second list contains 1 additional elements.\n",
      "First extra element 0:\n",
      "((1.0, 1.0, 0.0), (2.0, 1.0, 0.0))\n",
      "\n",
      "- []\n",
      "+ [((1.0, 1.0, 0.0), (2.0, 1.0, 0.0))]\n",
      "\n",
      "----------------------------------------------------------------------\n",
      "Ran 4 tests in 0.346s\n",
      "\n",
      "FAILED (failures=2)\n"
     ]
    }
   ],
   "source": [
    "class TestFindHolds(unittest.TestCase):\n",
    "\n",
    "    def test_possible_configurations(self):\n",
    "        climbing_face = [(0.0, 0.0, 0.0), (0.0, 1.0, 0.0), (1.0, 1.0, 0.0), (1.0, 0.0, 0.0), (2.0, 1.0, 0.0), (2.0, 2.0, 0.0)]\n",
    "        initial_holds = [(0.0, 0.0, 0.0), (0.0, 1.0, 0.0), (1.0, 1.0, 0.0), (1.0, 0.0, 0.0)]\n",
    "        goal_hold = (2.0, 2.0, 0.0)\n",
    "        shortest_path = find_holds.get_possible_holds(climbing_face, initial_holds)\n",
    "        expected = [((1.0, 1.0, 0.0), (2.0, 1.0, 0.0))]\n",
    "\n",
    "        self.assertEqual(shortest_path, expected)\n",
    "\n",
    "    def test_find_shortest_path(self):\n",
    "        climbing_face = [(0.0, 0.0, 0.0), (0.0, 1.0, 0.0), (1.0, 1.0, 0.0), (1.0, 0.0, 0.0), (2.0, 1.0, 0.0), (2.0, 2.0, 0.0)]\n",
    "        initial_holds = [(0.0, 0.0, 0.0), (0.0, 1.0, 0.0), (1.0, 1.0, 0.0), (1.0, 0.0, 0.0)]\n",
    "        goal_hold = (2.0, 2.0, 0.0)\n",
    "        shortest_path = find_holds.shortest_path(climbing_face, initial_holds=initial_holds, goal_hold=goal_hold)\n",
    "        expected = [(1.0, 1.0, 0.0), (2.0, 1.0, 0.0), (2.0, 2.0, 0.0)]\n",
    "        self.assertEqual(shortest_path, expected)\n",
    "\n",
    "if __name__ == '__main__':\n",
    "    unittest.main(argv=['first-arg-is-ignored'], exit=False)"
   ]
  },
  {
   "cell_type": "code",
   "execution_count": null,
   "id": "2c678716",
   "metadata": {},
   "outputs": [],
   "source": []
  }
 ],
 "metadata": {
  "kernelspec": {
   "display_name": "Python 3",
   "language": "python",
   "name": "python3"
  },
  "language_info": {
   "codemirror_mode": {
    "name": "ipython",
    "version": 3
   },
   "file_extension": ".py",
   "mimetype": "text/x-python",
   "name": "python",
   "nbconvert_exporter": "python",
   "pygments_lexer": "ipython3",
   "version": "3.6.9"
  }
 },
 "nbformat": 4,
 "nbformat_minor": 5
}
