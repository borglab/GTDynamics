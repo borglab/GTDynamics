{
 "cells": [
  {
   "cell_type": "code",
   "execution_count": 111,
   "id": "beb1b724",
   "metadata": {},
   "outputs": [],
   "source": [
    "import gtdynamics as gtd\n",
    "from gtdynamics import ContactGoal, PointOnLink, Slice, Interval\n",
    "from gtsam import Pose3, Point3\n",
    "import plotly.express as px\n",
    "import pybullet as p\n",
    "import gtsam"
   ]
  },
  {
   "cell_type": "code",
   "execution_count": 112,
   "id": "eb62f9d0",
   "metadata": {},
   "outputs": [],
   "source": [
    "robot = gtd.CreateRobotFromFile(gtd.URDF_PATH + \"/humanoid/nao.urdf\");"
   ]
  },
  {
   "cell_type": "code",
   "execution_count": 113,
   "id": "888ded33",
   "metadata": {},
   "outputs": [
    {
     "name": "stdout",
     "output_type": "stream",
     "text": [
      "[(0, 'base_link'), (1, 'Neck'), (2, 'Head'), (3, 'LPelvis'), (4, 'LHip'), (5, 'LThigh'), (6, 'LTibia'), (7, 'LAnklePitch'), (8, 'l_ankle'), (9, 'LShoulder'), (10, 'LBicep'), (11, 'LElbow'), (12, 'LForeArm'), (13, 'l_wrist'), (14, 'LFinger11_link'), (15, 'LFinger12_link'), (16, 'LFinger13_link'), (17, 'LFinger21_link'), (18, 'LFinger22_link'), (19, 'LFinger23_link'), (20, 'l_gripper'), (21, 'LThumb1_link'), (22, 'LThumb2_link'), (23, 'RPelvis'), (24, 'RHip'), (25, 'RThigh'), (26, 'RTibia'), (27, 'RAnklePitch'), (28, 'r_ankle'), (29, 'RShoulder'), (30, 'RBicep'), (31, 'RElbow'), (32, 'RForeArm'), (33, 'r_wrist'), (34, 'RFinger11_link'), (35, 'RFinger12_link'), (36, 'RFinger13_link'), (37, 'RFinger21_link'), (38, 'RFinger22_link'), (39, 'RFinger23_link'), (40, 'r_gripper'), (41, 'RThumb1_link'), (42, 'RThumb2_link')]\n"
     ]
    }
   ],
   "source": [
    "link_names = [(link.id(), link.name()) for link in robot.links()]\n",
    "link_names.sort()\n",
    "print(link_names)"
   ]
  },
  {
   "cell_type": "code",
   "execution_count": 114,
   "id": "f443053e",
   "metadata": {},
   "outputs": [
    {
     "name": "stdout",
     "output_type": "stream",
     "text": [
      "r_wrist [ 0.19529 -0.11212  0.10308]\n",
      "l_wrist [0.19529 0.11212 0.10308]\n",
      "l_ankle [ 0.02541975  0.05330005 -0.32029059]\n",
      "r_ankle [ 0.02541975 -0.05330005 -0.32029059]\n",
      "['__class__', '__delattr__', '__dir__', '__doc__', '__eq__', '__format__', '__ge__', '__getattribute__', '__gt__', '__hash__', '__init__', '__init_subclass__', '__le__', '__lt__', '__module__', '__ne__', '__new__', '__reduce__', '__reduce_ex__', '__repr__', '__setattr__', '__sizeof__', '__str__', '__subclasshook__', 'addJoint', 'centerOfMass', 'fix', 'getFixedPose', 'id', 'inertia', 'inertiaMatrix', 'isFixed', 'joints', 'lTcom', 'mass', 'name', 'numJoints', 'shared', 'unfix', 'wTcom', 'wTl']\n",
      "R: [\n",
      "\t1, 0, 0;\n",
      "\t0, 1, 0;\n",
      "\t0, 0, 1\n",
      "]\n",
      "t: 0 0 0\n",
      "\n"
     ]
    }
   ],
   "source": [
    "# Figure out which feet are front, back:\n",
    "for name in [\"r_wrist\",\"l_wrist\",\"l_ankle\",\"r_ankle\"]:\n",
    "    print(name, robot.link(name).wTcom().translation())\n",
    "print(dir(robot.link(\"r_gripper\")))\n",
    "print(robot.link(\"r_gripper\").lTcom())"
   ]
  },
  {
   "cell_type": "code",
   "execution_count": 136,
   "id": "2c572367",
   "metadata": {},
   "outputs": [
    {
     "name": "stdout",
     "output_type": "stream",
     "text": [
      "[{{l_gripper, [ 0.03434 -0.00088  0.00308]}, [ 0.2187   0.113 0.08769]}, {{l_ankle, [ 0.0254198 0.00330005 -0.0323906]}, [0.0254198 0.0533001 -0.320291]}, {{r_gripper, [0.03434 0.00088 0.00308]}, [ 0.2187  -0.113 0.08787]}, {{r_ankle, [  0.0254198 -0.00330005  -0.0323906]}, [ 0.0254198 -0.0533001  -0.320291]}]\n"
     ]
    }
   ],
   "source": [
    "LH = PointOnLink(robot.link(\"l_gripper\"), robot.link(\"l_wrist\").lTcom().translation())\n",
    "LF = PointOnLink(robot.link(\"l_ankle\"), robot.link(\"l_ankle\").lTcom().translation())\n",
    "RH = PointOnLink(robot.link(\"r_gripper\"), robot.link(\"r_wrist\").lTcom().translation())\n",
    "RF = PointOnLink(robot.link(\"r_ankle\"), robot.link(\"r_ankle\").lTcom().translation())\n",
    "\n",
    "# Test trivial inverse kinematics \n",
    "contact_goals = [\n",
    "    ContactGoal(LH, robot.link(\"l_gripper\").wTcom().translation()),\n",
    "    ContactGoal(LF, robot.link(\"l_ankle\").wTcom().translation()),\n",
    "    ContactGoal(RH, robot.link(\"r_gripper\").wTcom().translation()),\n",
    "    ContactGoal(RF, robot.link(\"r_ankle\").wTcom().translation()),\n",
    "    ]\n",
    "print(contact_goals)"
   ]
  },
  {
   "cell_type": "code",
   "execution_count": 137,
   "id": "1dca7359",
   "metadata": {},
   "outputs": [],
   "source": [
    "kinematics = gtd.Kinematics(robot)\n",
    "result = kinematics.inverseSlice(Slice(4), contact_goals)"
   ]
  },
  {
   "cell_type": "code",
   "execution_count": 138,
   "id": "80f23f90",
   "metadata": {},
   "outputs": [
    {
     "name": "stdout",
     "output_type": "stream",
     "text": [
      "l_gripper True\n",
      "l_ankle True\n",
      "r_gripper True\n",
      "r_ankle True\n"
     ]
    }
   ],
   "source": [
    "for goal in contact_goals:\n",
    "    print(goal.link().name(), goal.satisfied(result,k=4,tol=1e-3))"
   ]
  },
  {
   "cell_type": "code",
   "execution_count": 127,
   "id": "53063654",
   "metadata": {},
   "outputs": [
    {
     "data": {
      "text/plain": [
       "array([ 0.02541975,  0.05330005, -0.32029059])"
      ]
     },
     "execution_count": 127,
     "metadata": {},
     "output_type": "execute_result"
    }
   ],
   "source": [
    "robot.link(\"l_ankle\").wTcom().translation()"
   ]
  },
  {
   "cell_type": "code",
   "execution_count": 120,
   "id": "7f9d0692",
   "metadata": {},
   "outputs": [],
   "source": [
    "import numpy as np\n",
    "points = np.asarray([robot.link(\"l_gripper\").wTcom().translation(), \n",
    "                     robot.link(\"l_ankle\").wTcom().translation(), \n",
    "                     robot.link(\"r_gripper\").wTcom().translation(), \n",
    "                     robot.link(\"r_ankle\").wTcom().translation()])"
   ]
  },
  {
   "cell_type": "code",
   "execution_count": 121,
   "id": "0789eeca",
   "metadata": {},
   "outputs": [
    {
     "data": {
      "image/png": "[encoded data removed]",
      "text/plain": [
       "<Figure size 432x288 with 1 Axes>"
      ]
     },
     "metadata": {
      "needs_background": "light"
     },
     "output_type": "display_data"
    }
   ],
   "source": [
    "from mpl_toolkits import mplot3d\n",
    "\n",
    "\n",
    "%matplotlib inline\n",
    "import numpy as np\n",
    "import matplotlib.pyplot as plt\n",
    "\n",
    "\n",
    "\n",
    "fig = plt.figure()\n",
    "ax = plt.axes(projection='3d')\n",
    "\n",
    "\n",
    "ax.scatter3D(points[:, 0], points[:, 1], points[:, 2]);"
   ]
  },
  {
   "cell_type": "code",
   "execution_count": 123,
   "id": "b342d31b",
   "metadata": {},
   "outputs": [
    {
     "data": {
      "text/plain": [
       "array([ 0.02541975,  0.05330005, -0.32029059])"
      ]
     },
     "execution_count": 123,
     "metadata": {},
     "output_type": "execute_result"
    }
   ],
   "source": [
    "robot.link(\"l_ankle\").wTcom().translation()"
   ]
  },
  {
   "cell_type": "code",
   "execution_count": 139,
   "id": "efdd8929",
   "metadata": {},
   "outputs": [
    {
     "name": "stderr",
     "output_type": "stream",
     "text": [
      "..\n",
      "----------------------------------------------------------------------\n",
      "Ran 2 tests in 0.775s\n",
      "\n",
      "OK\n"
     ]
    }
   ],
   "source": [
    "import unittest\n",
    "\n",
    "class TestRobot(unittest.TestCase):\n",
    "    \n",
    "    def testInverseKinematicsHands(self):\n",
    "        robot = gtd.CreateRobotFromFile(gtd.URDF_PATH + \"/humanoid/nao.urdf\")\n",
    "        contact_goals = [\n",
    "            ContactGoal(LH, [.01, .113, .26]),\n",
    "            ContactGoal(LF, robot.link(\"l_ankle\").wTcom().translation()),\n",
    "            ContactGoal(RH, [.01, -.113, .26]),\n",
    "            ContactGoal(RF, robot.link(\"r_ankle\").wTcom().translation()),\n",
    "        ]\n",
    "        kinematics = gtd.Kinematics(robot)\n",
    "        result = kinematics.inverseSlice(Slice(4), contact_goals)\n",
    "        for goal in contact_goals:\n",
    "            self.assertTrue(goal.satisfied(result,k=4,tol=1e-3))\n",
    "            \n",
    "    def testInverseKinematicsAll(self):\n",
    "        robot = gtd.CreateRobotFromFile(gtd.URDF_PATH + \"/humanoid/nao.urdf\")\n",
    "        contact_goals = [\n",
    "            ContactGoal(LH, [.01, .113, .26]),\n",
    "            ContactGoal(LF, [0.025, 0.05, -0.3]),\n",
    "            ContactGoal(RH, [.01, -.113, .26]),\n",
    "            ContactGoal(RF, [0.025, -0.05, -0.3]),\n",
    "        ]\n",
    "        kinematics = gtd.Kinematics(robot)\n",
    "        result = kinematics.inverseSlice(Slice(4), contact_goals)\n",
    "        for goal in contact_goals:\n",
    "            self.assertTrue(goal.satisfied(result,k=4,tol=1e-3))\n",
    "            \n",
    "if __name__ == '__main__':\n",
    "    unittest.main(argv=['first-arg-is-ignored'], exit=False)"
   ]
  },
  {
   "cell_type": "code",
   "execution_count": null,
   "id": "8b703bf9",
   "metadata": {},
   "outputs": [],
   "source": []
  },
  {
   "cell_type": "code",
   "execution_count": null,
   "id": "b060c4c0",
   "metadata": {},
   "outputs": [],
   "source": []
  },
  {
   "cell_type": "code",
   "execution_count": null,
   "id": "01fc0a47",
   "metadata": {},
   "outputs": [],
   "source": []
  },
  {
   "cell_type": "code",
   "execution_count": null,
   "id": "53dc692f",
   "metadata": {},
   "outputs": [],
   "source": []
  },
  {
   "cell_type": "code",
   "execution_count": null,
   "id": "8cf1dab6",
   "metadata": {},
   "outputs": [],
   "source": []
  },
  {
   "cell_type": "code",
   "execution_count": 11,
   "id": "1d3c1bb2",
   "metadata": {},
   "outputs": [],
   "source": [
    "_link_name_to_index = {p.getBodyInfo(pybullet_robot)[0].decode('UTF-8'):-1,}\n",
    "        \n",
    "for _id in range(p.getNumJoints(pybullet_robot)):\n",
    "    _name = p.getJointInfo(pybullet_robot, _id)[12].decode('UTF-8')\n",
    "    _link_name_to_index[_name] = _id"
   ]
  },
  {
   "cell_type": "code",
   "execution_count": 12,
   "id": "5bb3700c",
   "metadata": {},
   "outputs": [
    {
     "data": {
      "text/plain": [
       "{'base_link': -1,\n",
       " 'torso': 0,\n",
       " 'Neck': 1,\n",
       " 'Head': 2,\n",
       " 'gaze': 3,\n",
       " 'HeadTouchFront_frame': 4,\n",
       " 'CameraBottom_frame': 5,\n",
       " 'CameraBottom_optical_frame': 6,\n",
       " 'CameraTop_frame': 7,\n",
       " 'CameraTop_optical_frame': 8,\n",
       " 'LInfraRed_frame': 9,\n",
       " 'HeadTouchRear_frame': 10,\n",
       " 'HeadTouchMiddle_frame': 11,\n",
       " 'RInfraRed_frame': 12,\n",
       " 'LPelvis': 13,\n",
       " 'LHip': 14,\n",
       " 'LThigh': 15,\n",
       " 'LTibia': 16,\n",
       " 'LAnklePitch': 17,\n",
       " 'l_ankle': 18,\n",
       " 'l_sole': 19,\n",
       " 'LFootBumperRight_frame': 20,\n",
       " 'LFsrFR_frame': 21,\n",
       " 'LFsrRR_frame': 22,\n",
       " 'LFsrFL_frame': 23,\n",
       " 'LFsrRL_frame': 24,\n",
       " 'LFootBumperLeft_frame': 25,\n",
       " 'RPelvis': 26,\n",
       " 'RHip': 27,\n",
       " 'RThigh': 28,\n",
       " 'RTibia': 29,\n",
       " 'RAnklePitch': 30,\n",
       " 'r_ankle': 31,\n",
       " 'r_sole': 32,\n",
       " 'RFsrRL_frame': 33,\n",
       " 'RFsrRR_frame': 34,\n",
       " 'RFootBumperRight_frame': 35,\n",
       " 'RFsrFR_frame': 36,\n",
       " 'RFootBumperLeft_frame': 37,\n",
       " 'RFsrFL_frame': 38,\n",
       " 'LShoulder': 39,\n",
       " 'LBicep': 40,\n",
       " 'LElbow': 41,\n",
       " 'LForeArm': 42,\n",
       " 'l_wrist': 43,\n",
       " 'l_gripper': 44,\n",
       " 'LHandTouchLeft_frame': 45,\n",
       " 'LHandTouchBack_frame': 46,\n",
       " 'LHandTouchRight_frame': 47,\n",
       " 'LFinger21_link': 48,\n",
       " 'LFinger22_link': 49,\n",
       " 'LFinger23_link': 50,\n",
       " 'LFinger11_link': 51,\n",
       " 'LFinger12_link': 52,\n",
       " 'LFinger13_link': 53,\n",
       " 'LThumb1_link': 54,\n",
       " 'LThumb2_link': 55,\n",
       " 'RShoulder': 56,\n",
       " 'RBicep': 57,\n",
       " 'RElbow': 58,\n",
       " 'RForeArm': 59,\n",
       " 'r_wrist': 60,\n",
       " 'r_gripper': 61,\n",
       " 'RHandTouchRight_frame': 62,\n",
       " 'RHandTouchBack_frame': 63,\n",
       " 'RHandTouchLeft_frame': 64,\n",
       " 'RFinger21_link': 65,\n",
       " 'RFinger22_link': 66,\n",
       " 'RFinger23_link': 67,\n",
       " 'RFinger11_link': 68,\n",
       " 'RFinger12_link': 69,\n",
       " 'RFinger13_link': 70,\n",
       " 'RThumb1_link': 71,\n",
       " 'RThumb2_link': 72,\n",
       " 'ImuTorsoAccelerometer_frame': 73,\n",
       " 'RSonar_frame': 74,\n",
       " 'LSonar_frame': 75,\n",
       " 'ImuTorsoGyrometer_frame': 76,\n",
       " 'ChestButton_frame': 77}"
      ]
     },
     "execution_count": 12,
     "metadata": {},
     "output_type": "execute_result"
    }
   ],
   "source": [
    "_link_name_to_index"
   ]
  },
  {
   "cell_type": "code",
   "execution_count": 15,
   "id": "0d174479",
   "metadata": {},
   "outputs": [
    {
     "ename": "RuntimeError",
     "evalue": "forwardKinematics: no prior link given and cannot find a fixed link.",
     "output_type": "error",
     "traceback": [
      "\u001b[0;31m---------------------------------------------------------------------------\u001b[0m",
      "\u001b[0;31mRuntimeError\u001b[0m                              Traceback (most recent call last)",
      "\u001b[0;32m<ipython-input-15-37352e790db1>\u001b[0m in \u001b[0;36m<module>\u001b[0;34m\u001b[0m\n\u001b[0;32m----> 1\u001b[0;31m \u001b[0mrobot\u001b[0m\u001b[0;34m.\u001b[0m\u001b[0mforwardKinematics\u001b[0m\u001b[0;34m(\u001b[0m\u001b[0mvals\u001b[0m\u001b[0;34m,\u001b[0m \u001b[0;36m42\u001b[0m\u001b[0;34m)\u001b[0m\u001b[0;34m\u001b[0m\u001b[0;34m\u001b[0m\u001b[0m\n\u001b[0m",
      "\u001b[0;31mRuntimeError\u001b[0m: forwardKinematics: no prior link given and cannot find a fixed link."
     ]
    }
   ],
   "source": [
    "robot.forwardKinematics(vals, 42)"
   ]
  },
  {
   "cell_type": "code",
   "execution_count": null,
   "id": "9614830b",
   "metadata": {},
   "outputs": [],
   "source": [
    "vals = gtd.Values()"
   ]
  },
  {
   "cell_type": "code",
   "execution_count": null,
   "id": "ca799777",
   "metadata": {},
   "outputs": [],
   "source": [
    "vals.insert(0, gtsam.Rot2(-0.5380427144113512))\n",
    "vals.insert(1, gtsam.Rot2(-0.10427144113512))"
   ]
  },
  {
   "cell_type": "code",
   "execution_count": null,
   "id": "d72d2b86",
   "metadata": {},
   "outputs": [],
   "source": [
    "vals"
   ]
  },
  {
   "cell_type": "code",
   "execution_count": null,
   "id": "b6ece14b",
   "metadata": {},
   "outputs": [],
   "source": []
  },
  {
   "cell_type": "code",
   "execution_count": 2,
   "id": "10b3486b",
   "metadata": {},
   "outputs": [
    {
     "data": {
      "text/plain": [
       "dict_keys(['__name__', '__doc__', '__package__', '__loader__', '__spec__', '__path__', '__file__', '__cached__', '__builtins__', 'gtsam', 'gtdynamics', 'URDF_PATH', 'SDF_PATH', 'GTDKeyFormatter', 'PoseFactor', 'ForwardKinematicsFactor', 'TwistFactor', 'TwistAccelFactor', 'TorqueFactor', 'MinTorqueFactor', 'WrenchFactor', 'WrenchEquivalenceFactor', 'WrenchPlanarFactor', 'EulerPoseColloFactor', 'TrapezoidalPoseColloFactor', 'EulerTwistColloFactor', 'TrapezoidalTwistColloFactor', 'Link', 'JointParams', 'Joint', 'JointTyped', 'ScrewJointBase', 'RevoluteJoint', 'PrismaticJoint', 'ScrewJoint', 'Robot', 'OptimizerSetting', 'CollocationScheme', 'ContactPoint', 'DynamicsGraph', 'add_link_objectives', 'add_joint_objectives', 'DynamicsSymbol', 'internal', 'Simulator', 'Phase', 'WalkCycle', 'Trajectory', 'CreateRobotFromFile', 'ZeroValues', 'ZeroValuesTrajectory', 'ContactWrenchKey', 'PhaseKey', 'TimeKey', 'InsertJointAngleDouble', 'JointAngle', 'JointAngleDouble', 'InsertJointVelDouble', 'JointVel', 'JointVelDouble', 'InsertJointAccelDouble', 'JointAccel', 'JointAccelDouble', 'InsertTorqueDouble', 'Torque', 'TorqueDouble', 'InsertPose', 'Pose', 'InsertTwist', 'Twist', 'InsertTwistAccel', 'TwistAccel', 'InsertWrench', 'Wrench', 'GtdFormat', 'ContactPoints', 'sim', '_GtdKeyFormatter', 'Values', 'NonlinearFactorGraph'])"
      ]
     },
     "execution_count": 2,
     "metadata": {},
     "output_type": "execute_result"
    }
   ],
   "source": [
    "gtd.__dict__.keys()"
   ]
  },
  {
   "cell_type": "code",
   "execution_count": null,
   "id": "a076d0bf",
   "metadata": {},
   "outputs": [],
   "source": []
  }
 ],
 "metadata": {
  "kernelspec": {
   "display_name": "Python 3",
   "language": "python",
   "name": "python3"
  },
  "language_info": {
   "codemirror_mode": {
    "name": "ipython",
    "version": 3
   },
   "file_extension": ".py",
   "mimetype": "text/x-python",
   "name": "python",
   "nbconvert_exporter": "python",
   "pygments_lexer": "ipython3",
   "version": "3.8.5"
  }
 },
 "nbformat": 4,
 "nbformat_minor": 5
}
