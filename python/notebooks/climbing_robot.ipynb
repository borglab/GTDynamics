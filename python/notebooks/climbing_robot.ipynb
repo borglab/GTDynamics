{
 "cells": [
  {
   "cell_type": "code",
   "execution_count": 66,
   "id": "beb1b724",
   "metadata": {},
   "outputs": [
    {
     "ename": "ModuleNotFoundError",
     "evalue": "No module named 'roboplot'",
     "output_type": "error",
     "traceback": [
      "\u001b[0;31m---------------------------------------------------------------------------\u001b[0m",
      "\u001b[0;31mModuleNotFoundError\u001b[0m                       Traceback (most recent call last)",
      "\u001b[0;32m<ipython-input-66-70e01bd9ad7f>\u001b[0m in \u001b[0;36m<module>\u001b[0;34m\u001b[0m\n\u001b[1;32m      6\u001b[0m \u001b[0;32mimport\u001b[0m \u001b[0mpybullet\u001b[0m \u001b[0;32mas\u001b[0m \u001b[0mp\u001b[0m\u001b[0;34m\u001b[0m\u001b[0;34m\u001b[0m\u001b[0m\n\u001b[1;32m      7\u001b[0m \u001b[0;32mimport\u001b[0m \u001b[0mgtsam\u001b[0m\u001b[0;34m\u001b[0m\u001b[0;34m\u001b[0m\u001b[0m\n\u001b[0;32m----> 8\u001b[0;31m \u001b[0;32mimport\u001b[0m \u001b[0mroboplot\u001b[0m  \u001b[0;31m# Be sure to install package with `pip install -U roboplot`\u001b[0m\u001b[0;34m\u001b[0m\u001b[0;34m\u001b[0m\u001b[0m\n\u001b[0m",
      "\u001b[0;31mModuleNotFoundError\u001b[0m: No module named 'roboplot'"
     ]
    }
   ],
   "source": [
    "import gtdynamics as gtd\n",
    "from gtdynamics import ContactGoal, PointOnLink, Slice, Interval\n",
    "from gtsam import Pose3, Point3\n",
    "import pandas\n",
    "import plotly.express as px\n",
    "import pybullet as p\n",
    "import gtsam\n",
    "import roboplot  # Be sure to install package with `pip install -U roboplot`"
   ]
  },
  {
   "cell_type": "code",
   "execution_count": 67,
   "id": "eb62f9d0",
   "metadata": {},
   "outputs": [
    {
     "ename": "RuntimeError",
     "evalue": "PoseRelativeToGraph error: multiple incoming edges to current vertex [LAnklePitch].",
     "output_type": "error",
     "traceback": [
      "\u001b[0;31m---------------------------------------------------------------------------\u001b[0m",
      "\u001b[0;31mRuntimeError\u001b[0m                              Traceback (most recent call last)",
      "\u001b[0;32m<ipython-input-67-d18f3e1d5c48>\u001b[0m in \u001b[0;36m<module>\u001b[0;34m\u001b[0m\n\u001b[0;32m----> 1\u001b[0;31m \u001b[0mrobot\u001b[0m \u001b[0;34m=\u001b[0m \u001b[0mgtd\u001b[0m\u001b[0;34m.\u001b[0m\u001b[0mCreateRobotFromFile\u001b[0m\u001b[0;34m(\u001b[0m\u001b[0mgtd\u001b[0m\u001b[0;34m.\u001b[0m\u001b[0mURDF_PATH\u001b[0m \u001b[0;34m+\u001b[0m \u001b[0;34m\"/humanoid/nao.urdf\"\u001b[0m\u001b[0;34m)\u001b[0m\u001b[0;34m;\u001b[0m\u001b[0;34m\u001b[0m\u001b[0;34m\u001b[0m\u001b[0m\n\u001b[0m\u001b[1;32m      2\u001b[0m \u001b[0;31m# robot = gtd.CreateRobotFromFile(gtd.URDF_PATH + \"/quad_climb_robot.urdf\");\u001b[0m\u001b[0;34m\u001b[0m\u001b[0;34m\u001b[0m\u001b[0;34m\u001b[0m\u001b[0m\n\u001b[1;32m      3\u001b[0m \u001b[0;31m# roboplot.plot_robot(robot, \"body\")\u001b[0m\u001b[0;34m\u001b[0m\u001b[0;34m\u001b[0m\u001b[0;34m\u001b[0m\u001b[0m\n",
      "\u001b[0;31mRuntimeError\u001b[0m: PoseRelativeToGraph error: multiple incoming edges to current vertex [LAnklePitch]."
     ]
    }
   ],
   "source": [
    "robot = gtd.CreateRobotFromFile(gtd.URDF_PATH + \"/humanoid/nao.urdf\");\n",
    "# robot = gtd.CreateRobotFromFile(gtd.URDF_PATH + \"/quad_climb_robot.urdf\");\n",
    "# roboplot.plot_robot(robot, \"body\")"
   ]
  },
  {
   "cell_type": "code",
   "execution_count": 49,
   "id": "888ded33",
   "metadata": {},
   "outputs": [
    {
     "name": "stdout",
     "output_type": "stream",
     "text": [
      "[(0, 'body'), (1, 'hip2'), (2, 'upper2'), (3, 'lower2'), (4, 'grab2'), (5, 'hip3'), (6, 'upper3'), (7, 'lower3'), (8, 'grab3'), (9, 'hip0'), (10, 'upper0'), (11, 'lower0'), (12, 'grab0'), (13, 'hip1'), (14, 'upper1'), (15, 'lower1'), (16, 'grab1')]\n"
     ]
    }
   ],
   "source": [
    "link_names = [(link.id(), link.name()) for link in robot.links()]\n",
    "link_names.sort()\n",
    "print(link_names)"
   ]
  },
  {
   "cell_type": "code",
   "execution_count": 59,
   "id": "f443053e",
   "metadata": {},
   "outputs": [
    {
     "name": "stdout",
     "output_type": "stream",
     "text": [
      "grab0 [ 0.44521309  0.40246222 -0.02307521]\n",
      "grab1 [-0.44521242  0.402463   -0.02307521]\n",
      "grab2 [ 0.44521175 -0.40246379 -0.02307521]\n",
      "grab3 [-0.44521242 -0.402463   -0.02307521]\n"
     ]
    }
   ],
   "source": [
    "# # Figure out which feet are front, back:\n",
    "# for name in [\"r_wrist\",\"l_wrist\",\"l_ankle\",\"r_ankle\"]:\n",
    "#     print(name, robot.link(name).wTcom().translation())\n",
    "# print(dir(robot.link(\"r_gripper\")))\n",
    "# print(robot.link(\"r_gripper\").lTcom())\n",
    "\n",
    "for name in [\"grab0\",\"grab1\",\"grab2\",\"grab3\"]:\n",
    "    print(name, robot.link(name).bMcom().translation())"
   ]
  },
  {
   "cell_type": "code",
   "execution_count": 63,
   "id": "2c572367",
   "metadata": {},
   "outputs": [
    {
     "name": "stdout",
     "output_type": "stream",
     "text": [
      "[{{lower1, [0.14    0    0]}, [ -0.445212   0.402463 -0.0230752]}, {{lower3, [0.14    0    0]}, [ -0.445212  -0.402463 -0.0230752]}, {{lower2, [0.14    0    0]}, [  0.445212  -0.402464 -0.0230752]}, {{lower0, [0.14    0    0]}, [  0.445213   0.402462 -0.0230752]}]\n"
     ]
    }
   ],
   "source": [
    "# r_hand = \"grab0\" # leg 1 = red\n",
    "# # r_wrist = \"12\"\n",
    "# l_hand = \"grab1\" # leg 2 = purple\n",
    "# l_wrist = \"13\"\n",
    "\n",
    "# r_foot = \"grab2\" # leg 3 = green\n",
    "# r_ankle = \"14\"\n",
    "# l_foot = \"grab3\" # leg 4 = blue\n",
    "# l_ankle = \"14\"\n",
    "\n",
    "# LH = PointOnLink(robot.link(l_hand))\n",
    "# LF = PointOnLink(robot.link(l_foot))\n",
    "# RH = PointOnLink(robot.link(r_hand))\n",
    "# RF = PointOnLink(robot.link(r_foot))\n",
    "\n",
    "# # Test trivial inverse kinematics \n",
    "# contact_goals = [\n",
    "#     ContactGoal(LH, robot.link(l_hand).wTcom().translation()),\n",
    "#     ContactGoal(LF, robot.link(l_ankle).wTcom().translation()),\n",
    "#     ContactGoal(RH, robot.link(r_hand).wTcom().translation()),\n",
    "#     ContactGoal(RF, robot.link(r_ankle).wTcom().translation()),\n",
    "#     ]\n",
    "# print(contact_goals)\n",
    "\n",
    "# mapping = {\n",
    "#     \"LH\":robot.link(\"grab1\"),\n",
    "#     \"LF\":robot.link(\"grab3\"),\n",
    "#     \"RF\":robot.link(\"grab2\"),\n",
    "#     \"RH\":robot.link(\"grab0\"),\n",
    "#     }\n",
    "# print([(key,link.id()) for key,link in mapping.items()])\n",
    "\n",
    "# feet\n",
    "contact_in_com =(0.14, 0, 0)\n",
    "LH = PointOnLink(robot.link(\"lower1\"), contact_in_com)\n",
    "LF = PointOnLink(robot.link(\"lower3\"), contact_in_com)\n",
    "RF = PointOnLink(robot.link(\"lower2\"), contact_in_com)\n",
    "RH = PointOnLink(robot.link(\"lower0\"), contact_in_com)\n",
    "\n",
    "# establish contact/goal pairs\n",
    "contact_goals = [\n",
    "    ContactGoal(LH, [-0.44521242,  0.402463,   -0.02307521]),\n",
    "    ContactGoal(LF, [-0.44521242, -0.402463,   -0.02307521]),\n",
    "    ContactGoal(RF, [ 0.44521175, -0.40246379, -0.02307521]),\n",
    "    ContactGoal(RH, [ 0.44521309,  0.40246222, -0.02307521])\n",
    "    ]\n",
    "print(contact_goals)"
   ]
  },
  {
   "cell_type": "code",
   "execution_count": 64,
   "id": "1dca7359",
   "metadata": {},
   "outputs": [
    {
     "ename": "TypeError",
     "evalue": "__init__(): incompatible constructor arguments. The following argument types are supported:\n    1. gtdynamics.gtdynamics.Kinematics()\n\nInvoked with: \nLINKS:\nbody, id=0:\n\tcom pose:  0 -0  0, 0 0 0\n\tjoints: 10 11 8 9 \nhip2, id=1:\n\tcom pose:       0      -0 -0.7075,  0.15 -0.15     0\n\tjoints: 10 4 \nupper2, id=2:\n\tcom pose: -3.17477e-17       0.7075      2.43409,  0.236637 -0.224092 0.0974904\n\tjoints: 4 5 \nlower2, id=3:\n\tcom pose: -1.12924e-16      -0.8625      2.43409,  0.242507 -0.229111  0.288308\n\tjoints: 5 14 \ngrab2, id=4:\n\tcom pose: -1.12924e-16      -0.8625      2.43409,   0.445212  -0.402464 -0.0230752\n\tjoints: 14 \nhip3, id=5:\n\tcom pose:      0     -0 0.7075, -0.15 -0.15     0\n\tjoints: 11 6 \nupper3, id=6:\n\tcom pose: -8.56822e-18       0.7075       0.7075, -0.236638 -0.224092 0.0974904\n\tjoints: 6 7 \nlower3, id=7:\n\tcom pose: 3.13575e-17     -0.8625      0.7075, -0.242507 -0.229111  0.288308\n\tjoints: 7 15 \ngrab3, id=8:\n\tcom pose: 3.13575e-17     -0.8625      0.7075,  -0.445212  -0.402463 -0.0230752\n\tjoints: 15 \nhip0, id=9:\n\tcom pose:      0     -0 0.7075, 0.15 0.15    0\n\tjoints: 8 0 \nupper0, id=10:\n\tcom pose: 1.91056e-17      0.7075     -2.4341,  0.236638  0.224091 0.0974904\n\tjoints: 0 1 \nlower0, id=11:\n\tcom pose: -7.41614e-17      -0.8625      -2.4341, 0.242507 0.229111 0.288308\n\tjoints: 1 12 \ngrab0, id=12:\n\tcom pose: -7.41614e-17      -0.8625      -2.4341,   0.445213   0.402462 -0.0230752\n\tjoints: 12 \nhip1, id=13:\n\tcom pose:       0      -0 -0.7075, -0.15  0.15     0\n\tjoints: 9 2 \nupper1, id=14:\n\tcom pose: 8.56822e-18      0.7075     -0.7075, -0.236638  0.224092 0.0974904\n\tjoints: 2 3 \nlower1, id=15:\n\tcom pose: -3.13575e-17      -0.8625      -0.7075, -0.242507  0.229111  0.288308\n\tjoints: 3 13 \ngrab1, id=16:\n\tcom pose: -3.13575e-17      -0.8625      -0.7075,  -0.445212   0.402463 -0.0230752\n\tjoints: 13 \nJOINTS:\n10\n\tid=0\n\tparent link: body\n\tchild link: hip2\n\tscrew axis (parent):   -0    0   -1 0.15 0.15   -0\n\tpMc:       0      -0 -0.7075,  0.15 -0.15     0\n4\n\tid=1\n\tparent link: hip2\n\tchild link: upper2\n\tscrew axis (parent):  2.65359e-06            1 -1.27535e-22            0            0            0\n\tpMc: -6.08428e-17       0.7075      3.14159,     0.113998 -3.02505e-07    0.0974904\n5\n\tid=2\n\tparent link: upper2\n\tchild link: lower2\n\tscrew axis (parent):  3.55852e-17           -1   5.7567e-17 -5.25054e-18  7.48371e-18         0.13\n\tpMc: -3.94976e-13        -1.57  3.94797e-13,   -0.129889 5.45289e-17        0.14\n14\n\tid=3\n\tparent link: lower2\n\tchild link: grab2\n\tscrew axis (parent):           -1 -1.15834e-16  6.77853e-16  1.97661e-32 -3.33067e-16 -2.77556e-17\n\tpMc:  4.4246e-16 1.33888e-15 2.31667e-16,       -0.41 7.74083e-17 4.99964e-16\n11\n\tid=4\n\tparent link: body\n\tchild link: hip3\n\tscrew axis (parent):     0    -0    -1  0.15 -0.15     0\n\tpMc:      0     -0 0.7075, -0.15 -0.15     0\n6\n\tid=5\n\tparent link: hip3\n\tchild link: upper3\n\tscrew axis (parent): -2.75719e-17           -1            0           -0            0            0\n\tpMc: 4.18562e-17      0.7075 5.42211e-18,   -0.113998 1.99516e-19   0.0974904\n7\n\tid=6\n\tparent link: upper3\n\tchild link: lower3\n\tscrew axis (parent): 2.02275e-17          -1 5.81724e-18 1.26252e-17 7.56241e-19        0.13\n\tpMc: -1.12402e-13        -1.57  1.12452e-13,  -0.129889 1.8667e-17       0.14\n15\n\tid=7\n\tparent link: lower3\n\tchild link: grab3\n\tscrew axis (parent):           -1   4.1587e-17  1.72881e-16  -1.3105e-32 -5.55112e-17   -6.245e-17\n\tpMc: 2.35805e-16 3.19089e-16 -8.3174e-17,       -0.41 3.78673e-17 1.26393e-16\n8\n\tid=8\n\tparent link: body\n\tchild link: hip0\n\tscrew axis (parent):     0    -0    -1 -0.15  0.15     0\n\tpMc:      0     -0 0.7075, 0.15 0.15    0\n0\n\tid=9\n\tparent link: hip0\n\tchild link: upper0\n\tscrew axis (parent):  2.65359e-06            1 -1.27535e-22            0            0            0\n\tpMc: 1.22015e-16      0.7075     3.14159,     0.113998 -3.02505e-07    0.0974904\n1\n\tid=10\n\tparent link: upper0\n\tchild link: lower0\n\tscrew axis (parent): -4.91555e-17           -1  -5.4733e-17 -4.33873e-17 -7.11529e-18         0.13\n\tpMc:  1.44596e-13        -1.57 -1.44472e-13,   -0.129889 -3.1588e-17        0.14\n12\n\tid=11\n\tparent link: lower0\n\tchild link: grab0\n\tscrew axis (parent):           -1  1.45921e-16   7.0666e-16 -2.33392e-32 -2.77556e-16  2.42861e-17\n\tpMc: -4.22755e-16  1.34533e-15 -2.91842e-16,       -0.41 1.81943e-17 5.11775e-16\n9\n\tid=12\n\tparent link: body\n\tchild link: hip1\n\tscrew axis (parent):    -0     0    -1 -0.15 -0.15     0\n\tpMc:       0      -0 -0.7075, -0.15  0.15     0\n2\n\tid=13\n\tparent link: hip1\n\tchild link: upper1\n\tscrew axis (parent): 2.75719e-17          -1           0           0           0           0\n\tpMc: -4.18562e-17       0.7075 -5.42211e-18,    -0.113998 -1.99516e-19    0.0974904\n3\n\tid=14\n\tparent link: upper1\n\tchild link: lower1\n\tscrew axis (parent): -2.02275e-17           -1 -5.81724e-18  1.26252e-17 -7.56241e-19         0.13\n\tpMc:  1.12402e-13        -1.57 -1.12452e-13,   -0.129889 -1.8667e-17        0.14\n13\n\tid=15\n\tparent link: lower1\n\tchild link: grab1\n\tscrew axis (parent):           -1  -4.1587e-17  1.72881e-16   1.3105e-32 -5.55112e-17    6.245e-17\n\tpMc: -2.35805e-16  3.19089e-16   8.3174e-17,        -0.41 -3.78673e-17  1.26393e-16\n",
     "output_type": "error",
     "traceback": [
      "\u001b[0;31m---------------------------------------------------------------------------\u001b[0m",
      "\u001b[0;31mTypeError\u001b[0m                                 Traceback (most recent call last)",
      "\u001b[0;32m<ipython-input-64-0f637494598f>\u001b[0m in \u001b[0;36m<module>\u001b[0;34m\u001b[0m\n\u001b[0;32m----> 1\u001b[0;31m \u001b[0mkinematics\u001b[0m \u001b[0;34m=\u001b[0m \u001b[0mgtd\u001b[0m\u001b[0;34m.\u001b[0m\u001b[0mKinematics\u001b[0m\u001b[0;34m(\u001b[0m\u001b[0mrobot\u001b[0m\u001b[0;34m)\u001b[0m\u001b[0;34m\u001b[0m\u001b[0;34m\u001b[0m\u001b[0m\n\u001b[0m\u001b[1;32m      2\u001b[0m \u001b[0mresult\u001b[0m \u001b[0;34m=\u001b[0m \u001b[0mkinematics\u001b[0m\u001b[0;34m.\u001b[0m\u001b[0minverseSlice\u001b[0m\u001b[0;34m(\u001b[0m\u001b[0mSlice\u001b[0m\u001b[0;34m(\u001b[0m\u001b[0;36m4\u001b[0m\u001b[0;34m)\u001b[0m\u001b[0;34m,\u001b[0m \u001b[0mcontact_goals\u001b[0m\u001b[0;34m)\u001b[0m\u001b[0;34m\u001b[0m\u001b[0;34m\u001b[0m\u001b[0m\n",
      "\u001b[0;31mTypeError\u001b[0m: __init__(): incompatible constructor arguments. The following argument types are supported:\n    1. gtdynamics.gtdynamics.Kinematics()\n\nInvoked with: \nLINKS:\nbody, id=0:\n\tcom pose:  0 -0  0, 0 0 0\n\tjoints: 10 11 8 9 \nhip2, id=1:\n\tcom pose:       0      -0 -0.7075,  0.15 -0.15     0\n\tjoints: 10 4 \nupper2, id=2:\n\tcom pose: -3.17477e-17       0.7075      2.43409,  0.236637 -0.224092 0.0974904\n\tjoints: 4 5 \nlower2, id=3:\n\tcom pose: -1.12924e-16      -0.8625      2.43409,  0.242507 -0.229111  0.288308\n\tjoints: 5 14 \ngrab2, id=4:\n\tcom pose: -1.12924e-16      -0.8625      2.43409,   0.445212  -0.402464 -0.0230752\n\tjoints: 14 \nhip3, id=5:\n\tcom pose:      0     -0 0.7075, -0.15 -0.15     0\n\tjoints: 11 6 \nupper3, id=6:\n\tcom pose: -8.56822e-18       0.7075       0.7075, -0.236638 -0.224092 0.0974904\n\tjoints: 6 7 \nlower3, id=7:\n\tcom pose: 3.13575e-17     -0.8625      0.7075, -0.242507 -0.229111  0.288308\n\tjoints: 7 15 \ngrab3, id=8:\n\tcom pose: 3.13575e-17     -0.8625      0.7075,  -0.445212  -0.402463 -0.0230752\n\tjoints: 15 \nhip0, id=9:\n\tcom pose:      0     -0 0.7075, 0.15 0.15    0\n\tjoints: 8 0 \nupper0, id=10:\n\tcom pose: 1.91056e-17      0.7075     -2.4341,  0.236638  0.224091 0.0974904\n\tjoints: 0 1 \nlower0, id=11:\n\tcom pose: -7.41614e-17      -0.8625      -2.4341, 0.242507 0.229111 0.288308\n\tjoints: 1 12 \ngrab0, id=12:\n\tcom pose: -7.41614e-17      -0.8625      -2.4341,   0.445213   0.402462 -0.0230752\n\tjoints: 12 \nhip1, id=13:\n\tcom pose:       0      -0 -0.7075, -0.15  0.15     0\n\tjoints: 9 2 \nupper1, id=14:\n\tcom pose: 8.56822e-18      0.7075     -0.7075, -0.236638  0.224092 0.0974904\n\tjoints: 2 3 \nlower1, id=15:\n\tcom pose: -3.13575e-17      -0.8625      -0.7075, -0.242507  0.229111  0.288308\n\tjoints: 3 13 \ngrab1, id=16:\n\tcom pose: -3.13575e-17      -0.8625      -0.7075,  -0.445212   0.402463 -0.0230752\n\tjoints: 13 \nJOINTS:\n10\n\tid=0\n\tparent link: body\n\tchild link: hip2\n\tscrew axis (parent):   -0    0   -1 0.15 0.15   -0\n\tpMc:       0      -0 -0.7075,  0.15 -0.15     0\n4\n\tid=1\n\tparent link: hip2\n\tchild link: upper2\n\tscrew axis (parent):  2.65359e-06            1 -1.27535e-22            0            0            0\n\tpMc: -6.08428e-17       0.7075      3.14159,     0.113998 -3.02505e-07    0.0974904\n5\n\tid=2\n\tparent link: upper2\n\tchild link: lower2\n\tscrew axis (parent):  3.55852e-17           -1   5.7567e-17 -5.25054e-18  7.48371e-18         0.13\n\tpMc: -3.94976e-13        -1.57  3.94797e-13,   -0.129889 5.45289e-17        0.14\n14\n\tid=3\n\tparent link: lower2\n\tchild link: grab2\n\tscrew axis (parent):           -1 -1.15834e-16  6.77853e-16  1.97661e-32 -3.33067e-16 -2.77556e-17\n\tpMc:  4.4246e-16 1.33888e-15 2.31667e-16,       -0.41 7.74083e-17 4.99964e-16\n11\n\tid=4\n\tparent link: body\n\tchild link: hip3\n\tscrew axis (parent):     0    -0    -1  0.15 -0.15     0\n\tpMc:      0     -0 0.7075, -0.15 -0.15     0\n6\n\tid=5\n\tparent link: hip3\n\tchild link: upper3\n\tscrew axis (parent): -2.75719e-17           -1            0           -0            0            0\n\tpMc: 4.18562e-17      0.7075 5.42211e-18,   -0.113998 1.99516e-19   0.0974904\n7\n\tid=6\n\tparent link: upper3\n\tchild link: lower3\n\tscrew axis (parent): 2.02275e-17          -1 5.81724e-18 1.26252e-17 7.56241e-19        0.13\n\tpMc: -1.12402e-13        -1.57  1.12452e-13,  -0.129889 1.8667e-17       0.14\n15\n\tid=7\n\tparent link: lower3\n\tchild link: grab3\n\tscrew axis (parent):           -1   4.1587e-17  1.72881e-16  -1.3105e-32 -5.55112e-17   -6.245e-17\n\tpMc: 2.35805e-16 3.19089e-16 -8.3174e-17,       -0.41 3.78673e-17 1.26393e-16\n8\n\tid=8\n\tparent link: body\n\tchild link: hip0\n\tscrew axis (parent):     0    -0    -1 -0.15  0.15     0\n\tpMc:      0     -0 0.7075, 0.15 0.15    0\n0\n\tid=9\n\tparent link: hip0\n\tchild link: upper0\n\tscrew axis (parent):  2.65359e-06            1 -1.27535e-22            0            0            0\n\tpMc: 1.22015e-16      0.7075     3.14159,     0.113998 -3.02505e-07    0.0974904\n1\n\tid=10\n\tparent link: upper0\n\tchild link: lower0\n\tscrew axis (parent): -4.91555e-17           -1  -5.4733e-17 -4.33873e-17 -7.11529e-18         0.13\n\tpMc:  1.44596e-13        -1.57 -1.44472e-13,   -0.129889 -3.1588e-17        0.14\n12\n\tid=11\n\tparent link: lower0\n\tchild link: grab0\n\tscrew axis (parent):           -1  1.45921e-16   7.0666e-16 -2.33392e-32 -2.77556e-16  2.42861e-17\n\tpMc: -4.22755e-16  1.34533e-15 -2.91842e-16,       -0.41 1.81943e-17 5.11775e-16\n9\n\tid=12\n\tparent link: body\n\tchild link: hip1\n\tscrew axis (parent):    -0     0    -1 -0.15 -0.15     0\n\tpMc:       0      -0 -0.7075, -0.15  0.15     0\n2\n\tid=13\n\tparent link: hip1\n\tchild link: upper1\n\tscrew axis (parent): 2.75719e-17          -1           0           0           0           0\n\tpMc: -4.18562e-17       0.7075 -5.42211e-18,    -0.113998 -1.99516e-19    0.0974904\n3\n\tid=14\n\tparent link: upper1\n\tchild link: lower1\n\tscrew axis (parent): -2.02275e-17           -1 -5.81724e-18  1.26252e-17 -7.56241e-19         0.13\n\tpMc:  1.12402e-13        -1.57 -1.12452e-13,   -0.129889 -1.8667e-17        0.14\n13\n\tid=15\n\tparent link: lower1\n\tchild link: grab1\n\tscrew axis (parent):           -1  -4.1587e-17  1.72881e-16   1.3105e-32 -5.55112e-17    6.245e-17\n\tpMc: -2.35805e-16  3.19089e-16   8.3174e-17,        -0.41 -3.78673e-17  1.26393e-16\n"
     ]
    }
   ],
   "source": [
    "kinematics = gtd.Kinematics(robot)\n",
    "result = kinematics.inverseSlice(Slice(4), contact_goals)"
   ]
  },
  {
   "cell_type": "code",
   "execution_count": 53,
   "id": "80f23f90",
   "metadata": {},
   "outputs": [
    {
     "ename": "NameError",
     "evalue": "name 'contact_goals' is not defined",
     "output_type": "error",
     "traceback": [
      "\u001b[0;31m---------------------------------------------------------------------------\u001b[0m",
      "\u001b[0;31mNameError\u001b[0m                                 Traceback (most recent call last)",
      "\u001b[0;32m<ipython-input-53-5f1cb37c7632>\u001b[0m in \u001b[0;36m<module>\u001b[0;34m\u001b[0m\n\u001b[0;32m----> 1\u001b[0;31m \u001b[0;32mfor\u001b[0m \u001b[0mgoal\u001b[0m \u001b[0;32min\u001b[0m \u001b[0mcontact_goals\u001b[0m\u001b[0;34m:\u001b[0m\u001b[0;34m\u001b[0m\u001b[0;34m\u001b[0m\u001b[0m\n\u001b[0m\u001b[1;32m      2\u001b[0m     \u001b[0mprint\u001b[0m\u001b[0;34m(\u001b[0m\u001b[0mgoal\u001b[0m\u001b[0;34m.\u001b[0m\u001b[0mlink\u001b[0m\u001b[0;34m(\u001b[0m\u001b[0;34m)\u001b[0m\u001b[0;34m.\u001b[0m\u001b[0mname\u001b[0m\u001b[0;34m(\u001b[0m\u001b[0;34m)\u001b[0m\u001b[0;34m,\u001b[0m \u001b[0mgoal\u001b[0m\u001b[0;34m.\u001b[0m\u001b[0msatisfied\u001b[0m\u001b[0;34m(\u001b[0m\u001b[0mresult\u001b[0m\u001b[0;34m,\u001b[0m\u001b[0mk\u001b[0m\u001b[0;34m=\u001b[0m\u001b[0;36m4\u001b[0m\u001b[0;34m,\u001b[0m\u001b[0mtol\u001b[0m\u001b[0;34m=\u001b[0m\u001b[0;36m1e-3\u001b[0m\u001b[0;34m)\u001b[0m\u001b[0;34m)\u001b[0m\u001b[0;34m\u001b[0m\u001b[0;34m\u001b[0m\u001b[0m\n",
      "\u001b[0;31mNameError\u001b[0m: name 'contact_goals' is not defined"
     ]
    }
   ],
   "source": [
    "for goal in contact_goals:\n",
    "    print(goal.link().name(), goal.satisfied(result,k=4,tol=1e-3))"
   ]
  },
  {
   "cell_type": "code",
   "execution_count": 56,
   "id": "53063654",
   "metadata": {},
   "outputs": [
    {
     "ename": "AttributeError",
     "evalue": "'gtdynamics.gtdynamics.Link' object has no attribute 'wTcom'",
     "output_type": "error",
     "traceback": [
      "\u001b[0;31m---------------------------------------------------------------------------\u001b[0m",
      "\u001b[0;31mAttributeError\u001b[0m                            Traceback (most recent call last)",
      "\u001b[0;32m<ipython-input-56-239e07a2e458>\u001b[0m in \u001b[0;36m<module>\u001b[0;34m\u001b[0m\n\u001b[0;32m----> 1\u001b[0;31m \u001b[0mrobot\u001b[0m\u001b[0;34m.\u001b[0m\u001b[0mlink\u001b[0m\u001b[0;34m(\u001b[0m\u001b[0;34m\"grab0\"\u001b[0m\u001b[0;34m)\u001b[0m\u001b[0;34m.\u001b[0m\u001b[0mwTcom\u001b[0m\u001b[0;34m(\u001b[0m\u001b[0;34m)\u001b[0m\u001b[0;34m.\u001b[0m\u001b[0mtranslation\u001b[0m\u001b[0;34m(\u001b[0m\u001b[0;34m)\u001b[0m\u001b[0;34m\u001b[0m\u001b[0;34m\u001b[0m\u001b[0m\n\u001b[0m",
      "\u001b[0;31mAttributeError\u001b[0m: 'gtdynamics.gtdynamics.Link' object has no attribute 'wTcom'"
     ]
    }
   ],
   "source": [
    "robot.link(\"grab0\").wTcom().translation()"
   ]
  },
  {
   "cell_type": "code",
   "execution_count": 57,
   "id": "7f9d0692",
   "metadata": {},
   "outputs": [
    {
     "ename": "RuntimeError",
     "evalue": "no link named l_gripper",
     "output_type": "error",
     "traceback": [
      "\u001b[0;31m---------------------------------------------------------------------------\u001b[0m",
      "\u001b[0;31mRuntimeError\u001b[0m                              Traceback (most recent call last)",
      "\u001b[0;32m<ipython-input-57-8969d46b8324>\u001b[0m in \u001b[0;36m<module>\u001b[0;34m\u001b[0m\n\u001b[1;32m      1\u001b[0m \u001b[0;32mimport\u001b[0m \u001b[0mnumpy\u001b[0m \u001b[0;32mas\u001b[0m \u001b[0mnp\u001b[0m\u001b[0;34m\u001b[0m\u001b[0;34m\u001b[0m\u001b[0m\n\u001b[0;32m----> 2\u001b[0;31m points = np.asarray([robot.link(\"l_gripper\").wTcom().translation(), \n\u001b[0m\u001b[1;32m      3\u001b[0m                      \u001b[0mrobot\u001b[0m\u001b[0;34m.\u001b[0m\u001b[0mlink\u001b[0m\u001b[0;34m(\u001b[0m\u001b[0;34m\"l_ankle\"\u001b[0m\u001b[0;34m)\u001b[0m\u001b[0;34m.\u001b[0m\u001b[0mwTcom\u001b[0m\u001b[0;34m(\u001b[0m\u001b[0;34m)\u001b[0m\u001b[0;34m.\u001b[0m\u001b[0mtranslation\u001b[0m\u001b[0;34m(\u001b[0m\u001b[0;34m)\u001b[0m\u001b[0;34m,\u001b[0m\u001b[0;34m\u001b[0m\u001b[0;34m\u001b[0m\u001b[0m\n\u001b[1;32m      4\u001b[0m                      \u001b[0mrobot\u001b[0m\u001b[0;34m.\u001b[0m\u001b[0mlink\u001b[0m\u001b[0;34m(\u001b[0m\u001b[0;34m\"r_gripper\"\u001b[0m\u001b[0;34m)\u001b[0m\u001b[0;34m.\u001b[0m\u001b[0mwTcom\u001b[0m\u001b[0;34m(\u001b[0m\u001b[0;34m)\u001b[0m\u001b[0;34m.\u001b[0m\u001b[0mtranslation\u001b[0m\u001b[0;34m(\u001b[0m\u001b[0;34m)\u001b[0m\u001b[0;34m,\u001b[0m\u001b[0;34m\u001b[0m\u001b[0;34m\u001b[0m\u001b[0m\n\u001b[1;32m      5\u001b[0m                      robot.link(\"r_ankle\").wTcom().translation()])\n",
      "\u001b[0;31mRuntimeError\u001b[0m: no link named l_gripper"
     ]
    }
   ],
   "source": [
    "import numpy as np\n",
    "points = np.asarray([robot.link(\"l_gripper\").wTcom().translation(), \n",
    "                     robot.link(\"l_ankle\").wTcom().translation(), \n",
    "                     robot.link(\"r_gripper\").wTcom().translation(), \n",
    "                     robot.link(\"r_ankle\").wTcom().translation()])"
   ]
  },
  {
   "cell_type": "code",
   "execution_count": 58,
   "id": "0789eeca",
   "metadata": {},
   "outputs": [
    {
     "ename": "ModuleNotFoundError",
     "evalue": "No module named 'mpl_toolkits'",
     "output_type": "error",
     "traceback": [
      "\u001b[0;31m---------------------------------------------------------------------------\u001b[0m",
      "\u001b[0;31mModuleNotFoundError\u001b[0m                       Traceback (most recent call last)",
      "\u001b[0;32m<ipython-input-58-5fbed523ee4c>\u001b[0m in \u001b[0;36m<module>\u001b[0;34m\u001b[0m\n\u001b[0;32m----> 1\u001b[0;31m \u001b[0;32mfrom\u001b[0m \u001b[0mmpl_toolkits\u001b[0m \u001b[0;32mimport\u001b[0m \u001b[0mmplot3d\u001b[0m\u001b[0;34m\u001b[0m\u001b[0;34m\u001b[0m\u001b[0m\n\u001b[0m\u001b[1;32m      2\u001b[0m \u001b[0;34m\u001b[0m\u001b[0m\n\u001b[1;32m      3\u001b[0m \u001b[0;34m\u001b[0m\u001b[0m\n\u001b[1;32m      4\u001b[0m \u001b[0mget_ipython\u001b[0m\u001b[0;34m(\u001b[0m\u001b[0;34m)\u001b[0m\u001b[0;34m.\u001b[0m\u001b[0mrun_line_magic\u001b[0m\u001b[0;34m(\u001b[0m\u001b[0;34m'matplotlib'\u001b[0m\u001b[0;34m,\u001b[0m \u001b[0;34m'inline'\u001b[0m\u001b[0;34m)\u001b[0m\u001b[0;34m\u001b[0m\u001b[0;34m\u001b[0m\u001b[0m\n\u001b[1;32m      5\u001b[0m \u001b[0;32mimport\u001b[0m \u001b[0mnumpy\u001b[0m \u001b[0;32mas\u001b[0m \u001b[0mnp\u001b[0m\u001b[0;34m\u001b[0m\u001b[0;34m\u001b[0m\u001b[0m\n",
      "\u001b[0;31mModuleNotFoundError\u001b[0m: No module named 'mpl_toolkits'"
     ]
    }
   ],
   "source": [
    "from mpl_toolkits import mplot3d\n",
    "\n",
    "\n",
    "%matplotlib inline\n",
    "import numpy as np\n",
    "import matplotlib.pyplot as plt\n",
    "\n",
    "\n",
    "\n",
    "fig = plt.figure()\n",
    "ax = plt.axes(projection='3d')\n",
    "\n",
    "\n",
    "ax.scatter3D(points[:, 0], points[:, 1], points[:, 2]);"
   ]
  },
  {
   "cell_type": "code",
   "execution_count": 123,
   "id": "16f9caa3",
   "metadata": {},
   "outputs": [
    {
     "data": {
      "text/plain": [
       "array([ 0.02541975,  0.05330005, -0.32029059])"
      ]
     },
     "execution_count": 123,
     "metadata": {},
     "output_type": "execute_result"
    }
   ],
   "source": [
    "robot.link(\"l_ankle\").wTcom().translation()"
   ]
  },
  {
   "cell_type": "code",
   "execution_count": 139,
   "id": "efdd8929",
   "metadata": {},
   "outputs": [
    {
     "name": "stderr",
     "output_type": "stream",
     "text": [
      "..\n",
      "----------------------------------------------------------------------\n",
      "Ran 2 tests in 0.775s\n",
      "\n",
      "OK\n"
     ]
    }
   ],
   "source": [
    "import unittest\n",
    "\n",
    "class TestRobot(unittest.TestCase):\n",
    "    \n",
    "    def testInverseKinematicsHands(self):\n",
    "        robot = gtd.CreateRobotFromFile(gtd.URDF_PATH + \"/humanoid/nao.urdf\")\n",
    "        contact_goals = [\n",
    "            ContactGoal(LH, [.01, .113, .26]),\n",
    "            ContactGoal(LF, robot.link(\"l_ankle\").wTcom().translation()),\n",
    "            ContactGoal(RH, [.01, -.113, .26]),\n",
    "            ContactGoal(RF, robot.link(\"r_ankle\").wTcom().translation()),\n",
    "        ]\n",
    "        kinematics = gtd.Kinematics(robot)\n",
    "        result = kinematics.inverseSlice(Slice(4), contact_goals)\n",
    "        for goal in contact_goals:\n",
    "            self.assertTrue(goal.satisfied(result,k=4,tol=1e-3))\n",
    "            \n",
    "    def testInverseKinematicsAll(self):\n",
    "        robot = gtd.CreateRobotFromFile(gtd.URDF_PATH + \"/humanoid/nao.urdf\")\n",
    "        contact_goals = [\n",
    "            ContactGoal(LH, [.01, .113, .26]),\n",
    "            ContactGoal(LF, [0.025, 0.05, -0.3]),\n",
    "            ContactGoal(RH, [.01, -.113, .26]),\n",
    "            ContactGoal(RF, [0.025, -0.05, -0.3]),\n",
    "        ]\n",
    "        kinematics = gtd.Kinematics(robot)\n",
    "        result = kinematics.inverseSlice(Slice(4), contact_goals)\n",
    "        for goal in contact_goals:\n",
    "            self.assertTrue(goal.satisfied(result,k=4,tol=1e-3))\n",
    "            \n",
    "if __name__ == '__main__':\n",
    "    unittest.main(argv=['first-arg-is-ignored'], exit=False)"
   ]
  },
  {
   "cell_type": "code",
   "execution_count": null,
   "id": "8b703bf9",
   "metadata": {},
   "outputs": [],
   "source": []
  },
  {
   "cell_type": "code",
   "execution_count": null,
   "id": "b060c4c0",
   "metadata": {},
   "outputs": [],
   "source": []
  },
  {
   "cell_type": "code",
   "execution_count": null,
   "id": "01fc0a47",
   "metadata": {},
   "outputs": [],
   "source": []
  },
  {
   "cell_type": "code",
   "execution_count": null,
   "id": "53dc692f",
   "metadata": {},
   "outputs": [],
   "source": []
  },
  {
   "cell_type": "code",
   "execution_count": null,
   "id": "8cf1dab6",
   "metadata": {},
   "outputs": [],
   "source": []
  },
  {
   "cell_type": "code",
   "execution_count": 47,
   "id": "1d3c1bb2",
   "metadata": {},
   "outputs": [
    {
     "ename": "NameError",
     "evalue": "name 'pybullet_robot' is not defined",
     "output_type": "error",
     "traceback": [
      "\u001b[0;31m---------------------------------------------------------------------------\u001b[0m",
      "\u001b[0;31mNameError\u001b[0m                                 Traceback (most recent call last)",
      "\u001b[0;32m<ipython-input-47-bc284fdeee88>\u001b[0m in \u001b[0;36m<module>\u001b[0;34m\u001b[0m\n\u001b[0;32m----> 1\u001b[0;31m \u001b[0m_link_name_to_index\u001b[0m \u001b[0;34m=\u001b[0m \u001b[0;34m{\u001b[0m\u001b[0mp\u001b[0m\u001b[0;34m.\u001b[0m\u001b[0mgetBodyInfo\u001b[0m\u001b[0;34m(\u001b[0m\u001b[0mpybullet_robot\u001b[0m\u001b[0;34m)\u001b[0m\u001b[0;34m[\u001b[0m\u001b[0;36m0\u001b[0m\u001b[0;34m]\u001b[0m\u001b[0;34m.\u001b[0m\u001b[0mdecode\u001b[0m\u001b[0;34m(\u001b[0m\u001b[0;34m'UTF-8'\u001b[0m\u001b[0;34m)\u001b[0m\u001b[0;34m:\u001b[0m\u001b[0;34m-\u001b[0m\u001b[0;36m1\u001b[0m\u001b[0;34m,\u001b[0m\u001b[0;34m}\u001b[0m\u001b[0;34m\u001b[0m\u001b[0;34m\u001b[0m\u001b[0m\n\u001b[0m\u001b[1;32m      2\u001b[0m \u001b[0;34m\u001b[0m\u001b[0m\n\u001b[1;32m      3\u001b[0m \u001b[0;32mfor\u001b[0m \u001b[0m_id\u001b[0m \u001b[0;32min\u001b[0m \u001b[0mrange\u001b[0m\u001b[0;34m(\u001b[0m\u001b[0mp\u001b[0m\u001b[0;34m.\u001b[0m\u001b[0mgetNumJoints\u001b[0m\u001b[0;34m(\u001b[0m\u001b[0mpybullet_robot\u001b[0m\u001b[0;34m)\u001b[0m\u001b[0;34m)\u001b[0m\u001b[0;34m:\u001b[0m\u001b[0;34m\u001b[0m\u001b[0;34m\u001b[0m\u001b[0m\n\u001b[1;32m      4\u001b[0m     \u001b[0m_name\u001b[0m \u001b[0;34m=\u001b[0m \u001b[0mp\u001b[0m\u001b[0;34m.\u001b[0m\u001b[0mgetJointInfo\u001b[0m\u001b[0;34m(\u001b[0m\u001b[0mpybullet_robot\u001b[0m\u001b[0;34m,\u001b[0m \u001b[0m_id\u001b[0m\u001b[0;34m)\u001b[0m\u001b[0;34m[\u001b[0m\u001b[0;36m12\u001b[0m\u001b[0;34m]\u001b[0m\u001b[0;34m.\u001b[0m\u001b[0mdecode\u001b[0m\u001b[0;34m(\u001b[0m\u001b[0;34m'UTF-8'\u001b[0m\u001b[0;34m)\u001b[0m\u001b[0;34m\u001b[0m\u001b[0;34m\u001b[0m\u001b[0m\n\u001b[1;32m      5\u001b[0m     \u001b[0m_link_name_to_index\u001b[0m\u001b[0;34m[\u001b[0m\u001b[0m_name\u001b[0m\u001b[0;34m]\u001b[0m \u001b[0;34m=\u001b[0m \u001b[0m_id\u001b[0m\u001b[0;34m\u001b[0m\u001b[0;34m\u001b[0m\u001b[0m\n",
      "\u001b[0;31mNameError\u001b[0m: name 'pybullet_robot' is not defined"
     ]
    }
   ],
   "source": [
    "_link_name_to_index = {p.getBodyInfo(climb_robot)[0].decode('UTF-8'):-1,}\n",
    "        \n",
    "for _id in range(p.getNumJoints(climb_robot)):\n",
    "    _name = p.getJointInfo(pybullet_robot, _id)[12].decode('UTF-8')\n",
    "    _link_name_to_index[_name] = _id"
   ]
  },
  {
   "cell_type": "code",
   "execution_count": 46,
   "id": "5bb3700c",
   "metadata": {},
   "outputs": [
    {
     "ename": "NameError",
     "evalue": "name '_link_name_to_index' is not defined",
     "output_type": "error",
     "traceback": [
      "\u001b[0;31m---------------------------------------------------------------------------\u001b[0m",
      "\u001b[0;31mNameError\u001b[0m                                 Traceback (most recent call last)",
      "\u001b[0;32m<ipython-input-46-b896834e5bcb>\u001b[0m in \u001b[0;36m<module>\u001b[0;34m\u001b[0m\n\u001b[0;32m----> 1\u001b[0;31m \u001b[0m_link_name_to_index\u001b[0m\u001b[0;34m\u001b[0m\u001b[0;34m\u001b[0m\u001b[0m\n\u001b[0m",
      "\u001b[0;31mNameError\u001b[0m: name '_link_name_to_index' is not defined"
     ]
    }
   ],
   "source": [
    "_link_name_to_index"
   ]
  },
  {
   "cell_type": "code",
   "execution_count": null,
   "id": "a076d0bf",
   "metadata": {},
   "outputs": [],
   "source": []
  }
 ],
 "metadata": {
  "kernelspec": {
   "display_name": "Python 3",
   "language": "python",
   "name": "python3"
  },
  "language_info": {
   "codemirror_mode": {
    "name": "ipython",
    "version": 3
   },
   "file_extension": ".py",
   "mimetype": "text/x-python",
   "name": "python",
   "nbconvert_exporter": "python",
   "pygments_lexer": "ipython3",
   "version": "3.6.9"
  }
 },
 "nbformat": 4,
 "nbformat_minor": 5
}
