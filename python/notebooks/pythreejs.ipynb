{
 "metadata": {
  "language_info": {
   "codemirror_mode": {
    "name": "ipython",
    "version": 3
   },
   "file_extension": ".py",
   "mimetype": "text/x-python",
   "name": "python",
   "nbconvert_exporter": "python",
   "pygments_lexer": "ipython3",
   "version": "3.7.6"
  },
  "orig_nbformat": 2,
  "kernelspec": {
   "name": "python376jvsc74a57bd0cf5ba4561f13e182f8bb4211efd31352d5bcc4fd9f227cefcb3cfb0b495ac329",
   "display_name": "Python 3.7.6 64-bit ('base': conda)"
  }
 },
 "nbformat": 4,
 "nbformat_minor": 2,
 "cells": [
  {
   "source": [
    "## 3D rendering with pythreejs\n",
    "\n",
    "As detailed on [this page](https://github.com/jupyter-widgets/pythreejs).\n",
    "\n",
    "To run this notebook, first install pythreejs with\n",
    "```\n",
    "pip install pythreejs\n",
    "```\n",
    "or\n",
    "```\n",
    "conda install -c conda-forge pythreejs\n",
    "```"
   ],
   "cell_type": "markdown",
   "metadata": {}
  },
  {
   "cell_type": "code",
   "execution_count": null,
   "metadata": {},
   "outputs": [],
   "source": [
    "import pythreejs\n",
    "from pythreejs import IcosahedronGeometry, SphereBufferGeometry, Mesh, MeshPhysicalMaterial, CombinedCamera, PointLight, AmbientLight, Scene, Renderer, OrbitControls\n",
    "from IPython.display import display"
   ]
  },
  {
   "cell_type": "code",
   "execution_count": null,
   "metadata": {},
   "outputs": [],
   "source": [
    "# Reduce repo churn for examples with embedded state:\n",
    "from pythreejs._example_helper import use_example_model_ids\n",
    "use_example_model_ids()"
   ]
  },
  {
   "cell_type": "code",
   "execution_count": null,
   "metadata": {},
   "outputs": [],
   "source": [
    "IcosahedronGeometry(radius=10, _flat=True)"
   ]
  },
  {
   "cell_type": "code",
   "execution_count": null,
   "metadata": {},
   "outputs": [],
   "source": [
    "mesh1 = Mesh(SphereBufferGeometry(20, 16, 16), MeshPhysicalMaterial(color='red'), position=[-20, 0, 0])\n",
    "mesh2 = Mesh(SphereBufferGeometry(20, 16, 16), MeshPhysicalMaterial(color='green'), position=[20, 0, 0])\n"
   ]
  },
  {
   "cell_type": "code",
   "execution_count": null,
   "metadata": {},
   "outputs": [],
   "source": [
    "view_width = 600\n",
    "view_height = 400\n",
    "camera = CombinedCamera(position=[0, 0, 60], width=view_width, height=view_height)"
   ]
  },
  {
   "cell_type": "code",
   "execution_count": null,
   "metadata": {},
   "outputs": [],
   "source": [
    "key_light = PointLight(position=[-100, 100, 100])\n",
    "ambient_light = AmbientLight(intensity=0.4)\n",
    "scene = Scene(children=[mesh1, mesh2, key_light, ambient_light, camera])\n",
    "print(scene)\n",
    "renderer = Renderer(scene=scene, camera=camera, controls=[OrbitControls(controlling=camera)],\n",
    "                    width=view_width, height=view_height)\n",
    "display(renderer)"
   ]
  },
  {
   "cell_type": "code",
   "execution_count": null,
   "metadata": {},
   "outputs": [],
   "source": [
    "from ipywidgets import interact\n",
    "@interact(ortho=True)\n",
    "def setOrthographic(ortho:bool):\n",
    "    camera.mode = 'orthographic' if ortho else 'perspective'"
   ]
  }
 ]
}