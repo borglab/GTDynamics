{
 "metadata": {
  "language_info": {
   "codemirror_mode": {
    "name": "ipython",
    "version": 3
   },
   "file_extension": ".py",
   "mimetype": "text/x-python",
   "name": "python",
   "nbconvert_exporter": "python",
   "pygments_lexer": "ipython3",
   "version": "3.8.5"
  },
  "orig_nbformat": 2,
  "kernelspec": {
   "name": "python3",
   "display_name": "Python 3",
   "language": "python"
  }
 },
 "nbformat": 4,
 "nbformat_minor": 2,
 "cells": [
  {
   "source": [
    "# Simulate in PyBullet"
   ],
   "cell_type": "markdown",
   "metadata": {}
  },
  {
   "cell_type": "code",
   "execution_count": null,
   "metadata": {},
   "outputs": [],
   "source": [
    "from typing import Dict\n",
    "\n",
    "import gtdynamics as gtd\n",
    "\n",
    "import time\n",
    "import matplotlib.pyplot as plt\n",
    "import pybullet as p\n",
    "import pybullet_data\n",
    "import pandas as pd\n",
    "import numpy as np"
   ]
  },
  {
   "cell_type": "code",
   "execution_count": null,
   "metadata": {},
   "outputs": [],
   "source": [
    "import pybullet as p\n",
    "p.connect(p.GUI);"
   ]
  },
  {
   "cell_type": "code",
   "execution_count": null,
   "metadata": {},
   "outputs": [],
   "source": [
    "import pybullet_data\n",
    "p.setAdditionalSearchPath(pybullet_data.getDataPath())"
   ]
  },
  {
   "cell_type": "code",
   "execution_count": null,
   "metadata": {},
   "outputs": [],
   "source": [
    "# First, let's make sure we start with a fresh new simulation.\n",
    "p.resetSimulation()\n",
    "p.setGravity(0, 0, -9.8)\n",
    "p.setRealTimeSimulation(0)\n",
    "planeId = p.loadURDF(gtd.URDF_PATH+\"/walls.urdf\")"
   ]
  },
  {
   "cell_type": "code",
   "execution_count": null,
   "metadata": {},
   "outputs": [],
   "source": [
    "file = gtd.SDF_PATH + \"/spider_alt.sdf\"\n",
    "!ls {file}\n",
    "robot = p.loadSDF(file)\n",
    "robot_id = robot[0]  # loadSDF returns a list of objects; the first is the integer ID."
   ]
  },
  {
   "cell_type": "code",
   "execution_count": null,
   "metadata": {},
   "outputs": [],
   "source": [
    "joint_to_jid_map = {}\n",
    "for i in range(p.getNumJoints(robot_id)):\n",
    "    jinfo = p.getJointInfo(robot_id, i)\n",
    "    joint_to_jid_map[jinfo[1].decode(\"utf-8\")] = jinfo[0]"
   ]
  },
  {
   "cell_type": "code",
   "execution_count": null,
   "metadata": {},
   "outputs": [],
   "source": [
    "def set_joint_angles(joint_angles: Dict[str, float], joint_vels: Dict[str, float]):\n",
    "    \"\"\"Actuate to the supplied joint angles using PD control.\"\"\"\n",
    "    for jid in joint_to_jid_map.values():\n",
    "        p.setJointMotorControl2(robot_id, jid, p.VELOCITY_CONTROL, force=5000)\n",
    "\n",
    "    for k, v in joint_angles.items():\n",
    "        p.setJointMotorControl2(bodyUniqueId=robot_id,\n",
    "                                jointIndex=joint_to_jid_map[k],\n",
    "                                controlMode=p.POSITION_CONTROL,\n",
    "                                targetPosition=v,\n",
    "                                targetVelocity=joint_vels[k + '.1'])"
   ]
  },
  {
   "cell_type": "code",
   "execution_count": null,
   "metadata": {},
   "outputs": [],
   "source": [
    "df = pd.read_csv('spider.csv')\n",
    "print(df.columns)"
   ]
  },
  {
   "cell_type": "code",
   "execution_count": null,
   "metadata": {},
   "outputs": [],
   "source": [
    "p.resetBasePositionAndOrientation(robot_id, [0, 0, 0.21], [0, 0, 0, 1])"
   ]
  },
  {
   "cell_type": "code",
   "execution_count": null,
   "metadata": {},
   "outputs": [],
   "source": [
    "# parameters:\n",
    "pos, orn = p.getBasePositionAndOrientation(robot_id)\n",
    "\n",
    "print(\"Init Base\\n\\tPos: {}\\n\\tOrn: {}\".format(pos,\n",
    "                                               p.getEulerFromQuaternion(orn)))\n",
    "\n",
    "max_traj_replays = 1\n",
    "num_traj_replays = 0\n",
    "\n",
    "t = 0\n",
    "t_f = None\n",
    "ts = []\n",
    "all_pos_sim = []\n",
    "\n",
    "link_dict = {}\n",
    "link_to_num = {3: 0, 7: 1, 11: 2, 15: 3, 19: 4, 23: 5, 27: 6, 31: 7}\n",
    "constrained = []\n",
    "dt = 1.0/240"
   ]
  },
  {
   "cell_type": "code",
   "execution_count": null,
   "metadata": {},
   "outputs": [],
   "source": [
    "import time\n",
    "i = 0\n",
    "while True:\n",
    "    if num_traj_replays == max_traj_replays:\n",
    "        break\n",
    "\n",
    "    if (i == len(df) - 1):\n",
    "        i = 0\n",
    "        if num_traj_replays == 0:\n",
    "            t_f = t\n",
    "        num_traj_replays += 1\n",
    "\n",
    "    jangles = df.loc[i][np.arange(32)]\n",
    "    jvels = df.loc[i][np.arange(32, 64)]\n",
    "    jaccels = df.loc[i][np.arange(64, 96)]\n",
    "    jtorques = df.loc[i][np.arange(96, 128)]\n",
    "\n",
    "    set_joint_angles(jangles, jvels)\n",
    "\n",
    "    # Update body CoM coordinate frame.\n",
    "    new_pos, new_orn = p.getBasePositionAndOrientation(robot_id)\n",
    "    new_pos = np.array(new_pos)\n",
    "    new_R = np.array(p.getMatrixFromQuaternion(new_orn)).reshape(3, 3)\n",
    "\n",
    "    print(i)\n",
    "\n",
    "    # Detect collision points and constrain them.\n",
    "    cp = np.asarray(p.getContactPoints(bodyA=planeId, bodyB=robot_id))\n",
    "    if cp.shape[0] > 1 and i > 1:\n",
    "        new_cps = set(cp[:, 4])\n",
    "\n",
    "        change = list(df.loc[i][np.arange(16, 24)] -\n",
    "                      df.loc[i-1][np.arange(16, 24)])\n",
    "        # Initial collision\n",
    "        just_collided = [\n",
    "            x for x in new_cps if x not in constrained and x in link_to_num.keys()]\n",
    "        for x in just_collided:\n",
    "            if (link_to_num[x] < 4 and change[link_to_num[x]] >= 0) or (link_to_num[x] >= 4 and change[link_to_num[x]] <= 0):\n",
    "                link_dict[x] = p.createConstraint(robot_id, x, planeId, -1, p.JOINT_POINT2POINT, [\n",
    "                                                  0, 0, 0], [0, 0, 0], p.getLinkState(robot_id, x)[0])\n",
    "                constrained.append(x)\n",
    "\n",
    "        # Wants to lift\n",
    "        for x in constrained:\n",
    "            if (link_to_num[x] < 4 and change[link_to_num[x]] <= 0) or (link_to_num[x] >= 4 and change[link_to_num[x]] >= 0) and link_dict.get(x) != None:\n",
    "                numConstraints_before = p.getNumConstraints()\n",
    "                p.removeConstraint(link_dict[x])\n",
    "                if numConstraints_before != p.getNumConstraints():\n",
    "                    constrained.remove(x)\n",
    "\n",
    "    p.stepSimulation()\n",
    "    # time.sleep(dt)\n",
    "\n",
    "    ts.append(t)\n",
    "    t += dt\n",
    "    all_pos_sim.append(new_pos)\n",
    "    i += 1\n",
    "\n",
    "\n",
    "pos, orn = p.getBasePositionAndOrientation(robot_id)\n",
    "print(\"Final Base\\n\\tPos: {}\\n\\tOrn: {}\".format(pos,\n",
    "                                                p.getEulerFromQuaternion(orn)))\n"
   ]
  },
  {
   "cell_type": "code",
   "execution_count": null,
   "metadata": {},
   "outputs": [],
   "source": [
    "pos, orn = p.getBasePositionAndOrientation(robot_id)\n",
    "print(\"Final Base\\n\\tPos: {}\\n\\tOrn: {}\".format(pos,\n",
    "                                                p.getEulerFromQuaternion(orn)))\n",
    "\n",
    "fig, axs = plt.subplots(3, 1, sharex=True)\n",
    "fig.subplots_adjust(hspace=0)\n",
    "\n",
    "axs[0].plot(ts, [p[0] for p in all_pos_sim])\n",
    "axs[0].axvline(x=t_f, color='k', linestyle='--')\n",
    "axs[0].set_ylabel('x (m.)')\n",
    "\n",
    "axs[1].plot(ts, [p[1] for p in all_pos_sim])\n",
    "axs[1].axvline(x=t_f, color='k', linestyle='--')\n",
    "axs[1].set_ylabel('y (m.)')\n",
    "\n",
    "axs[2].plot(ts, [p[2] for p in all_pos_sim])\n",
    "axs[2].axvline(x=t_f, color='k', linestyle='--')\n",
    "axs[2].set_ylabel('z (m.)')\n",
    "\n",
    "plt.xlabel(\"time (s.)\")\n",
    "\n",
    "plt.show()"
   ]
  },
  {
   "cell_type": "code",
   "execution_count": null,
   "metadata": {},
   "outputs": [],
   "source": [
    "while True:\n",
    "    p.stepSimulation()\n",
    "    time.sleep(1. / 240)\n",
    "p.disconnect()"
   ]
  }
 ]
}