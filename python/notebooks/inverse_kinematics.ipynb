{
 "metadata": {
  "language_info": {
   "codemirror_mode": {
    "name": "ipython",
    "version": 3
   },
   "file_extension": ".py",
   "mimetype": "text/x-python",
   "name": "python",
   "nbconvert_exporter": "python",
   "pygments_lexer": "ipython3",
   "version": "3.9.6"
  },
  "orig_nbformat": 2,
  "kernelspec": {
   "name": "python3",
   "display_name": "Python 3.9.6 64-bit ('base': conda)"
  },
  "interpreter": {
   "hash": "95ec9ec1504d83f612128e0fb229072f90bbb4cb09d9d5d93b5dd26e0ca2cfd1"
  }
 },
 "nbformat": 4,
 "nbformat_minor": 2,
 "cells": [
  {
   "cell_type": "code",
   "execution_count": null,
   "source": [
    "import gtdynamics as gtd\n",
    "from gtdynamics import ContactGoal, PointOnLink, Slice, Interval\n",
    "from gtsam import Pose3, Point3"
   ],
   "outputs": [],
   "metadata": {}
  },
  {
   "cell_type": "code",
   "execution_count": null,
   "source": [
    "# Load the vision 60 quadruped by Ghost robotics: https://youtu.be/wrBNJKZKg10\n",
    "robot = gtd.CreateRobotFromFile(gtd.URDF_PATH + \"/vision60.urdf\");"
   ],
   "outputs": [],
   "metadata": {}
  },
  {
   "cell_type": "code",
   "execution_count": null,
   "source": [
    "# feet\n",
    "contact_in_com =(0.14, 0, 0)\n",
    "LH = PointOnLink(robot.link(\"lower1\"), contact_in_com)\n",
    "LF = PointOnLink(robot.link(\"lower0\"), contact_in_com)\n",
    "RF = PointOnLink(robot.link(\"lower2\"), contact_in_com)\n",
    "RH = PointOnLink(robot.link(\"lower3\"), contact_in_com)\n",
    "\n",
    "# establish contact/goal pairs\n",
    "contact_goals = [\n",
    "    ContactGoal(LH, [-0.4, 0.16, 0]),\n",
    "    ContactGoal(LF, [0.3, 0.16, 0]),\n",
    "    ContactGoal(RF, [0.3, -0.16, 0]),\n",
    "    ContactGoal(RH, [-0.4, -0.16, 0])\n",
    "    ]\n",
    "print(contact_goals)"
   ],
   "outputs": [],
   "metadata": {}
  },
  {
   "cell_type": "code",
   "execution_count": null,
   "source": [
    "kinematics = gtd.Kinematics()\n",
    "result = kinematics.inverse(Slice(4), robot, contact_goals)\n",
    "print(result)"
   ],
   "outputs": [],
   "metadata": {}
  },
  {
   "cell_type": "code",
   "execution_count": null,
   "source": [
    "for goal in contact_goals:\n",
    "    print(goal.link().name(), goal.satisfied(result,k=4,tol=1e-3))"
   ],
   "outputs": [],
   "metadata": {}
  },
  {
   "cell_type": "code",
   "execution_count": null,
   "source": [
    "# interpolate\n",
    "contact_goals2 = [\n",
    "    ContactGoal(LH, [-0.4, 0.16, 0]),\n",
    "    ContactGoal(LF, [0.3, 0.16, 0]),\n",
    "    ContactGoal(RF, [0.4, -0.16, 0]), # 10 cm on!\n",
    "    ContactGoal(RH, [-0.4, -0.16, 0])\n",
    "    ]\n",
    "interpolated_values = kinematics.interpolate(Interval(4,8), robot, contact_goals, contact_goals2)"
   ],
   "outputs": [],
   "metadata": {}
  },
  {
   "cell_type": "code",
   "execution_count": null,
   "source": [
    "print(interpolated_values)"
   ],
   "outputs": [],
   "metadata": {}
  }
 ]
}