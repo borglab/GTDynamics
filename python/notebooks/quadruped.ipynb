{
 "metadata": {
  "language_info": {
   "codemirror_mode": {
    "name": "ipython",
    "version": 3
   },
   "file_extension": ".py",
   "mimetype": "text/x-python",
   "name": "python",
   "nbconvert_exporter": "python",
   "pygments_lexer": "ipython3",
   "version": "3.9.6"
  },
  "orig_nbformat": 2,
  "kernelspec": {
   "name": "python3",
   "display_name": "Python 3.9.6 64-bit ('base': conda)"
  },
  "interpreter": {
   "hash": "95ec9ec1504d83f612128e0fb229072f90bbb4cb09d9d5d93b5dd26e0ca2cfd1"
  }
 },
 "nbformat": 4,
 "nbformat_minor": 2,
 "cells": [
  {
   "cell_type": "markdown",
   "source": [
    "# Quadruped Walking"
   ],
   "metadata": {}
  },
  {
   "cell_type": "code",
   "execution_count": 1,
   "source": [
    "import gtdynamics as gtd\n",
    "from gtsam import Pose3, Point3\n",
    "import plotly.express as px"
   ],
   "outputs": [],
   "metadata": {}
  },
  {
   "cell_type": "code",
   "execution_count": 2,
   "source": [
    "# Load the vision 60 quadruped by Ghost robotics: https://youtu.be/wrBNJKZKg10\n",
    "robot = gtd.CreateRobotFromFile(gtd.URDF_PATH + \"/vision60.urdf\");"
   ],
   "outputs": [],
   "metadata": {}
  },
  {
   "cell_type": "code",
   "execution_count": 3,
   "source": [
    "# Let's print\n",
    "link_names = [(link.id(), link.name()) for link in robot.links()]\n",
    "link_names.sort()\n",
    "print(link_names)"
   ],
   "outputs": [
    {
     "output_type": "stream",
     "name": "stdout",
     "text": [
      "[(0, 'body'), (1, 'hip2'), (2, 'upper2'), (3, 'lower2'), (4, 'hip3'), (5, 'upper3'), (6, 'lower3'), (7, 'hip0'), (8, 'upper0'), (9, 'lower0'), (10, 'hip1'), (11, 'upper1'), (12, 'lower1')]\n"
     ]
    }
   ],
   "metadata": {}
  },
  {
   "cell_type": "code",
   "execution_count": 4,
   "source": [
    "# Figure out which feet are front, back:\n",
    "for name in [\"lower0\",\"lower1\",\"lower2\",\"lower3\"]:\n",
    "    print(name, robot.link(name).bMcom().translation())"
   ],
   "outputs": [
    {
     "output_type": "stream",
     "name": "stdout",
     "text": [
      "lower0 [ 0.14339896  0.1575     -0.15584766]\n",
      "lower1 [-0.50660104  0.1575     -0.15584766]\n",
      "lower2 [ 0.14339896 -0.1575     -0.15584766]\n",
      "lower3 [-0.50660104 -0.1575     -0.15584766]\n"
     ]
    }
   ],
   "metadata": {}
  },
  {
   "cell_type": "code",
   "execution_count": 5,
   "source": [
    "mapping = {\n",
    "    \"LH\":robot.link(\"lower1\"),\n",
    "    \"LF\":robot.link(\"lower0\"),\n",
    "    \"RF\":robot.link(\"lower2\"),\n",
    "    \"RH\":robot.link(\"lower3\"),\n",
    "    }\n",
    "print([(key,link.id()) for key,link in mapping.items()])"
   ],
   "outputs": [
    {
     "output_type": "stream",
     "name": "stdout",
     "text": [
      "[('LH', 12), ('LF', 9), ('RF', 3), ('RH', 6)]\n"
     ]
    }
   ],
   "metadata": {}
  },
  {
   "cell_type": "code",
   "execution_count": 9,
   "source": [
    "# Create walking phases\n",
    "stationary = gtd.Phase(1, [mapping[\"LF\"]], Point3(1, 1, 1));\n",
    "print(stationary)"
   ],
   "outputs": [
    {
     "output_type": "stream",
     "name": "stdout",
     "text": [
      "[lower0: [1 1 1], ]\n",
      "\n"
     ]
    }
   ],
   "metadata": {}
  }
 ]
}