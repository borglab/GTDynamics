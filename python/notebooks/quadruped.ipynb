{
 "cells": [
  {
   "cell_type": "markdown",
   "metadata": {},
   "source": [
    "# Quadruped Walking"
   ]
  },
  {
   "cell_type": "code",
   "execution_count": 1,
   "metadata": {},
   "outputs": [],
   "source": [
    "import gtdynamics as gtd\n",
    "from gtsam import Pose3, Point3\n",
    "import plotly.express as px"
   ]
  },
  {
   "cell_type": "code",
   "execution_count": 2,
   "metadata": {},
   "outputs": [],
   "source": [
    "# Load the vision 60 quadruped by Ghost robotics: https://youtu.be/wrBNJKZKg10\n",
    "robot = gtd.CreateRobotFromFile(gtd.URDF_PATH + \"/vision60.urdf\");"
   ]
  },
  {
   "cell_type": "code",
   "execution_count": 3,
   "metadata": {},
   "outputs": [
    {
     "name": "stdout",
     "output_type": "stream",
     "text": [
      "[(0, 'body'), (1, 'hip2'), (2, 'upper2'), (3, 'lower2'), (4, 'hip3'), (5, 'upper3'), (6, 'lower3'), (7, 'hip0'), (8, 'upper0'), (9, 'lower0'), (10, 'hip1'), (11, 'upper1'), (12, 'lower1')]\n"
     ]
    }
   ],
   "source": [
    "# Let's print\n",
    "link_names = [(link.id(), link.name()) for link in robot.links()]\n",
    "link_names.sort()\n",
    "print(link_names)"
   ]
  },
  {
   "cell_type": "code",
   "execution_count": 4,
   "metadata": {},
   "outputs": [
    {
     "name": "stdout",
     "output_type": "stream",
     "text": [
      "lower0 [ 0.14339896  0.1575     -0.15584766]\n",
      "lower1 [-0.50660104  0.1575     -0.15584766]\n",
      "lower2 [ 0.14339896 -0.1575     -0.15584766]\n",
      "lower3 [-0.50660104 -0.1575     -0.15584766]\n"
     ]
    }
   ],
   "source": [
    "# Figure out which feet are front, back:\n",
    "for name in [\"lower0\",\"lower1\",\"lower2\",\"lower3\"]:\n",
    "    print(name, robot.link(name).wTcom().translation())"
   ]
  },
  {
   "cell_type": "code",
   "execution_count": 5,
   "metadata": {},
   "outputs": [
    {
     "name": "stdout",
     "output_type": "stream",
     "text": [
      "[('LH', 12), ('LF', 9), ('RF', 3), ('RH', 6)]\n"
     ]
    }
   ],
   "source": [
    "mapping = {\n",
    "    \"LH\":robot.link(\"lower1\"),\n",
    "    \"LF\":robot.link(\"lower0\"),\n",
    "    \"RF\":robot.link(\"lower2\"),\n",
    "    \"RH\":robot.link(\"lower3\"),\n",
    "    }\n",
    "print([(key,link.id()) for key,link in mapping.items()])"
   ]
  },
  {
   "cell_type": "code",
   "execution_count": 6,
   "metadata": {},
   "outputs": [
    {
     "ename": "AttributeError",
     "evalue": "module 'gtdynamics' has no attribute 'Phase'",
     "output_type": "error",
     "traceback": [
      "\u001b[0;31m---------------------------------------------------------------------------\u001b[0m",
      "\u001b[0;31mAttributeError\u001b[0m                            Traceback (most recent call last)",
      "\u001b[0;32m<ipython-input-6-8ed474bc271e>\u001b[0m in \u001b[0;36m<module>\u001b[0;34m\u001b[0m\n\u001b[1;32m      1\u001b[0m \u001b[0;31m# Create walking phases\u001b[0m\u001b[0;34m\u001b[0m\u001b[0;34m\u001b[0m\u001b[0;34m\u001b[0m\u001b[0m\n\u001b[0;32m----> 2\u001b[0;31m \u001b[0mstationary\u001b[0m \u001b[0;34m=\u001b[0m \u001b[0mgtd\u001b[0m\u001b[0;34m.\u001b[0m\u001b[0mPhase\u001b[0m\u001b[0;34m(\u001b[0m\u001b[0mrobot\u001b[0m\u001b[0;34m,\u001b[0m \u001b[0;36m1\u001b[0m\u001b[0;34m)\u001b[0m\u001b[0;34m\u001b[0m\u001b[0;34m\u001b[0m\u001b[0m\n\u001b[0m\u001b[1;32m      3\u001b[0m \u001b[0mstationary\u001b[0m\u001b[0;34m.\u001b[0m\u001b[0maddContactPoint\u001b[0m\u001b[0;34m(\u001b[0m\u001b[0;34m\"lower0\"\u001b[0m\u001b[0;34m,\u001b[0m \u001b[0mPoint3\u001b[0m\u001b[0;34m(\u001b[0m\u001b[0;36m1\u001b[0m\u001b[0;34m,\u001b[0m \u001b[0;36m1\u001b[0m\u001b[0;34m,\u001b[0m \u001b[0;36m1\u001b[0m\u001b[0;34m)\u001b[0m\u001b[0;34m,\u001b[0m \u001b[0;36m0.0\u001b[0m\u001b[0;34m)\u001b[0m\u001b[0;34m;\u001b[0m\u001b[0;34m\u001b[0m\u001b[0;34m\u001b[0m\u001b[0m\n\u001b[1;32m      4\u001b[0m \u001b[0mprint\u001b[0m\u001b[0;34m(\u001b[0m\u001b[0mstationary\u001b[0m\u001b[0;34m)\u001b[0m\u001b[0;34m\u001b[0m\u001b[0;34m\u001b[0m\u001b[0m\n",
      "\u001b[0;31mAttributeError\u001b[0m: module 'gtdynamics' has no attribute 'Phase'"
     ]
    }
   ],
   "source": [
    "# Create walking phases\n",
    "stationary = gtd.Phase(1)\n",
    "stationary.addContactPoint(\"lower0\", Point3(1, 1, 1));\n",
    "print(stationary)"
   ]
  },
  {
   "cell_type": "code",
   "execution_count": null,
   "metadata": {},
   "outputs": [],
   "source": []
  }
 ],
 "metadata": {
  "kernelspec": {
   "display_name": "Python 3",
   "language": "python",
   "name": "python3"
  },
  "language_info": {
   "codemirror_mode": {
    "name": "ipython",
    "version": 3
   },
   "file_extension": ".py",
   "mimetype": "text/x-python",
   "name": "python",
   "nbconvert_exporter": "python",
   "pygments_lexer": "ipython3",
   "version": "3.8.5"
  }
 },
 "nbformat": 4,
 "nbformat_minor": 2
}
