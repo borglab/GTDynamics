{
 "metadata": {
  "language_info": {
   "codemirror_mode": {
    "name": "ipython",
    "version": 3
   },
   "file_extension": ".py",
   "mimetype": "text/x-python",
   "name": "python",
   "nbconvert_exporter": "python",
   "pygments_lexer": "ipython3",
   "version": "3.7.6"
  },
  "orig_nbformat": 2,
  "kernelspec": {
   "name": "python376jvsc74a57bd0cf5ba4561f13e182f8bb4211efd31352d5bcc4fd9f227cefcb3cfb0b495ac329",
   "display_name": "Python 3.7.6 64-bit ('base': conda)"
  }
 },
 "nbformat": 4,
 "nbformat_minor": 2,
 "cells": [
  {
   "source": [
    "# Quadruped Walking"
   ],
   "cell_type": "markdown",
   "metadata": {}
  },
  {
   "cell_type": "code",
   "execution_count": null,
   "metadata": {},
   "outputs": [],
   "source": [
    "import gtdynamics as gtd\n",
    "from gtsam import Pose3, Point3\n",
    "import plotly.express as px"
   ]
  },
  {
   "cell_type": "code",
   "execution_count": null,
   "metadata": {},
   "outputs": [],
   "source": [
    "# Load the vision 60 quadruped by Ghost robotics: https://youtu.be/wrBNJKZKg10\n",
    "robot = gtd.CreateRobotFromFile(gtd.URDF_PATH + \"/vision60.urdf\");"
   ]
  },
  {
   "cell_type": "code",
   "execution_count": null,
   "metadata": {},
   "outputs": [],
   "source": [
    "# Let's print\n",
    "link_names = [(link.id(), link.name()) for link in robot.links()]\n",
    "link_names.sort()\n",
    "print(link_names)"
   ]
  },
  {
   "cell_type": "code",
   "execution_count": null,
   "metadata": {},
   "outputs": [],
   "source": [
    "# Figure out which feet are front, back:\n",
    "for name in [\"lower0\",\"lower1\",\"lower2\",\"lower3\"]:\n",
    "    print(name, robot.link(name).wTcom().translation())"
   ]
  },
  {
   "cell_type": "code",
   "execution_count": null,
   "metadata": {},
   "outputs": [],
   "source": [
    "mapping = {\n",
    "    \"LH\":robot.link(\"lower1\"),\n",
    "    \"LF\":robot.link(\"lower0\"),\n",
    "    \"RF\":robot.link(\"lower2\"),\n",
    "    \"RH\":robot.link(\"lower3\"),\n",
    "    }\n",
    "print([(key,link.id()) for key,link in mapping.items()])"
   ]
  },
  {
   "cell_type": "code",
   "execution_count": null,
   "metadata": {},
   "outputs": [],
   "source": [
    "# Create walking phases\n",
    "stationary = gtd.Phase(robot, 1)\n",
    "stationary.addContactPoint(\"lower0\", Point3(1, 1, 1), 0.0);\n",
    "print(stationary)"
   ]
  },
  {
   "cell_type": "code",
   "execution_count": null,
   "metadata": {},
   "outputs": [],
   "source": []
  }
 ]
}