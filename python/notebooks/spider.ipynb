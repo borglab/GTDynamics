{
 "metadata": {
  "language_info": {
   "codemirror_mode": {
    "name": "ipython",
    "version": 3
   },
   "file_extension": ".py",
   "mimetype": "text/x-python",
   "name": "python",
   "nbconvert_exporter": "python",
   "pygments_lexer": "ipython3",
   "version": "3.7.6"
  },
  "orig_nbformat": 2,
  "kernelspec": {
   "name": "python376jvsc74a57bd0cf5ba4561f13e182f8bb4211efd31352d5bcc4fd9f227cefcb3cfb0b495ac329",
   "display_name": "Python 3.7.6 64-bit ('base': conda)"
  }
 },
 "nbformat": 4,
 "nbformat_minor": 2,
 "cells": [
  {
   "source": [
    "# Spider Walking"
   ],
   "cell_type": "markdown",
   "metadata": {}
  },
  {
   "cell_type": "code",
   "execution_count": null,
   "metadata": {},
   "outputs": [],
   "source": [
    "import numpy as np\n",
    "\n",
    "import gtdynamics as gtd"
   ]
  },
  {
   "cell_type": "code",
   "execution_count": null,
   "metadata": {},
   "outputs": [],
   "source": [
    "from gtdynamics import Phase, WalkCycle, Trajectory\n",
    "\n",
    "import gtsam\n",
    "from gtsam import Pose3, Point3, Rot3\n",
    "from gtsam.noiseModel import Isotropic, Unit\n",
    "Z_6x1 = np.zeros((6,), float)\n",
    "\n",
    "import plotly.express as px"
   ]
  },
  {
   "cell_type": "code",
   "execution_count": null,
   "metadata": {},
   "outputs": [],
   "source": [
    "# Load Stephanie's spider robot.\n",
    "robot = gtd.CreateRobotFromFile(gtd.SDF_PATH + \"/spider_alt.sdf\", \"spider\")"
   ]
  },
  {
   "cell_type": "code",
   "execution_count": null,
   "metadata": {},
   "outputs": [],
   "source": [
    "# Noise models.\n",
    "sigma_dynamics = 1e-5    # std of dynamics constraints.\n",
    "sigma_objectives = 1e-6  # std of additional objectives.\n",
    "sigma_joints = 1.85e-4   # 1.85e-4\n",
    "\n",
    "dynamics_model_6 = Isotropic.Sigma(6, sigma_dynamics)\n",
    "dynamics_model_1 = Isotropic.Sigma(1, sigma_dynamics)\n",
    "dynamics_model_1_2 = Isotropic.Sigma(1, sigma_joints)\n",
    "objectives_model_6 = Isotropic.Sigma(6, sigma_objectives)\n",
    "objectives_model_1 = Isotropic.Sigma(1, sigma_objectives)"
   ]
  },
  {
   "cell_type": "code",
   "execution_count": null,
   "metadata": {},
   "outputs": [],
   "source": [
    "# Env parameters.\n",
    "gravity, mu = np.array([0, 0, -9.8]), 1.0\n",
    "\n",
    "opt = gtd.OptimizerSetting(sigma_dynamics)\n",
    "graph_builder = gtd.DynamicsGraph(opt, gravity, None)"
   ]
  },
  {
   "cell_type": "code",
   "execution_count": null,
   "metadata": {},
   "outputs": [],
   "source": [
    "# Create the trajectory, consisting of 3 walk cycles, each consisting of 4\n",
    "# phases: [stationary, odd, stationary, even].\n",
    "odd_links=[\"tarsus_1_L1\", \"tarsus_3_L3\", \"tarsus_5_R4\", \"tarsus_7_R2\"]\n",
    "even_links=[\"tarsus_2_L2\", \"tarsus_4_L4\", \"tarsus_6_R3\", \"tarsus_8_R1\"]\n",
    "links = odd_links + even_links\n",
    "\n",
    "contact_in_com = np.array([0, 0.19, 0])\n",
    "stationary = Phase(1, links, contact_in_com)\n",
    "odd = Phase(2, odd_links, contact_in_com)\n",
    "even = Phase(2, even_links, contact_in_com)\n",
    "\n",
    "walk_cycle = WalkCycle()\n",
    "walk_cycle.addPhase(stationary)\n",
    "walk_cycle.addPhase(even)\n",
    "walk_cycle.addPhase(stationary)\n",
    "walk_cycle.addPhase(odd)\n",
    "\n",
    "trajectory = Trajectory(robot, walk_cycle, 3)"
   ]
  },
  {
   "cell_type": "code",
   "execution_count": null,
   "metadata": {},
   "outputs": [],
   "source": [
    "# Create multi-phase trajectory factor graph\n",
    "collocation = gtd.CollocationScheme.Euler\n",
    "graph = trajectory.multiPhaseFactorGraph(graph_builder, collocation, mu)\n",
    "\n",
    "# Build the objective factors.\n",
    "step = np.array([0,0.4,0])\n",
    "objectives = trajectory.contactPointObjectives(Isotropic.Sigma(3, 1e-7), step)"
   ]
  },
  {
   "cell_type": "code",
   "execution_count": null,
   "metadata": {},
   "outputs": [],
   "source": [
    "# Get final time step.\n",
    "K = trajectory.getEndTimeStep(trajectory.numPhases() - 1)\n",
    "\n",
    "# Add base goal objectives to the factor graph.\n",
    "base_link = robot.link(\"body\")\n",
    "for k in range(K+1):\n",
    "    gtd.add_link_objectives(objectives, base_link.id(), k).pose(Pose3(Rot3(), Point3(0, 0.0, 0.5)), Isotropic.Sigma(6, 5e-5)).twist(Z_6x1, Isotropic.Sigma(6, 5e-5))"
   ]
  },
  {
   "cell_type": "code",
   "execution_count": null,
   "metadata": {},
   "outputs": [],
   "source": [
    "# Add link and joint boundary conditions to FG.\n",
    "trajectory.addBoundaryConditions(objectives, dynamics_model_6,\n",
    "                                dynamics_model_6, objectives_model_6,\n",
    "                                objectives_model_1, objectives_model_1)\n",
    "\n",
    "# Constrain all Phase keys to have duration of 1 /240.\n",
    "desired_dt = 1. / 240\n",
    "trajectory.addIntegrationTimeFactors(objectives, desired_dt, 1e-30)\n",
    "\n",
    "# Add min torque objectives.\n",
    "trajectory.addMinimumTorqueFactors(objectives, Unit.Create(1))"
   ]
  },
  {
   "cell_type": "code",
   "execution_count": null,
   "metadata": {},
   "outputs": [],
   "source": [
    "# Add prior on hip joint angles (spider specific)\n",
    "prior_model = Isotropic.Sigma(1, 1.85e-4)\n",
    "for joint in robot.joints():\n",
    "    if \"hip2\" in joint.name():\n",
    "        for k in range(K+1):\n",
    "            gtd.add_joint_objectives(objectives, joint.id(), k).angle(2.5, prior_model)"
   ]
  },
  {
   "cell_type": "code",
   "execution_count": null,
   "metadata": {},
   "outputs": [],
   "source": [
    "  # Add objectives to factor graph.\n",
    "  graph.push_back(objectives)"
   ]
  },
  {
   "cell_type": "code",
   "execution_count": null,
   "metadata": {},
   "outputs": [],
   "source": [
    "# Initialize solution.\n",
    "gaussian_noise = 1e-5\n",
    "init_vals = trajectory.multiPhaseInitialValues(gaussian_noise, desired_dt)"
   ]
  },
  {
   "cell_type": "code",
   "execution_count": null,
   "metadata": {},
   "outputs": [],
   "source": [
    "# Optimize!\n",
    "params = gtsam.LevenbergMarquardtParams()\n",
    "params.setVerbosityLM(\"SUMMARY\")\n",
    "params.setlambdaInitial(1e10)\n",
    "params.setlambdaLowerBound(1e-7)\n",
    "params.setlambdaUpperBound(1e10)\n",
    "params.setAbsoluteErrorTol(1.0)\n",
    "optimizer = gtsam.LevenbergMarquardtOptimizer(graph, init_vals, params)\n",
    "results = optimizer.optimize()"
   ]
  },
  {
   "cell_type": "code",
   "execution_count": null,
   "metadata": {},
   "outputs": [],
   "source": [
    "graph.error(results)"
   ]
  },
  {
   "cell_type": "code",
   "execution_count": null,
   "metadata": {},
   "outputs": [],
   "source": [
    "trajectory.writeToFile(\"spider.csv\", results);\n"
   ]
  }
 ]
}