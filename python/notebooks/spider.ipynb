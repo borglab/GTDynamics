{
 "cells": [
  {
   "cell_type": "markdown",
   "source": [
    "# Spider Walking"
   ],
   "metadata": {}
  },
  {
   "cell_type": "code",
   "execution_count": 1,
   "source": [
    "import numpy as np\n",
    "\n",
    "import gtdynamics as gtd"
   ],
   "outputs": [],
   "metadata": {}
  },
  {
   "cell_type": "code",
   "execution_count": 2,
   "source": [
    "from gtdynamics import Phase, WalkCycle, Trajectory\n",
    "\n",
    "import gtsam\n",
    "from gtsam import Pose3, Point3, Rot3\n",
    "from gtsam.noiseModel import Isotropic, Unit\n",
    "Z_6x1 = np.zeros((6,), float)\n",
    "\n",
    "import plotly.express as px"
   ],
   "outputs": [],
   "metadata": {}
  },
  {
   "cell_type": "code",
   "execution_count": 3,
   "source": [
    "# Load Stephanie's spider robot.\n",
    "robot = gtd.CreateRobotFromFile(gtd.SDF_PATH + \"/spider_alt.sdf\", \"spider\")"
   ],
   "outputs": [],
   "metadata": {}
  },
  {
   "cell_type": "code",
   "execution_count": 4,
   "source": [
    "# Noise models.\n",
    "sigma_dynamics = 1e-5    # std of dynamics constraints.\n",
    "sigma_objectives = 1e-6  # std of additional objectives.\n",
    "sigma_joints = 1.85e-4   # 1.85e-4\n",
    "\n",
    "dynamics_model_6 = Isotropic.Sigma(6, sigma_dynamics)\n",
    "dynamics_model_1 = Isotropic.Sigma(1, sigma_dynamics)\n",
    "dynamics_model_1_2 = Isotropic.Sigma(1, sigma_joints)\n",
    "objectives_model_6 = Isotropic.Sigma(6, sigma_objectives)\n",
    "objectives_model_1 = Isotropic.Sigma(1, sigma_objectives)"
   ],
   "outputs": [],
   "metadata": {}
  },
  {
   "cell_type": "code",
   "execution_count": 5,
   "source": [
    "# Env parameters.\n",
    "gravity, mu = np.array([0, 0, -9.8]), 1.0\n",
    "\n",
    "opt = gtd.OptimizerSetting(sigma_dynamics)\n",
    "graph_builder = gtd.DynamicsGraph(opt, gravity, None)"
   ],
   "outputs": [],
   "metadata": {}
  },
  {
   "cell_type": "code",
   "execution_count": 8,
   "source": [
    "# Create the trajectory, consisting of 3 walk cycles, each consisting of 4\n",
    "# phases: [stationary, odd, stationary, even].\n",
    "odd_links=[robot.link(name) for name in [\n",
    "    \"tarsus_1_L1\", \"tarsus_3_L3\", \"tarsus_5_R4\", \"tarsus_7_R2\"]]\n",
    "even_links=[robot.link(name) for name in [\n",
    "    \"tarsus_2_L2\", \"tarsus_4_L4\", \"tarsus_6_R3\", \"tarsus_8_R1\"]]\n",
    "links = odd_links + even_links\n",
    "\n",
    "contact_in_com = np.array([0, 0.19, 0])\n",
    "stationary = Phase(20, links, contact_in_com)\n",
    "odd = Phase(20, odd_links, contact_in_com)\n",
    "even = Phase(20, even_links, contact_in_com)\n",
    "\n",
    "walk_cycle = WalkCycle()\n",
    "walk_cycle.addPhase(stationary)\n",
    "walk_cycle.addPhase(even)\n",
    "walk_cycle.addPhase(stationary)\n",
    "walk_cycle.addPhase(odd)\n",
    "\n",
    "trajectory = Trajectory(walk_cycle, 4)"
   ],
   "outputs": [],
   "metadata": {}
  },
  {
   "cell_type": "code",
   "execution_count": 11,
   "source": [
    "# Create multi-phase trajectory factor graph\n",
    "collocation = gtd.CollocationScheme.Euler\n",
    "graph = trajectory.multiPhaseFactorGraph(robot, graph_builder, collocation, mu)\n",
    "\n",
    "# Build the objective factors.\n",
    "ground_height = 1.0 # ??\n",
    "step = np.array([0,0.4,0])\n",
    "objectives = trajectory.contactPointObjectives(robot, \n",
    "                Isotropic.Sigma(3, 1e-7), step, ground_height)"
   ],
   "outputs": [],
   "metadata": {}
  },
  {
   "cell_type": "code",
   "execution_count": 12,
   "source": [
    "# Get final time step.\n",
    "K = trajectory.getEndTimeStep(trajectory.numPhases() - 1)\n",
    "\n",
    "# Add base goal objectives to the factor graph.\n",
    "base_link = robot.link(\"body\")\n",
    "\n",
    "    \n",
    "for k in range(K+1):\n",
    "    objectives.push_back(gtd.LinkObjectives(base_link.id(), k).pose(Pose3(Rot3(), Point3(0, 0.0, 0.5)), Isotropic.Sigma(6, 5e-5)).twist(Z_6x1, Isotropic.Sigma(6, 5e-5)))\n",
    "\n"
   ],
   "outputs": [],
   "metadata": {}
  },
  {
   "cell_type": "code",
   "execution_count": 15,
   "source": [
    "# Add link and joint boundary conditions to FG.\n",
    "trajectory.addBoundaryConditions(objectives, robot, dynamics_model_6,\n",
    "                                dynamics_model_6, objectives_model_6,\n",
    "                                objectives_model_1, objectives_model_1)\n",
    "\n",
    "# Constrain all Phase keys to have duration of 1 /240.\n",
    "desired_dt = 1. / 240\n",
    "trajectory.addIntegrationTimeFactors(objectives, desired_dt, 1e-30)\n",
    "\n",
    "# Add min torque objectives.\n",
    "trajectory.addMinimumTorqueFactors(objectives, robot, Unit.Create(1))"
   ],
   "outputs": [],
   "metadata": {}
  },
  {
   "cell_type": "code",
   "execution_count": 16,
   "source": [
    "# Add prior on hip joint angles (spider specific)\n",
    "prior_model = Isotropic.Sigma(1, 1.85e-4)\n",
    "for joint in robot.joints():\n",
    "    if \"hip2\" in joint.name():\n",
    "        for k in range(K+1):\n",
    "            objectives.push_back(gtd.JointObjectives(joint.id(), k).angle(2.5, prior_model))"
   ],
   "outputs": [],
   "metadata": {}
  },
  {
   "cell_type": "code",
   "execution_count": 17,
   "source": [
    "  # Add objectives to factor graph.\n",
    "  graph.push_back(objectives)"
   ],
   "outputs": [],
   "metadata": {}
  },
  {
   "cell_type": "code",
   "execution_count": 19,
   "source": [
    "# Initialize solution.\n",
    "gaussian_noise = 1e-5\n",
    "init_vals = trajectory.multiPhaseInitialValues(robot, gaussian_noise, desired_dt)"
   ],
   "outputs": [],
   "metadata": {}
  },
  {
   "cell_type": "code",
   "execution_count": null,
   "source": [
    "# Optimize!\n",
    "params = gtsam.LevenbergMarquardtParams()\n",
    "params.setVerbosityLM(\"SUMMARY\")\n",
    "params.setlambdaInitial(1e10)\n",
    "params.setlambdaLowerBound(1e-7)\n",
    "params.setlambdaUpperBound(1e10)\n",
    "params.setAbsoluteErrorTol(1.0)\n",
    "optimizer = gtsam.LevenbergMarquardtOptimizer(graph, init_vals, params)\n",
    "results = optimizer.optimize()"
   ],
   "outputs": [],
   "metadata": {}
  },
  {
   "cell_type": "code",
   "execution_count": null,
   "source": [
    "graph.error(results)"
   ],
   "outputs": [],
   "metadata": {}
  },
  {
   "cell_type": "code",
   "execution_count": null,
   "source": [
    "trajectory.writeToFile(\"spider.csv\", results);"
   ],
   "outputs": [],
   "metadata": {}
  }
 ],
 "metadata": {
  "kernelspec": {
   "name": "python3",
   "display_name": "Python 3.9.6 64-bit ('base': conda)"
  },
  "language_info": {
   "name": "python",
   "version": "3.9.6",
   "mimetype": "text/x-python",
   "codemirror_mode": {
    "name": "ipython",
    "version": 3
   },
   "pygments_lexer": "ipython3",
   "nbconvert_exporter": "python",
   "file_extension": ".py"
  },
  "interpreter": {
   "hash": "95ec9ec1504d83f612128e0fb229072f90bbb4cb09d9d5d93b5dd26e0ca2cfd1"
  }
 },
 "nbformat": 4,
 "nbformat_minor": 2
}